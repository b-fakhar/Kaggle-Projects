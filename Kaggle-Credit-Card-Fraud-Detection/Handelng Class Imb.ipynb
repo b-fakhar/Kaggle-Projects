{
 "cells": [
  {
   "cell_type": "markdown",
   "metadata": {},
   "source": [
    "<h1><center><font size=\"6\"> Kaggle Project: Credit Card Fraud Detection</font></center></h1>\n",
    "\n",
    "<h2><center><font size=\"4\"> https://www.kaggle.com/mlg-ulb/creditcardfraud </font></center></h2>"
   ]
  },
  {
   "cell_type": "markdown",
   "metadata": {},
   "source": [
    "This notebook compares the model with and without handeling class imbalance problem."
   ]
  },
  {
   "cell_type": "markdown",
   "metadata": {},
   "source": [
    "## Table of  Contents\n",
    "1. [Initialization](#1)\n",
    "    1. [Load packages](#11)\n",
    "    1. [Define Metadata](#12)   \n",
    "1. [Load Processed Data and Validate](#2)\n",
    "1. [Check Class Distribution](#3)\n",
    "1. [Prepraring Data before Handeling Class Imbalance](#4)\n",
    "    1. [Normalizing numerical variables](#41)\n",
    "    1. [Feature - Target Split](#42)\n",
    "    1. [Train-Test Split](#43) \n",
    "1. [Evauate classification Model without handling Class Imbalance](#5)\n",
    "    1. [Initialize RF Classifier](#51)\n",
    "    1. [Evaluate RF Classifier Perfomance](#52)\n",
    "    1. [Precision at Recall-Threshold Evaluation Metric](#53)\n",
    "1. [Data Skewness Correction via Resampling Strategies](#6)\n",
    "    1. [Undersampling - RandomUnderSampler](#61)\n",
    "    1. [Oversampling - SMOTE](#62)\n",
    "    1. [Hybrid Oversampling and Undersampling - SMOTEENN](#63)\n",
    "    1. [Custom Oversampling Method](#63)\n",
    "1. [Conclusion](#7)\n"
   ]
  },
  {
   "cell_type": "markdown",
   "metadata": {},
   "source": [
    "## <a id='1'>1. Initialization</a>  "
   ]
  },
  {
   "cell_type": "markdown",
   "metadata": {},
   "source": [
    "### <a id='11'>A. Load Packages</a>  "
   ]
  },
  {
   "cell_type": "code",
   "execution_count": 1,
   "metadata": {},
   "outputs": [],
   "source": [
    "import os\n",
    "import sys\n",
    "\n",
    "import pandas as pd \n",
    "import numpy as np\n",
    "\n",
    "# Visualization\n",
    "import matplotlib.pyplot as plt\n",
    "%matplotlib inline\n",
    "\n",
    "import seaborn as sn\n",
    "\n",
    "\n",
    "# split into train and test set \n",
    "from sklearn.model_selection import train_test_split\n",
    "\n",
    "# Classifier\n",
    "from sklearn.ensemble import RandomForestClassifier\n",
    "\n",
    "# Performance evaluation\n",
    "from sklearn.metrics import precision_score, recall_score, f1_score, roc_auc_score\n",
    "from sklearn.metrics import precision_recall_curve, fbeta_score\n",
    "from sklearn.metrics import classification_report\n",
    "from sklearn.metrics import confusion_matrix\n",
    "from sklearn.metrics import roc_curve\n",
    "from collections import Counter\n",
    "\n",
    "# Resampling Techniques\n",
    "from imblearn.under_sampling import RandomUnderSampler\n",
    "from imblearn.over_sampling import SMOTE\n",
    "from imblearn.combine import SMOTEENN\n",
    "\n",
    "from sklearn.utils import shuffle\n",
    "\n",
    "import warnings\n",
    "warnings.filterwarnings('ignore')\n",
    "# This is to suppress any deprecation warnings \n"
   ]
  },
  {
   "cell_type": "markdown",
   "metadata": {},
   "source": [
    "### <a id='12'>B. Define Metadata</a>  "
   ]
  },
  {
   "cell_type": "code",
   "execution_count": 2,
   "metadata": {},
   "outputs": [],
   "source": [
    "# Define the name of the target class column here instead of manually typing it out everywhere\n",
    "target_class_name = 'Class'\n",
    "\n",
    "# Fill in the names of what you want to call the 0 and 1 class\n",
    "labels = ['Non-Fraud', 'Fraud']\n",
    "\n",
    "input_file_name = 'creditcard.csv'"
   ]
  },
  {
   "cell_type": "markdown",
   "metadata": {},
   "source": [
    "## <a id='2'>2. Load Processed Data and Validate</a> "
   ]
  },
  {
   "cell_type": "code",
   "execution_count": 3,
   "metadata": {},
   "outputs": [
    {
     "data": {
      "text/html": [
       "<div>\n",
       "<style scoped>\n",
       "    .dataframe tbody tr th:only-of-type {\n",
       "        vertical-align: middle;\n",
       "    }\n",
       "\n",
       "    .dataframe tbody tr th {\n",
       "        vertical-align: top;\n",
       "    }\n",
       "\n",
       "    .dataframe thead th {\n",
       "        text-align: right;\n",
       "    }\n",
       "</style>\n",
       "<table border=\"1\" class=\"dataframe\">\n",
       "  <thead>\n",
       "    <tr style=\"text-align: right;\">\n",
       "      <th></th>\n",
       "      <th>Time</th>\n",
       "      <th>V1</th>\n",
       "      <th>V2</th>\n",
       "      <th>V3</th>\n",
       "      <th>V4</th>\n",
       "      <th>V5</th>\n",
       "      <th>V6</th>\n",
       "      <th>V7</th>\n",
       "      <th>V8</th>\n",
       "      <th>V9</th>\n",
       "      <th>...</th>\n",
       "      <th>V21</th>\n",
       "      <th>V22</th>\n",
       "      <th>V23</th>\n",
       "      <th>V24</th>\n",
       "      <th>V25</th>\n",
       "      <th>V26</th>\n",
       "      <th>V27</th>\n",
       "      <th>V28</th>\n",
       "      <th>Amount</th>\n",
       "      <th>Class</th>\n",
       "    </tr>\n",
       "  </thead>\n",
       "  <tbody>\n",
       "    <tr>\n",
       "      <th>138552</th>\n",
       "      <td>82718.0</td>\n",
       "      <td>0.701452</td>\n",
       "      <td>-0.459548</td>\n",
       "      <td>0.166602</td>\n",
       "      <td>1.281531</td>\n",
       "      <td>0.352891</td>\n",
       "      <td>2.163467</td>\n",
       "      <td>-0.548278</td>\n",
       "      <td>0.749445</td>\n",
       "      <td>0.558495</td>\n",
       "      <td>...</td>\n",
       "      <td>0.124997</td>\n",
       "      <td>0.496999</td>\n",
       "      <td>-0.171507</td>\n",
       "      <td>-1.393277</td>\n",
       "      <td>0.328284</td>\n",
       "      <td>-0.158921</td>\n",
       "      <td>0.114431</td>\n",
       "      <td>0.046147</td>\n",
       "      <td>138.88</td>\n",
       "      <td>0</td>\n",
       "    </tr>\n",
       "    <tr>\n",
       "      <th>73420</th>\n",
       "      <td>55128.0</td>\n",
       "      <td>-0.613953</td>\n",
       "      <td>1.158226</td>\n",
       "      <td>1.164120</td>\n",
       "      <td>0.035502</td>\n",
       "      <td>-0.069853</td>\n",
       "      <td>-1.060066</td>\n",
       "      <td>0.595327</td>\n",
       "      <td>0.000539</td>\n",
       "      <td>-0.031549</td>\n",
       "      <td>...</td>\n",
       "      <td>-0.307787</td>\n",
       "      <td>-0.804464</td>\n",
       "      <td>0.008912</td>\n",
       "      <td>0.301456</td>\n",
       "      <td>-0.145786</td>\n",
       "      <td>0.080578</td>\n",
       "      <td>0.347939</td>\n",
       "      <td>0.160320</td>\n",
       "      <td>5.99</td>\n",
       "      <td>0</td>\n",
       "    </tr>\n",
       "    <tr>\n",
       "      <th>245173</th>\n",
       "      <td>152635.0</td>\n",
       "      <td>-1.129981</td>\n",
       "      <td>0.091727</td>\n",
       "      <td>2.183192</td>\n",
       "      <td>-0.123982</td>\n",
       "      <td>-0.037354</td>\n",
       "      <td>0.463186</td>\n",
       "      <td>1.104135</td>\n",
       "      <td>0.038478</td>\n",
       "      <td>0.247361</td>\n",
       "      <td>...</td>\n",
       "      <td>0.010187</td>\n",
       "      <td>-0.254171</td>\n",
       "      <td>0.104183</td>\n",
       "      <td>0.620697</td>\n",
       "      <td>0.558423</td>\n",
       "      <td>-0.848670</td>\n",
       "      <td>-0.163536</td>\n",
       "      <td>-0.129269</td>\n",
       "      <td>185.00</td>\n",
       "      <td>0</td>\n",
       "    </tr>\n",
       "    <tr>\n",
       "      <th>194601</th>\n",
       "      <td>130674.0</td>\n",
       "      <td>2.134988</td>\n",
       "      <td>-0.820859</td>\n",
       "      <td>-1.219295</td>\n",
       "      <td>-0.953809</td>\n",
       "      <td>-0.662976</td>\n",
       "      <td>-1.047696</td>\n",
       "      <td>-0.467734</td>\n",
       "      <td>-0.239688</td>\n",
       "      <td>-0.722168</td>\n",
       "      <td>...</td>\n",
       "      <td>0.516461</td>\n",
       "      <td>1.440337</td>\n",
       "      <td>-0.018623</td>\n",
       "      <td>0.074134</td>\n",
       "      <td>0.118915</td>\n",
       "      <td>0.055080</td>\n",
       "      <td>-0.040642</td>\n",
       "      <td>-0.072265</td>\n",
       "      <td>28.85</td>\n",
       "      <td>0</td>\n",
       "    </tr>\n",
       "    <tr>\n",
       "      <th>160739</th>\n",
       "      <td>113593.0</td>\n",
       "      <td>-0.186318</td>\n",
       "      <td>0.956181</td>\n",
       "      <td>0.104704</td>\n",
       "      <td>-0.661320</td>\n",
       "      <td>0.361138</td>\n",
       "      <td>-1.078314</td>\n",
       "      <td>0.948649</td>\n",
       "      <td>-0.145188</td>\n",
       "      <td>0.278507</td>\n",
       "      <td>...</td>\n",
       "      <td>-0.312106</td>\n",
       "      <td>-0.686765</td>\n",
       "      <td>0.067470</td>\n",
       "      <td>-0.141956</td>\n",
       "      <td>-0.446068</td>\n",
       "      <td>0.155112</td>\n",
       "      <td>0.354829</td>\n",
       "      <td>0.150550</td>\n",
       "      <td>7.88</td>\n",
       "      <td>0</td>\n",
       "    </tr>\n",
       "  </tbody>\n",
       "</table>\n",
       "<p>5 rows × 31 columns</p>\n",
       "</div>"
      ],
      "text/plain": [
       "            Time        V1        V2        V3        V4        V5        V6  \\\n",
       "138552   82718.0  0.701452 -0.459548  0.166602  1.281531  0.352891  2.163467   \n",
       "73420    55128.0 -0.613953  1.158226  1.164120  0.035502 -0.069853 -1.060066   \n",
       "245173  152635.0 -1.129981  0.091727  2.183192 -0.123982 -0.037354  0.463186   \n",
       "194601  130674.0  2.134988 -0.820859 -1.219295 -0.953809 -0.662976 -1.047696   \n",
       "160739  113593.0 -0.186318  0.956181  0.104704 -0.661320  0.361138 -1.078314   \n",
       "\n",
       "              V7        V8        V9  ...       V21       V22       V23  \\\n",
       "138552 -0.548278  0.749445  0.558495  ...  0.124997  0.496999 -0.171507   \n",
       "73420   0.595327  0.000539 -0.031549  ... -0.307787 -0.804464  0.008912   \n",
       "245173  1.104135  0.038478  0.247361  ...  0.010187 -0.254171  0.104183   \n",
       "194601 -0.467734 -0.239688 -0.722168  ...  0.516461  1.440337 -0.018623   \n",
       "160739  0.948649 -0.145188  0.278507  ... -0.312106 -0.686765  0.067470   \n",
       "\n",
       "             V24       V25       V26       V27       V28  Amount  Class  \n",
       "138552 -1.393277  0.328284 -0.158921  0.114431  0.046147  138.88      0  \n",
       "73420   0.301456 -0.145786  0.080578  0.347939  0.160320    5.99      0  \n",
       "245173  0.620697  0.558423 -0.848670 -0.163536 -0.129269  185.00      0  \n",
       "194601  0.074134  0.118915  0.055080 -0.040642 -0.072265   28.85      0  \n",
       "160739 -0.141956 -0.446068  0.155112  0.354829  0.150550    7.88      0  \n",
       "\n",
       "[5 rows x 31 columns]"
      ]
     },
     "execution_count": 3,
     "metadata": {},
     "output_type": "execute_result"
    }
   ],
   "source": [
    "df = pd.read_csv('C:/Behnaz/Data Science/Kaggle Dataset/' + input_file_name)\n",
    "df.sample(5)"
   ]
  },
  {
   "cell_type": "markdown",
   "metadata": {},
   "source": [
    "Let's validate the dataset to see if  \n",
    "- there are some unwanted headers.\n",
    "- there are any problem in the tail."
   ]
  },
  {
   "cell_type": "code",
   "execution_count": 4,
   "metadata": {},
   "outputs": [
    {
     "data": {
      "text/html": [
       "<div>\n",
       "<style scoped>\n",
       "    .dataframe tbody tr th:only-of-type {\n",
       "        vertical-align: middle;\n",
       "    }\n",
       "\n",
       "    .dataframe tbody tr th {\n",
       "        vertical-align: top;\n",
       "    }\n",
       "\n",
       "    .dataframe thead th {\n",
       "        text-align: right;\n",
       "    }\n",
       "</style>\n",
       "<table border=\"1\" class=\"dataframe\">\n",
       "  <thead>\n",
       "    <tr style=\"text-align: right;\">\n",
       "      <th></th>\n",
       "      <th>Time</th>\n",
       "      <th>V1</th>\n",
       "      <th>V2</th>\n",
       "      <th>V3</th>\n",
       "      <th>V4</th>\n",
       "      <th>V5</th>\n",
       "      <th>V6</th>\n",
       "      <th>V7</th>\n",
       "      <th>V8</th>\n",
       "      <th>V9</th>\n",
       "      <th>...</th>\n",
       "      <th>V21</th>\n",
       "      <th>V22</th>\n",
       "      <th>V23</th>\n",
       "      <th>V24</th>\n",
       "      <th>V25</th>\n",
       "      <th>V26</th>\n",
       "      <th>V27</th>\n",
       "      <th>V28</th>\n",
       "      <th>Amount</th>\n",
       "      <th>Class</th>\n",
       "    </tr>\n",
       "  </thead>\n",
       "  <tbody>\n",
       "    <tr>\n",
       "      <th>0</th>\n",
       "      <td>0.0</td>\n",
       "      <td>-1.359807</td>\n",
       "      <td>-0.072781</td>\n",
       "      <td>2.536347</td>\n",
       "      <td>1.378155</td>\n",
       "      <td>-0.338321</td>\n",
       "      <td>0.462388</td>\n",
       "      <td>0.239599</td>\n",
       "      <td>0.098698</td>\n",
       "      <td>0.363787</td>\n",
       "      <td>...</td>\n",
       "      <td>-0.018307</td>\n",
       "      <td>0.277838</td>\n",
       "      <td>-0.110474</td>\n",
       "      <td>0.066928</td>\n",
       "      <td>0.128539</td>\n",
       "      <td>-0.189115</td>\n",
       "      <td>0.133558</td>\n",
       "      <td>-0.021053</td>\n",
       "      <td>149.62</td>\n",
       "      <td>0</td>\n",
       "    </tr>\n",
       "    <tr>\n",
       "      <th>1</th>\n",
       "      <td>0.0</td>\n",
       "      <td>1.191857</td>\n",
       "      <td>0.266151</td>\n",
       "      <td>0.166480</td>\n",
       "      <td>0.448154</td>\n",
       "      <td>0.060018</td>\n",
       "      <td>-0.082361</td>\n",
       "      <td>-0.078803</td>\n",
       "      <td>0.085102</td>\n",
       "      <td>-0.255425</td>\n",
       "      <td>...</td>\n",
       "      <td>-0.225775</td>\n",
       "      <td>-0.638672</td>\n",
       "      <td>0.101288</td>\n",
       "      <td>-0.339846</td>\n",
       "      <td>0.167170</td>\n",
       "      <td>0.125895</td>\n",
       "      <td>-0.008983</td>\n",
       "      <td>0.014724</td>\n",
       "      <td>2.69</td>\n",
       "      <td>0</td>\n",
       "    </tr>\n",
       "    <tr>\n",
       "      <th>2</th>\n",
       "      <td>1.0</td>\n",
       "      <td>-1.358354</td>\n",
       "      <td>-1.340163</td>\n",
       "      <td>1.773209</td>\n",
       "      <td>0.379780</td>\n",
       "      <td>-0.503198</td>\n",
       "      <td>1.800499</td>\n",
       "      <td>0.791461</td>\n",
       "      <td>0.247676</td>\n",
       "      <td>-1.514654</td>\n",
       "      <td>...</td>\n",
       "      <td>0.247998</td>\n",
       "      <td>0.771679</td>\n",
       "      <td>0.909412</td>\n",
       "      <td>-0.689281</td>\n",
       "      <td>-0.327642</td>\n",
       "      <td>-0.139097</td>\n",
       "      <td>-0.055353</td>\n",
       "      <td>-0.059752</td>\n",
       "      <td>378.66</td>\n",
       "      <td>0</td>\n",
       "    </tr>\n",
       "    <tr>\n",
       "      <th>3</th>\n",
       "      <td>1.0</td>\n",
       "      <td>-0.966272</td>\n",
       "      <td>-0.185226</td>\n",
       "      <td>1.792993</td>\n",
       "      <td>-0.863291</td>\n",
       "      <td>-0.010309</td>\n",
       "      <td>1.247203</td>\n",
       "      <td>0.237609</td>\n",
       "      <td>0.377436</td>\n",
       "      <td>-1.387024</td>\n",
       "      <td>...</td>\n",
       "      <td>-0.108300</td>\n",
       "      <td>0.005274</td>\n",
       "      <td>-0.190321</td>\n",
       "      <td>-1.175575</td>\n",
       "      <td>0.647376</td>\n",
       "      <td>-0.221929</td>\n",
       "      <td>0.062723</td>\n",
       "      <td>0.061458</td>\n",
       "      <td>123.50</td>\n",
       "      <td>0</td>\n",
       "    </tr>\n",
       "    <tr>\n",
       "      <th>4</th>\n",
       "      <td>2.0</td>\n",
       "      <td>-1.158233</td>\n",
       "      <td>0.877737</td>\n",
       "      <td>1.548718</td>\n",
       "      <td>0.403034</td>\n",
       "      <td>-0.407193</td>\n",
       "      <td>0.095921</td>\n",
       "      <td>0.592941</td>\n",
       "      <td>-0.270533</td>\n",
       "      <td>0.817739</td>\n",
       "      <td>...</td>\n",
       "      <td>-0.009431</td>\n",
       "      <td>0.798278</td>\n",
       "      <td>-0.137458</td>\n",
       "      <td>0.141267</td>\n",
       "      <td>-0.206010</td>\n",
       "      <td>0.502292</td>\n",
       "      <td>0.219422</td>\n",
       "      <td>0.215153</td>\n",
       "      <td>69.99</td>\n",
       "      <td>0</td>\n",
       "    </tr>\n",
       "  </tbody>\n",
       "</table>\n",
       "<p>5 rows × 31 columns</p>\n",
       "</div>"
      ],
      "text/plain": [
       "   Time        V1        V2        V3        V4        V5        V6        V7  \\\n",
       "0   0.0 -1.359807 -0.072781  2.536347  1.378155 -0.338321  0.462388  0.239599   \n",
       "1   0.0  1.191857  0.266151  0.166480  0.448154  0.060018 -0.082361 -0.078803   \n",
       "2   1.0 -1.358354 -1.340163  1.773209  0.379780 -0.503198  1.800499  0.791461   \n",
       "3   1.0 -0.966272 -0.185226  1.792993 -0.863291 -0.010309  1.247203  0.237609   \n",
       "4   2.0 -1.158233  0.877737  1.548718  0.403034 -0.407193  0.095921  0.592941   \n",
       "\n",
       "         V8        V9  ...       V21       V22       V23       V24       V25  \\\n",
       "0  0.098698  0.363787  ... -0.018307  0.277838 -0.110474  0.066928  0.128539   \n",
       "1  0.085102 -0.255425  ... -0.225775 -0.638672  0.101288 -0.339846  0.167170   \n",
       "2  0.247676 -1.514654  ...  0.247998  0.771679  0.909412 -0.689281 -0.327642   \n",
       "3  0.377436 -1.387024  ... -0.108300  0.005274 -0.190321 -1.175575  0.647376   \n",
       "4 -0.270533  0.817739  ... -0.009431  0.798278 -0.137458  0.141267 -0.206010   \n",
       "\n",
       "        V26       V27       V28  Amount  Class  \n",
       "0 -0.189115  0.133558 -0.021053  149.62      0  \n",
       "1  0.125895 -0.008983  0.014724    2.69      0  \n",
       "2 -0.139097 -0.055353 -0.059752  378.66      0  \n",
       "3 -0.221929  0.062723  0.061458  123.50      0  \n",
       "4  0.502292  0.219422  0.215153   69.99      0  \n",
       "\n",
       "[5 rows x 31 columns]"
      ]
     },
     "execution_count": 4,
     "metadata": {},
     "output_type": "execute_result"
    }
   ],
   "source": [
    "df.head(5)"
   ]
  },
  {
   "cell_type": "code",
   "execution_count": 5,
   "metadata": {},
   "outputs": [
    {
     "data": {
      "text/html": [
       "<div>\n",
       "<style scoped>\n",
       "    .dataframe tbody tr th:only-of-type {\n",
       "        vertical-align: middle;\n",
       "    }\n",
       "\n",
       "    .dataframe tbody tr th {\n",
       "        vertical-align: top;\n",
       "    }\n",
       "\n",
       "    .dataframe thead th {\n",
       "        text-align: right;\n",
       "    }\n",
       "</style>\n",
       "<table border=\"1\" class=\"dataframe\">\n",
       "  <thead>\n",
       "    <tr style=\"text-align: right;\">\n",
       "      <th></th>\n",
       "      <th>Time</th>\n",
       "      <th>V1</th>\n",
       "      <th>V2</th>\n",
       "      <th>V3</th>\n",
       "      <th>V4</th>\n",
       "      <th>V5</th>\n",
       "      <th>V6</th>\n",
       "      <th>V7</th>\n",
       "      <th>V8</th>\n",
       "      <th>V9</th>\n",
       "      <th>...</th>\n",
       "      <th>V21</th>\n",
       "      <th>V22</th>\n",
       "      <th>V23</th>\n",
       "      <th>V24</th>\n",
       "      <th>V25</th>\n",
       "      <th>V26</th>\n",
       "      <th>V27</th>\n",
       "      <th>V28</th>\n",
       "      <th>Amount</th>\n",
       "      <th>Class</th>\n",
       "    </tr>\n",
       "  </thead>\n",
       "  <tbody>\n",
       "    <tr>\n",
       "      <th>284802</th>\n",
       "      <td>172786.0</td>\n",
       "      <td>-11.881118</td>\n",
       "      <td>10.071785</td>\n",
       "      <td>-9.834783</td>\n",
       "      <td>-2.066656</td>\n",
       "      <td>-5.364473</td>\n",
       "      <td>-2.606837</td>\n",
       "      <td>-4.918215</td>\n",
       "      <td>7.305334</td>\n",
       "      <td>1.914428</td>\n",
       "      <td>...</td>\n",
       "      <td>0.213454</td>\n",
       "      <td>0.111864</td>\n",
       "      <td>1.014480</td>\n",
       "      <td>-0.509348</td>\n",
       "      <td>1.436807</td>\n",
       "      <td>0.250034</td>\n",
       "      <td>0.943651</td>\n",
       "      <td>0.823731</td>\n",
       "      <td>0.77</td>\n",
       "      <td>0</td>\n",
       "    </tr>\n",
       "    <tr>\n",
       "      <th>284803</th>\n",
       "      <td>172787.0</td>\n",
       "      <td>-0.732789</td>\n",
       "      <td>-0.055080</td>\n",
       "      <td>2.035030</td>\n",
       "      <td>-0.738589</td>\n",
       "      <td>0.868229</td>\n",
       "      <td>1.058415</td>\n",
       "      <td>0.024330</td>\n",
       "      <td>0.294869</td>\n",
       "      <td>0.584800</td>\n",
       "      <td>...</td>\n",
       "      <td>0.214205</td>\n",
       "      <td>0.924384</td>\n",
       "      <td>0.012463</td>\n",
       "      <td>-1.016226</td>\n",
       "      <td>-0.606624</td>\n",
       "      <td>-0.395255</td>\n",
       "      <td>0.068472</td>\n",
       "      <td>-0.053527</td>\n",
       "      <td>24.79</td>\n",
       "      <td>0</td>\n",
       "    </tr>\n",
       "    <tr>\n",
       "      <th>284804</th>\n",
       "      <td>172788.0</td>\n",
       "      <td>1.919565</td>\n",
       "      <td>-0.301254</td>\n",
       "      <td>-3.249640</td>\n",
       "      <td>-0.557828</td>\n",
       "      <td>2.630515</td>\n",
       "      <td>3.031260</td>\n",
       "      <td>-0.296827</td>\n",
       "      <td>0.708417</td>\n",
       "      <td>0.432454</td>\n",
       "      <td>...</td>\n",
       "      <td>0.232045</td>\n",
       "      <td>0.578229</td>\n",
       "      <td>-0.037501</td>\n",
       "      <td>0.640134</td>\n",
       "      <td>0.265745</td>\n",
       "      <td>-0.087371</td>\n",
       "      <td>0.004455</td>\n",
       "      <td>-0.026561</td>\n",
       "      <td>67.88</td>\n",
       "      <td>0</td>\n",
       "    </tr>\n",
       "    <tr>\n",
       "      <th>284805</th>\n",
       "      <td>172788.0</td>\n",
       "      <td>-0.240440</td>\n",
       "      <td>0.530483</td>\n",
       "      <td>0.702510</td>\n",
       "      <td>0.689799</td>\n",
       "      <td>-0.377961</td>\n",
       "      <td>0.623708</td>\n",
       "      <td>-0.686180</td>\n",
       "      <td>0.679145</td>\n",
       "      <td>0.392087</td>\n",
       "      <td>...</td>\n",
       "      <td>0.265245</td>\n",
       "      <td>0.800049</td>\n",
       "      <td>-0.163298</td>\n",
       "      <td>0.123205</td>\n",
       "      <td>-0.569159</td>\n",
       "      <td>0.546668</td>\n",
       "      <td>0.108821</td>\n",
       "      <td>0.104533</td>\n",
       "      <td>10.00</td>\n",
       "      <td>0</td>\n",
       "    </tr>\n",
       "    <tr>\n",
       "      <th>284806</th>\n",
       "      <td>172792.0</td>\n",
       "      <td>-0.533413</td>\n",
       "      <td>-0.189733</td>\n",
       "      <td>0.703337</td>\n",
       "      <td>-0.506271</td>\n",
       "      <td>-0.012546</td>\n",
       "      <td>-0.649617</td>\n",
       "      <td>1.577006</td>\n",
       "      <td>-0.414650</td>\n",
       "      <td>0.486180</td>\n",
       "      <td>...</td>\n",
       "      <td>0.261057</td>\n",
       "      <td>0.643078</td>\n",
       "      <td>0.376777</td>\n",
       "      <td>0.008797</td>\n",
       "      <td>-0.473649</td>\n",
       "      <td>-0.818267</td>\n",
       "      <td>-0.002415</td>\n",
       "      <td>0.013649</td>\n",
       "      <td>217.00</td>\n",
       "      <td>0</td>\n",
       "    </tr>\n",
       "  </tbody>\n",
       "</table>\n",
       "<p>5 rows × 31 columns</p>\n",
       "</div>"
      ],
      "text/plain": [
       "            Time         V1         V2        V3        V4        V5  \\\n",
       "284802  172786.0 -11.881118  10.071785 -9.834783 -2.066656 -5.364473   \n",
       "284803  172787.0  -0.732789  -0.055080  2.035030 -0.738589  0.868229   \n",
       "284804  172788.0   1.919565  -0.301254 -3.249640 -0.557828  2.630515   \n",
       "284805  172788.0  -0.240440   0.530483  0.702510  0.689799 -0.377961   \n",
       "284806  172792.0  -0.533413  -0.189733  0.703337 -0.506271 -0.012546   \n",
       "\n",
       "              V6        V7        V8        V9  ...       V21       V22  \\\n",
       "284802 -2.606837 -4.918215  7.305334  1.914428  ...  0.213454  0.111864   \n",
       "284803  1.058415  0.024330  0.294869  0.584800  ...  0.214205  0.924384   \n",
       "284804  3.031260 -0.296827  0.708417  0.432454  ...  0.232045  0.578229   \n",
       "284805  0.623708 -0.686180  0.679145  0.392087  ...  0.265245  0.800049   \n",
       "284806 -0.649617  1.577006 -0.414650  0.486180  ...  0.261057  0.643078   \n",
       "\n",
       "             V23       V24       V25       V26       V27       V28  Amount  \\\n",
       "284802  1.014480 -0.509348  1.436807  0.250034  0.943651  0.823731    0.77   \n",
       "284803  0.012463 -1.016226 -0.606624 -0.395255  0.068472 -0.053527   24.79   \n",
       "284804 -0.037501  0.640134  0.265745 -0.087371  0.004455 -0.026561   67.88   \n",
       "284805 -0.163298  0.123205 -0.569159  0.546668  0.108821  0.104533   10.00   \n",
       "284806  0.376777  0.008797 -0.473649 -0.818267 -0.002415  0.013649  217.00   \n",
       "\n",
       "        Class  \n",
       "284802      0  \n",
       "284803      0  \n",
       "284804      0  \n",
       "284805      0  \n",
       "284806      0  \n",
       "\n",
       "[5 rows x 31 columns]"
      ]
     },
     "execution_count": 5,
     "metadata": {},
     "output_type": "execute_result"
    }
   ],
   "source": [
    "df.tail(5)"
   ]
  },
  {
   "cell_type": "markdown",
   "metadata": {},
   "source": [
    "#### $\\rightarrow$ No trouble with loading the data, the head and tail."
   ]
  },
  {
   "cell_type": "markdown",
   "metadata": {},
   "source": [
    "## <a id = 3 > 3. Check Class Distribution"
   ]
  },
  {
   "cell_type": "code",
   "execution_count": 6,
   "metadata": {},
   "outputs": [
    {
     "data": {
      "text/plain": [
       "0    284315\n",
       "1       492\n",
       "Name: Class, dtype: int64"
      ]
     },
     "execution_count": 6,
     "metadata": {},
     "output_type": "execute_result"
    },
    {
     "data": {
      "image/png": "[encoded data removed]",
      "text/plain": [
       "<Figure size 432x288 with 1 Axes>"
      ]
     },
     "metadata": {
      "needs_background": "light"
     },
     "output_type": "display_data"
    }
   ],
   "source": [
    "plt.figure(figsize=(6,4))\n",
    "pd.value_counts(df[target_class_name]).plot.bar()\n",
    "plt.title('Histogram of class distributions')\n",
    "plt.xlabel('Class lable')\n",
    "plt.xticks([0,1],['Non-Fraud (0)', 'Fraud (1)'],rotation=0)\n",
    "plt.ylabel('Frequency')\n",
    "\n",
    "df[target_class_name].value_counts()"
   ]
  },
  {
   "cell_type": "code",
   "execution_count": 7,
   "metadata": {},
   "outputs": [
    {
     "name": "stdout",
     "output_type": "stream",
     "text": [
      "Percentage of each class in the dataset:\n",
      "0    99.827\n",
      "1     0.173\n",
      "Name: Class, dtype: float64\n"
     ]
    }
   ],
   "source": [
    "print ('Percentage of each class in the dataset:\\n{}'.format(round(df['Class'].value_counts()/len(df)*100,3)))"
   ]
  },
  {
   "cell_type": "code",
   "execution_count": 8,
   "metadata": {},
   "outputs": [
    {
     "data": {
      "image/png": "[encoded data removed]",
      "text/plain": [
       "<Figure size 432x288 with 1 Axes>"
      ]
     },
     "metadata": {},
     "output_type": "display_data"
    }
   ],
   "source": [
    "#visualizing in pie chart\n",
    "labels = 'Non-Fraud (0)', 'Fraud (1)'\n",
    "explode = (0, 0.173)\n",
    "\n",
    "fig1, ax1 = plt.subplots()\n",
    "ax1.pie(df['Class'].value_counts(), explode=explode, labels=labels, autopct='%1.3f%%',\n",
    "        shadow=True, startangle=60)\n",
    "ax1.axis('equal')\n",
    "plt.show()"
   ]
  },
  {
   "cell_type": "markdown",
   "metadata": {},
   "source": [
    "#### 99.827% of the dataset is comprised of non-fraud samples $\\rightarrow$ The dataset is highly imbalanced\n",
    "\n",
    "#### What is the problem with class imbalance?!\n",
    "- Most machine learning algorithms assume data equally distributed.\n",
    "- When there is an unequal distribution of classes in the training dataset, ML classifiers tend to be more biased towards the majority class, causing bad classification of the minority class. \n",
    "\n",
    "To illustrate, a classifier may not learn the underline pattern of the dataset and blindly predict that everything belongs to the majority class to maximizes the accuracy. In this dataset, the majority class is non-fraud (class 0). Therefore, class imbanace dataset causes bad classification of fraud samples and a selected classifier may predict everything belongs to non-fraud class, which is not desired. Therefore, we need to check the class distribution in order to\n",
    "\n",
    "- Select a proper evaluation metric and classification model OR handel the class imbalance problem using resampling techniques. "
   ]
  },
  {
   "cell_type": "markdown",
   "metadata": {},
   "source": [
    "## <a id = 4 > 4. Prepraring Data before Handeling Class Imbalance"
   ]
  },
  {
   "cell_type": "markdown",
   "metadata": {},
   "source": [
    "## <a id = 41 > A. Normalizing numerical variables </a>\n",
    "\n",
    "    - Scaling has the effect of squeezing all data range into a tight range. \n",
    "        \n",
    "    - For tree-based ML models such as Random Forest scaling/normalization is not required (RF classifier is used here). "
   ]
  },
  {
   "cell_type": "markdown",
   "metadata": {},
   "source": [
    "## <a id='42'>B. Feature - Target Split</a> "
   ]
  },
  {
   "cell_type": "code",
   "execution_count": 9,
   "metadata": {},
   "outputs": [],
   "source": [
    "X = df.drop(target_class_name, axis=1)\n",
    "y = df[target_class_name]"
   ]
  },
  {
   "cell_type": "markdown",
   "metadata": {},
   "source": [
    "## <a id='43'>C. Train-Test Split</a> \n",
    "\n",
    "Train/Test split is done before using data augmentation techniques since\n",
    "- The Test set should have a valid representation of how the unseen unlabelled production data will occur during which time we won't have the luxury of correcting the class imbalance problem.\n",
    "\n",
    "\n",
    "*Note: When we have a big dataset and want to model faster, we can convert the pandas dataframe into a numpy array using to_numpy. Otherwise, it doesn't matter which data structure we use."
   ]
  },
  {
   "cell_type": "code",
   "execution_count": 10,
   "metadata": {},
   "outputs": [],
   "source": [
    "X_train, X_test, y_train, y_test = train_test_split(X, y, test_size=0.2, random_state=42, stratify=y)\n",
    "# random_state=42 to be able to reproduce the set."
   ]
  },
  {
   "cell_type": "code",
   "execution_count": 11,
   "metadata": {},
   "outputs": [
    {
     "name": "stdout",
     "output_type": "stream",
     "text": [
      "\n",
      " Train set Shape: (227845, 30) \n",
      " Number of fraud samples in Train set: 394 \n",
      " \n",
      " Test set Shape: (56962, 30) \n",
      " Number of fraud samples in Test set: 98\n"
     ]
    }
   ],
   "source": [
    "print('\\n Train set Shape: {}'.format(X_train.shape),'\\n Number of fraud samples in Train set: {}'.format(sum(y_train)),\n",
    "                                                                                                                     \n",
    "       '\\n \\n Test set Shape: {}'.format(X_test.shape),'\\n Number of fraud samples in Test set: {}'.format(sum(y_test)))"
   ]
  },
  {
   "cell_type": "markdown",
   "metadata": {},
   "source": [
    "## <a id = 5 > 5. Evauate classification Model without handling Class Imbalance"
   ]
  },
  {
   "cell_type": "markdown",
   "metadata": {},
   "source": [
    "## <a id='51'>A. Initialize RF Classifier</a> "
   ]
  },
  {
   "cell_type": "code",
   "execution_count": 12,
   "metadata": {},
   "outputs": [
    {
     "data": {
      "text/plain": [
       "RandomForestClassifier(random_state=42)"
      ]
     },
     "execution_count": 12,
     "metadata": {},
     "output_type": "execute_result"
    }
   ],
   "source": [
    "# Initialize a classifier object with default params\n",
    "classifier = RandomForestClassifier(random_state=42)\n",
    "classifier.fit(X_train, y_train)"
   ]
  },
  {
   "cell_type": "markdown",
   "metadata": {},
   "source": [
    "## <a id='52'>B. Evaluate RF Classifier Performance</a> \n"
   ]
  },
  {
   "cell_type": "code",
   "execution_count": 13,
   "metadata": {},
   "outputs": [],
   "source": [
    "# Custom Evaluation Function:\n",
    "def classification_Evaluation_metrics_function(X_test, y_test, classifier, ModelSpe = 'Clarification', metrics_df_flag=True):\n",
    "    \n",
    "    '''\n",
    "    Inpute: \n",
    "    X_train - target dataframe\n",
    "    y_train - target labels\n",
    "    sklearn classifier object that has been fitted with the training data outside of the function; \n",
    "    Model specifications that we want to avaluate its result.\n",
    "    \n",
    "    Logic: Calculates and displays the Accuracy, Classification report, ROC Curve, Confusion Matrix.\n",
    "    \n",
    "    Returns: If metrics_df flag is set, return dictionary containing relevant metrics for classification.\n",
    "    \n",
    "    ''' \n",
    "    # Accuracy\n",
    "    Acc = round(classifier.score(X_test, y_test),2)   \n",
    "    print(\"Accuracy of \" + ModelSpe + \" =  {} % \".format(Acc * 100))\n",
    "    \n",
    "    # Precision, Recall, F1-Score, Support\n",
    "    y_pred = classifier.predict(X_test)\n",
    "    print(classification_report(y_test,y_pred,target_names=labels))\n",
    "\n",
    "    # --------------------------------------------------------------------------------------------------------------------------\n",
    "    # ROC Curve\n",
    "    FP_rate, TP_rate, threshold = roc_curve(y_test, y_pred)  \n",
    "    y_pred_Proba = classifier.predict_proba(X_test)[:,1]\n",
    "                   \n",
    "    \n",
    "    f = plt.figure(1)\n",
    "    plt.figure(figsize=(10,6))\n",
    "    plt.plot([0, 1], [0, 1], 'c--')\n",
    "    plt.plot(FP_rate, TP_rate, 'g-', linewidth=3)\n",
    "    plt.title('Receiver Operating Characteristic (ROC) Curve - ' + ModelSpe, fontsize=18)\n",
    "    plt.xlabel('False Positive Rate', fontsize=15)\n",
    "    plt.ylabel('True Positive Rate', fontsize=15)    \n",
    "    plt.axis([-0.01,1,0,1])\n",
    "    f.show()\n",
    "    \n",
    "    roc_auc_val = float(\"{0:.2f}\".format(roc_auc_score(y_test, y_pred_Proba)))\n",
    "    print('The ROC-AUC Score ({}) = {}'.format(ModelSpe, roc_auc_val))\n",
    "\n",
    "    # --------------------------------------------------------------------------------------------------------------------------\n",
    "    # Confusion Matrix\n",
    "    confusion_matrix_test = confusion_matrix(y_test, y_pred)\n",
    "    \n",
    "    g = plt.figure(1)\n",
    "    x_axis_labels = ['Non-Fraud','Fraud'] # labels for x-axis\n",
    "    y_axis_labels = ['Non-Fraud','Fraud'] # labels for y-axis\n",
    "    ax = sn.heatmap(confusion_matrix_test,cmap=\"YlGnBu\", annot=True, annot_kws={\"size\": 16},xticklabels=x_axis_labels, yticklabels=y_axis_labels) # font size\n",
    "    plt.title('Confusion Matrix - '+ ModelSpe, fontsize = 20) # title with fontsize 20\n",
    "    plt.xlabel('Predicted Label', fontsize = 15) # x-axis label with fontsize 15\n",
    "    plt.ylabel('True Label', fontsize = 15) # y-axis label with fontsize 15\n",
    "    ax.set_xticklabels(ax.get_xticklabels(), rotation=45, horizontalalignment='right')\n",
    "    ax.set_yticklabels(ax.get_yticklabels(), rotation=45, horizontalalignment='right')\n",
    "    g.show()\n",
    "\n",
    "    # --------------------------------------------------------------------------------------------------------------------------\n",
    "    # Note: his part will be exlained in section C.\n",
    "    # The precision value when recall is just above the recall_threshold    \n",
    "    # from sklearn.metrics import precision_recall_curve  \n",
    "    precision, recall, _ = precision_recall_curve(y_test, y_pred_Proba)   \n",
    "    Precision_at_Recall = precision[recall>0.85][-1]\n",
    "    # --------------------------------------------------------------------------------------------------------------------------\n",
    "    if metrics_df_flag:\n",
    "        # The precision value when recall is just above the recall_threshold\n",
    "        metrics_dict = {}\n",
    "\n",
    "        \n",
    "\n",
    "        # Metrics from the classification report\n",
    "        # We are only interested in the minority class which is 1\n",
    "        metrics_dict['Pos_Precision'] = classification_report(y_test, y_pred, output_dict=True)['1.0']['precision']\n",
    "        metrics_dict['Pos_Recall'] = classification_report(y_test, y_pred, output_dict=True)['1.0']['recall']\n",
    "        metrics_dict['Pos_F1'] = classification_report(y_test, y_pred, output_dict=True)['1.0']['f1-score']\n",
    "\n",
    "        # Metric from the ROC AUC curve\n",
    "        metrics_dict['ROC-AUC'] = roc_auc_val\n",
    "\n",
    "        \n",
    "        # Metrics from the confusion matrix\n",
    "        metrics_dict['TN'] = confusion_matrix_test[0][0]\n",
    "        metrics_dict['TP'] = confusion_matrix_test[1][1]\n",
    "        metrics_dict['FN'] = confusion_matrix_test[1][0]\n",
    "        metrics_dict['FP'] = confusion_matrix_test[0][1]\n",
    "\n",
    "        metrics_dict['Precision_at_Recall (85%)'] = Precision_at_Recall\n",
    "        \n",
    "        return metrics_dict"
   ]
  },
  {
   "cell_type": "code",
   "execution_count": 14,
   "metadata": {},
   "outputs": [
    {
     "name": "stdout",
     "output_type": "stream",
     "text": [
      "Accuracy of without handeling class Imb. =  100.0 % \n",
      "               precision    recall  f1-score   support\n",
      "\n",
      "Non-Fraud (0)       1.00      1.00      1.00     56864\n",
      "    Fraud (1)       0.94      0.82      0.87        98\n",
      "\n",
      "     accuracy                           1.00     56962\n",
      "    macro avg       0.97      0.91      0.94     56962\n",
      " weighted avg       1.00      1.00      1.00     56962\n",
      "\n",
      "The ROC-AUC Score (without handeling class Imb.) = 0.96\n"
     ]
    },
    {
     "ename": "KeyError",
     "evalue": "'1.0'",
     "output_type": "error",
     "traceback": [
      "\u001b[1;31m---------------------------------------------------------------------------\u001b[0m",
      "\u001b[1;31mKeyError\u001b[0m                                  Traceback (most recent call last)",
      "\u001b[1;32m<ipython-input-14-8514d69ab7c1>\u001b[0m in \u001b[0;36m<module>\u001b[1;34m\u001b[0m\n\u001b[1;32m----> 1\u001b[1;33m Metrics_Imb = classification_Evaluation_metrics_function(X_test, y_test, classifier, \n\u001b[0m\u001b[0;32m      2\u001b[0m                                                  ModelSpe = 'without handeling class Imb.', metrics_df_flag=True)\n",
      "\u001b[1;32m<ipython-input-13-0905336991ed>\u001b[0m in \u001b[0;36mclassification_Evaluation_metrics_function\u001b[1;34m(X_test, y_test, classifier, ModelSpe, metrics_df_flag)\u001b[0m\n\u001b[0;32m     71\u001b[0m         \u001b[1;31m# Metrics from the classification report\u001b[0m\u001b[1;33m\u001b[0m\u001b[1;33m\u001b[0m\u001b[1;33m\u001b[0m\u001b[0m\n\u001b[0;32m     72\u001b[0m         \u001b[1;31m# We are only interested in the minority class which is 1\u001b[0m\u001b[1;33m\u001b[0m\u001b[1;33m\u001b[0m\u001b[1;33m\u001b[0m\u001b[0m\n\u001b[1;32m---> 73\u001b[1;33m         \u001b[0mmetrics_dict\u001b[0m\u001b[1;33m[\u001b[0m\u001b[1;34m'Pos_Precision'\u001b[0m\u001b[1;33m]\u001b[0m \u001b[1;33m=\u001b[0m \u001b[0mclassification_report\u001b[0m\u001b[1;33m(\u001b[0m\u001b[0my_test\u001b[0m\u001b[1;33m,\u001b[0m \u001b[0my_pred\u001b[0m\u001b[1;33m,\u001b[0m \u001b[0moutput_dict\u001b[0m\u001b[1;33m=\u001b[0m\u001b[1;32mTrue\u001b[0m\u001b[1;33m)\u001b[0m\u001b[1;33m[\u001b[0m\u001b[1;34m'1.0'\u001b[0m\u001b[1;33m]\u001b[0m\u001b[1;33m[\u001b[0m\u001b[1;34m'precision'\u001b[0m\u001b[1;33m]\u001b[0m\u001b[1;33m\u001b[0m\u001b[1;33m\u001b[0m\u001b[0m\n\u001b[0m\u001b[0;32m     74\u001b[0m         \u001b[0mmetrics_dict\u001b[0m\u001b[1;33m[\u001b[0m\u001b[1;34m'Pos_Recall'\u001b[0m\u001b[1;33m]\u001b[0m \u001b[1;33m=\u001b[0m \u001b[0mclassification_report\u001b[0m\u001b[1;33m(\u001b[0m\u001b[0my_test\u001b[0m\u001b[1;33m,\u001b[0m \u001b[0my_pred\u001b[0m\u001b[1;33m,\u001b[0m \u001b[0moutput_dict\u001b[0m\u001b[1;33m=\u001b[0m\u001b[1;32mTrue\u001b[0m\u001b[1;33m)\u001b[0m\u001b[1;33m[\u001b[0m\u001b[1;34m'1.0'\u001b[0m\u001b[1;33m]\u001b[0m\u001b[1;33m[\u001b[0m\u001b[1;34m'recall'\u001b[0m\u001b[1;33m]\u001b[0m\u001b[1;33m\u001b[0m\u001b[1;33m\u001b[0m\u001b[0m\n\u001b[0;32m     75\u001b[0m         \u001b[0mmetrics_dict\u001b[0m\u001b[1;33m[\u001b[0m\u001b[1;34m'Pos_F1'\u001b[0m\u001b[1;33m]\u001b[0m \u001b[1;33m=\u001b[0m \u001b[0mclassification_report\u001b[0m\u001b[1;33m(\u001b[0m\u001b[0my_test\u001b[0m\u001b[1;33m,\u001b[0m \u001b[0my_pred\u001b[0m\u001b[1;33m,\u001b[0m \u001b[0moutput_dict\u001b[0m\u001b[1;33m=\u001b[0m\u001b[1;32mTrue\u001b[0m\u001b[1;33m)\u001b[0m\u001b[1;33m[\u001b[0m\u001b[1;34m'1.0'\u001b[0m\u001b[1;33m]\u001b[0m\u001b[1;33m[\u001b[0m\u001b[1;34m'f1-score'\u001b[0m\u001b[1;33m]\u001b[0m\u001b[1;33m\u001b[0m\u001b[1;33m\u001b[0m\u001b[0m\n",
      "\u001b[1;31mKeyError\u001b[0m: '1.0'"
     ]
    },
    {
     "data": {
      "image/png": "[encoded data removed]",
      "text/plain": [
       "<Figure size 432x288 with 2 Axes>"
      ]
     },
     "metadata": {
      "needs_background": "light"
     },
     "output_type": "display_data"
    },
    {
     "data": {
      "image/png": "[encoded data removed]",
      "text/plain": [
       "<Figure size 720x432 with 1 Axes>"
      ]
     },
     "metadata": {
      "needs_background": "light"
     },
     "output_type": "display_data"
    }
   ],
   "source": [
    "Metrics_Imb = classification_Evaluation_metrics_function(X_test, y_test, classifier, \n",
    "                                                 ModelSpe = 'without handeling class Imb.', metrics_df_flag=True)"
   ]
  },
  {
   "cell_type": "markdown",
   "metadata": {},
   "source": [
    "#### Summary of the results:\n",
    "- The Accuracy of 100%, which obtained by the model can be the result of highly imbalanced datset. Therefore, we need to do more investigation considering other metrics.\n",
    "\n",
    "\n",
    "- In imbalanced dataset we need to check the performance of the model for the minority class, which is \"Fraud\" in this case. Confusion matrix shows that\n",
    "\n",
    "  - TP is equal to 80. It means that the model corretly perdicts 80 fraud out of actual 98 fraud. Threfore, we have a true positive rate (Recall) 82%. (Note: Recall = $\\frac{TP}{TP+FN}$).\n",
    "  \n",
    "  - TN is equal to 56859.  It means that the model corretly perdicts 56859 non-fraud out of actual 56864 fraud and only 5 samples are misclassified (FP = 5). Threfore, precision is 94%. (Note: Precision = $\\frac{TP}{TP+FP}$).\n",
    "  \n",
    "  \n",
    "- F1-score that is generated by the confusion matrix is preffered since it is sensitive to class distribution unlike Accuracy. However, F1-score cannot differntiate between a good recall or good precision, since F1 score combines precision and recall into a single number: <center>$𝐹_1=  \\frac{(Precision.𝑅𝑒𝑐𝑎𝑙𝑙)}{(Precision+𝑅𝑒𝑐𝑎𝑙𝑙)} = \\frac{(2.𝑇𝑃)}{(2.𝑇𝑃+𝐹𝑁+𝐹𝑃)}$</center> \n",
    "Therefore, we can use a custom metric to handle this issue.\n",
    "\n",
    "\n",
    "\n",
    "In fraud detection, the cost of FN is high and detecting fraud cases are more important at the cost of higher FP. In other words, higher recall score is desired and these category of problems are called \"Recall-Oriented tasks\". The default threshold of RF classifier for interpreting probabilities to class labels is 50%. This defualt threshold will not provide us the desired performance metric. A simple approach to improve the performance of a classifier that predicts probabilities on an imbalanced classification problem is to tune the threshold used to map probabilities to class labels, which is called \"Threshold-Moving\". However, Threshold-Moving can cause problem when we want to compare different classifiers using different probability cutoff! The Following custom metric can address the mentioned problem (refer to the following URL to find more details:  https://towardsdatascience.com/selecting-the-right-metric-for-skewed-classification-problems-6e0a4a6167a7).\n",
    "\n"
   ]
  },
  {
   "cell_type": "markdown",
   "metadata": {},
   "source": [
    "## <a id='53'>C. Precision at Recall-Threshold Evaluation Metric </a> \n"
   ]
  },
  {
   "cell_type": "code",
   "execution_count": null,
   "metadata": {},
   "outputs": [],
   "source": [
    "def precision_at_Recall_Threshold_function(y_test, predicted_proba, Recall_Threshold=0.85):\n",
    "    '''\n",
    "    Inputs: The true labels, predicted probabilities and the recall threshold for which precision needs to be computed\n",
    "    \n",
    "    Logic: Using the precision recall curve method from sklearn. Then, the precision at a given Recall_Threshold is calculated.\n",
    "    \n",
    "    Returns: \"the first Precision score when Recall is greater than Recall_Threshold.\" \n",
    "    \n",
    "    '''\n",
    "    # from sklearn.metrics import precision_recall_curve    \n",
    "    precision, recall, _ = precision_recall_curve(y_test, predicted_proba)    \n",
    "    return precision[recall>Recall_Threshold][-1]"
   ]
  },
  {
   "cell_type": "code",
   "execution_count": null,
   "metadata": {},
   "outputs": [],
   "source": [
    "# Predict class probabilities for X_test.\n",
    "predicted_proba = classifier.predict_proba(X_test)[:,1]\n",
    "precision_at_Recall = precision_at_Recall_Threshold_function(y_test, predicted_proba, Recall_Threshold=0.85)\n",
    "precision_at_Recall"
   ]
  },
  {
   "cell_type": "markdown",
   "metadata": {},
   "source": [
    "Before handling class imbalance problem, a dataframe is initialized to better visualize the results of different techniques."
   ]
  },
  {
   "cell_type": "code",
   "execution_count": null,
   "metadata": {},
   "outputs": [],
   "source": [
    "Metrics_df = pd.DataFrame(\n",
    "columns = ['Pos_Precision','Pos_Recall','Pos_F1',\n",
    "           'ROC-AUC','FN','TP','FP','TN','Precision_at_Recall (85%)'],\n",
    "index = ['Imb. dataset','Undersampling','Oversampling','Hybrid','Custom'])\n",
    "\n",
    "# Metrics_df\n",
    "\n",
    "# Depending on the business problem, one or more of these metrics will be more important.\n",
    "# The prefixes exist for the Precision, Recall and F1 since here we are only interested in the positive class."
   ]
  },
  {
   "cell_type": "code",
   "execution_count": null,
   "metadata": {},
   "outputs": [],
   "source": [
    "Metrics_df.loc['Imb. dataset'] = Metrics_Imb\n",
    "# Metrics_df"
   ]
  },
  {
   "cell_type": "markdown",
   "metadata": {},
   "source": [
    "## <a id = 6> 6. Data Skewness Correction via Resampling Strategies"
   ]
  },
  {
   "cell_type": "markdown",
   "metadata": {},
   "source": [
    "Data always beats algorithms! \n",
    "\n",
    "Given that our dataset is heavily skewed in favor of the negative class (ie non-fraud), any technique that brings the ratio closer to 50:50 should theoretically improve the performance.\n",
    "\n",
    "The theoretical reason for favoring the 50:50 ratio is that the results will be no worse than what was obtained with natural class distributions.\n",
    "https://www.researchgate.net/publication/2364670_The_Effect_of_Class_Distribution_on_Classifier_Learning_An_Empirical_Study"
   ]
  },
  {
   "cell_type": "markdown",
   "metadata": {},
   "source": [
    "Following approaches can be used to handel class imbalance: undersampling and oversampling\n",
    "    \n",
    "- Undersampling: samples of the majority class (non-fraud samples) are reduced until the remaining data is balanced.\n",
    "\n",
    "- Oversampling: The minority class (fraud samples) are repeatedly sampled until the synthetic data is balanced.\n",
    "\n",
    "- Hybrid approach: Both classes are simultaneously sampled until the minority class reaches a threshold."
   ]
  },
  {
   "cell_type": "markdown",
   "metadata": {},
   "source": [
    "## <a id = 61> A. Undersampling - RandomUnderSampler\n",
    "\n",
    "Here, the RandomUnderSampler method randomly downsamples the majority class (non-fraud samples/ class 0) until the ratio of class 0 and class 1 are the same."
   ]
  },
  {
   "cell_type": "code",
   "execution_count": null,
   "metadata": {},
   "outputs": [],
   "source": [
    "def HandlingClassImb_RF_Performance_function(X_train, y_train, X_test, y_test, ResampleMethod, Recall_Threshold=0.85):\n",
    "    \n",
    "    '''\n",
    "    Inputs: The train and test data; Resample Technique; Recall_Threshold\n",
    "    \n",
    "    Logic: Trains a random forest classifier with default params and outputs the classification report & confusion matrix\n",
    "    \n",
    "    Displays: The confusion matrix and classification report\n",
    "    \n",
    "    Returns: Resampled Train set and the metrics_dict containing the evaluation metrics\n",
    "    '''\n",
    "    if ResampleMethod == 'Custom':\n",
    "        # Refer to Section 6.D to find more detailes about the following function.\n",
    "        X_resampled_train, y_resampled_train = Custom_resampling_function(X_train, y_train, pos_upsampling_ratio=4, \n",
    "                                                                  neg_upsampling_ratio=2)\n",
    " \n",
    "    else:\n",
    "    \n",
    "        # Generate the resampled data using one of the imblearn methods\n",
    "        X_resampled_train, y_resampled_train = ResampleMethod.fit_sample(X_train, y_train)\n",
    "    \n",
    "    print('Size of resampled train sets:')\n",
    "    print(X_resampled_train.shape,sum(y_resampled_train))\n",
    "    \n",
    "    from sklearn.ensemble import RandomForestClassifier\n",
    "\n",
    "    # Initialize a classifier object with default params\n",
    "    classifier = RandomForestClassifier(random_state=42)\n",
    "    classifier.fit(X_resampled_train, y_resampled_train)\n",
    "\n",
    "    # Display the classification report on the Test data\n",
    "    metrics_dict = classification_Evaluation_metrics_function(X_test, y_test, classifier, ModelSpe = 'Clarification',\n",
    "                                                              metrics_df_flag=True)\n",
    "    \n",
    "    return  metrics_dict#, X_resampled_train, y_resampled_train\n"
   ]
  },
  {
   "cell_type": "code",
   "execution_count": null,
   "metadata": {
    "scrolled": true
   },
   "outputs": [],
   "source": [
    "Metrics_df.loc['Undersampling'] = HandlingClassImb_RF_Performance_function(X_train, y_train, X_test, y_test,  RandomUnderSampler(random_state=42), Recall_Threshold=0.85)"
   ]
  },
  {
   "cell_type": "markdown",
   "metadata": {},
   "source": [
    "## <a id = 62> B. Oversampling - SMOTE    "
   ]
  },
  {
   "cell_type": "markdown",
   "metadata": {},
   "source": [
    "A popular oversampling technique is Synthetic Minority Over-sampling Technique (SMOTE). This approach effectively forces the decision region of the minority class to become more general. SMOTE instead of sampling with replacement of the original minority class, generates synthetic data for the minority class. In fact, SMOTE proceeds by joining the points of the minority class with line segments and then places artificial points on these lines. SMOTE steps can be summarized as follows:\n",
    "\n",
    "- Select a minority class input vector.\n",
    "- Find its k nearest neighbors.\n",
    "- Choose one neighbors and place a synthetic point anywhere on the line joining the point under consideration and its chosen neighbor.\n",
    "- Repeat the steps until data is balanced.\n",
    "\n",
    "Refer to the following paper for more detail: https://jair.org/index.php/jair/article/view/10302/24590\n",
    "    "
   ]
  },
  {
   "cell_type": "code",
   "execution_count": null,
   "metadata": {},
   "outputs": [],
   "source": [
    "Metrics_df.loc['Oversampling'] = HandlingClassImb_RF_Performance_function(X_train, y_train, X_test, y_test,SMOTEENN(sampling_strategy = 'all' ,random_state=42), Recall_Threshold=0.85)"
   ]
  },
  {
   "cell_type": "markdown",
   "metadata": {},
   "source": [
    "## <a id = 63> C. Hybrid Oversampling and Undersampling - SMOTEENN"
   ]
  },
  {
   "cell_type": "markdown",
   "metadata": {},
   "source": [
    "SMOTEENN, combines the SMOTE upsampling technique with Edited Nearest Neighbors (ENN) undersampling. ENN first oversamples both the minority and majority class until they are balanced. Then the Tomek links are removed. This prevents the majority class from 'intruding' too deep into the minority class space. \n",
    "\n",
    "Refer to the following papers for more details:\n",
    "\n",
    "https://imbalanced-learn.readthedocs.io/en/stable/api.html#module-imblearn.combine\n",
    "\n",
    "https://pdfs.semanticscholar.org/c1a9/5197e15fa99f55cd0cb2ee14d2f02699a919.pdf\n",
    "\n",
    "https://ieeexplore.ieee.org/stamp/stamp.jsp?tp=&arnumber=4309452"
   ]
  },
  {
   "cell_type": "code",
   "execution_count": null,
   "metadata": {},
   "outputs": [],
   "source": [
    "Metrics_df.loc['Hybrid'] = HandlingClassImb_RF_Performance_function(X_train, y_train, X_test, y_test,SMOTE(random_state=42), \n",
    "                                                                    Recall_Threshold=0.85)"
   ]
  },
  {
   "cell_type": "markdown",
   "metadata": {},
   "source": [
    "## <a id = 63> D. Custom Oversampling Method"
   ]
  },
  {
   "cell_type": "markdown",
   "metadata": {},
   "source": [
    "This Method, which only applied for binary classification, is based on a code in Kaggle: \n",
    "\n",
    "This method helps to simultaneously oversample both Classes using samples from known x_train instead of introducing new random samples.\n",
    "The steps of this Custom method can be summarized as follows:\n",
    "        1. For each class:\n",
    "            1.2. Choose upsapmling rate.   \n",
    "            1.3. For i in range upsapmling rate.\n",
    "                1.3.1 Filter the x_train to contain only features for class 0 or class 1.\n",
    "                1.3.2 x_train_copy  ←  filtered x_train.\n",
    "                1.3.3 Creat indices of number of rows in x_train_copy (ids).\n",
    "                1.3.4 For each column C in x_train_copy.\n",
    "                    1.3.4.1 Shuffle ids.\n",
    "                    1.3.4.2 Column C of x_train_copy  ←  column C of x_train_copy with ids indices.\n",
    "                1.3.5 Append x_train_copy to the output.\n",
    "        2. Create the synthetic feature by stacking output arrays of two classess (row wise).\n",
    "        3. Create an array of zeros and ones with the same number of rows as the synthetic feature. \n",
    "        4. Vertically join the synthetic feature and lables with the original X_train and y_train to obtain X_resample and y_resample, respectively.\n",
    "        5. Shuffle obtained X_resample and y_resample.\n",
    "\n"
   ]
  },
  {
   "cell_type": "code",
   "execution_count": null,
   "metadata": {},
   "outputs": [],
   "source": [
    "def Custom_resampling_function(X_train, y_train, pos_upsampling_ratio=4, neg_upsampling_ratio=2): \n",
    "    '''\n",
    "    Args:\n",
    "    X_train - feature dataframe\n",
    "    y_train - target series\n",
    "    pos_upsampling_ratio - how much to upsample the positive class by\n",
    "    neg_upsampling_ratio - how much to upsample the negative class by\n",
    "\n",
    "    Logic: The two separate upsampling ratios allow you to independently control how much each class gets sampled\n",
    "    While this was originally created to augment both classes simultaneously, \n",
    "    it can be used to deliberately upsample one class but not the other    \n",
    "\n",
    "    Returns: augmented feature and target columns\n",
    "\n",
    "    ''' \n",
    "    # Set the seed to be able to replicate the results\n",
    "    np.random.seed(42)\n",
    "    # Convert the input dataframes into arrays\n",
    "    x, y = X_train.values, y_train.values\n",
    "    # create empty arrays for the positive and negative rows in the input data\n",
    "    xs, xn = [], []\n",
    "    # -------------------------------- This section segments augments the positive class \n",
    "    for i in range(pos_upsampling_ratio-1):\n",
    "\n",
    "        # Select all rows of x, which belong to positive class and save them in x_train_copy\n",
    "        mask = y>0\n",
    "        x_train_copy = x[mask].copy()\n",
    "        # Create an array of indices from the number of rows \n",
    "        ids = np.arange(x_train_copy.shape[0])\n",
    "\n",
    "        # In this inner loop, the rows of x_train_copy are shuffled for each column\n",
    "        for c in range(x_train_copy.shape[1]):\n",
    "\n",
    "            # The following line shuffles the indices in place\n",
    "            np.random.shuffle(ids)\n",
    "            # Update the column c of x_train_copy using the shuffled ids\n",
    "            x_train_copy[:,c] = x_train_copy[ids][:,c]\n",
    "\n",
    "        # Appand the updated x_train_copy to the output.\n",
    "        xs.append(x_train_copy)\n",
    "    # -------------------------------- This section segments augments the negative class\n",
    "    for i in range(neg_upsampling_ratio-1):\n",
    "\n",
    "        # Select all rows of x, which belong to positive class and save them in x_train_copy\n",
    "        mask = y==0\n",
    "        x_train_copy = x[mask].copy()\n",
    "        # Create an array of indices from the number of rows \n",
    "        ids = np.arange(x_train_copy.shape[0])\n",
    "\n",
    "        # In this inner loop, the rows of x_train_copy are shuffled for each column\n",
    "        for c in range(x_train_copy.shape[1]):\n",
    "            # Shuffle the indices in place\n",
    "            np.random.shuffle(ids)\n",
    "            # Update the column c of x_train_copy using the shuffled ids\n",
    "            x_train_copy[:,c] = x_train_copy[ids][:,c]\n",
    "\n",
    "        # Appand the updated x_train_copy to the output.\n",
    "        xn.append(x_train_copy)\n",
    "\n",
    "    # ------------------------------------------------------------------------------------------------------------------------------\n",
    "\n",
    "    # Stack output arrays (xs and xn) in sequence vertically (row wise)\n",
    "    xs = np.vstack(xs)\n",
    "    xn = np.vstack(xn)\n",
    "\n",
    "    # Create an array of 1s and 0s with the same number of rows as the corresponding synthetically created feature matrices\n",
    "    ys = np.ones(xs.shape[0])\n",
    "    yn = np.zeros(xn.shape[0])\n",
    "\n",
    "    # Vertically join the synthetic feature and lables with the original x_train and y_train to obtain x_resample and y_resample, respectively.\n",
    "    x = np.vstack([x,xs,xn])\n",
    "    y = np.concatenate([y,ys,yn])\n",
    "\n",
    "    # Convert the arrays to dataframes\n",
    "    X_resampled_df = pd.DataFrame(data=x, columns=X_train.columns)\n",
    "    y_resampled = pd.Series(y)\n",
    "\n",
    "    # Shuffle the merged dataframe so that 1s and 0s are not right below each other\n",
    "    X_resampled_df, y_resampled = shuffle(X_resampled_df, y_resampled)\n",
    "\n",
    "    return X_resampled_df, y_resampled"
   ]
  },
  {
   "cell_type": "code",
   "execution_count": null,
   "metadata": {},
   "outputs": [],
   "source": [
    "Metrics_df.loc['Custom'] = HandlingClassImb_RF_Performance_function(X_train, y_train, X_test, y_test,'Custom',\n",
    "                                                                    Recall_Threshold=0.85)"
   ]
  },
  {
   "cell_type": "markdown",
   "metadata": {},
   "source": [
    "## <a id = 7 > 7. Conclusion"
   ]
  },
  {
   "cell_type": "code",
   "execution_count": null,
   "metadata": {},
   "outputs": [],
   "source": [
    "Metrics_df"
   ]
  },
  {
   "cell_type": "markdown",
   "metadata": {},
   "source": [
    "- Underdampling: Despite a good Recall score of 81%, the model provides very small Precision of 4% due to large FP. This results small F1 score of 8%. \n",
    "- Oversampling (SMOTE): Compared to Undersampling technique, SMOTE provides more acceptable results and better Precision_at_Recall score.\n",
    "- Hybrid: This resampling techniques provides higher and lower Precision_at_Recall score compared to Undersampling and oversampling technique, respectively.\n",
    "- Custom: This method outperforms other resampling methods.\n",
    "###### In summary, the results show that the model without handling class imbalance provides higher Precision_at_Recall score.  Therefore, we can use the Imb. dataset model to have better performance and also keep the model simple. However, before making our final decision, we still can consider more investigation Such as Feature Engineering, Hyperparameter Tuning, and ensamble learning."
   ]
  }
 ],
 "metadata": {
  "kernelspec": {
   "display_name": "Python 3",
   "language": "python",
   "name": "python3"
  },
  "language_info": {
   "codemirror_mode": {
    "name": "ipython",
    "version": 3
   },
   "file_extension": ".py",
   "mimetype": "text/x-python",
   "name": "python",
   "nbconvert_exporter": "python",
   "pygments_lexer": "ipython3",
   "version": "3.8.3"
  }
 },
 "nbformat": 4,
 "nbformat_minor": 4
}
