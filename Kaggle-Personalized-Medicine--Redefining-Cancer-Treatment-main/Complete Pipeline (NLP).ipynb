{
 "cells": [
  {
   "cell_type": "markdown",
   "metadata": {},
   "source": [
    "<h1><center><font size=\"6\"> Kaggle: Personalized Medicine - Redefining Cancer Treatment</font></center></h1>\n",
    "\n",
    "<h3><center><font size=\"4\"> https://www.kaggle.com/c/msk-redefining-cancer-treatment </font></center></h2>"
   ]
  },
  {
   "cell_type": "markdown",
   "metadata": {},
   "source": [
    "## Table of  Contents\n",
    "1. [Initialization](#1)\n",
    "    1. [Load packages](#11)\n",
    "    1. [Define Metadata](#12)   \n",
    "1. [Load Processed Data and Validate](#2)\n",
    "1. [Data Insights](#3)\n",
    "    1. [Data Structure](#31)\n",
    "    1. [Summary Stats](#32)\n",
    "    1. [Dataset shape](#32)\n",
    "1. [Data Cleansing](#4)\n",
    "    1. [Text Processing](#41)\n",
    "    1. [Merge Two datasets](#42)\n",
    "    1. [Handeling Missing Values](#43)\n",
    "1. [Split Dataset](#5)\n",
    "    1. [Feature - Target Split](#51)\n",
    "    1. [Train - Test - Validation Split](#52)\n",
    "    1. [Distribution of data in Train, Test and Validation set](#53)\n",
    "1. [Feature Engineering](#6)\n",
    "    1. [Handeling Categorical Features](#61)\n",
    "    1. [Evaluating Transformed Features](#62)\n",
    "    1. [Merging Important Features](#63)\n",
    "1. [Modeling Workflow](#7)\n",
    "    1. [Model 1: Compare Different Classifiers and Different Encoding Technique](#71)\n",
    "    1. [Model 2: Hyperparameter Tuning](#72)\n",
    "        1. [Logistic Regression using Hyperparameter Tuning](#721)\n",
    "        1. [Random Forest using Hyperparameter Tuning](#722)\n",
    "    1. [Model 3: Stacking Model](#73)\n",
    "    1. [Model 4: Voting classifier](#74)\n",
    "1. [Conclusion](#8)\n",
    "\n"
   ]
  },
  {
   "cell_type": "markdown",
   "metadata": {},
   "source": [
    "## <a id='1'>1. Initialization</a>  "
   ]
  },
  {
   "cell_type": "markdown",
   "metadata": {},
   "source": [
    "### <a id='11'>A. Load Packages</a>  "
   ]
  },
  {
   "cell_type": "code",
   "execution_count": 1,
   "metadata": {},
   "outputs": [
    {
     "name": "stderr",
     "output_type": "stream",
     "text": [
      "C:\\Users\\behnazfakharfirouzeh\\anaconda3\\lib\\site-packages\\sklearn\\utils\\deprecation.py:143: FutureWarning: The sklearn.metrics.classification module is  deprecated in version 0.22 and will be removed in version 0.24. The corresponding classes / functions should instead be imported from sklearn.metrics. Anything that cannot be imported from sklearn.metrics is now part of the private API.\n",
      "  warnings.warn(message, FutureWarning)\n"
     ]
    }
   ],
   "source": [
    "import os\n",
    "import sys\n",
    "# ------------------------------------------------------------------------------------------------------------------------------\n",
    "# pandas is a Python library written for data manipulation and analysis. \n",
    "# In particular, it offers data structures and operations for manipulating numerical tables and time series.\n",
    "import pandas as pd \n",
    "# NumPy is a Python library for adding support for large, multi-dimensional arrays and matrices, \n",
    "# along with a large collection of high-level mathematical functions to operate on these arrays. \n",
    "import numpy as np\n",
    "# SciPy, which stands for Scientific Python, is a scientific computation library that uses NumPy underneath. It provides more \n",
    "# utility functions for optimization, stats and signal processing.\n",
    "# Stack sparse matrices horizontally (column wise)\n",
    "from scipy.sparse import hstack\n",
    "# ------------------------------------------------------------------------------------------------------------------------------\n",
    "# Visualization\n",
    "# Matplotlib is a plotting library for the Python programming language and its numerical mathematics extension NumPy. It  \n",
    "# provides an object-oriented API for embedding plots into applications using general-purpose GUI toolkits\n",
    "import matplotlib.pyplot as plt\n",
    "%matplotlib inline\n",
    "\n",
    "# Seaborn is a data visualization library built on top of matplotlib and closely integrated with pandas data structures.\n",
    "import seaborn as sns\n",
    "\n",
    "#  is a tool to visualize high-dimensional data. It converts similarities between data points to joint probabilities and tries \n",
    "# to minimize the Kullback-Leibler divergence between the joint probabilities of the low-dimensional embedding and the high-\n",
    "# dimensional data.\n",
    "from sklearn.manifold import TSNE\n",
    "# ------------------------------------------------------------------------------------------------------------------------------\n",
    "# NLP\n",
    "from nltk.corpus import stopwords\n",
    "# CountVectorizer is used to transform a given text into a vector on the basis of the frequency (count) of each word that occurs\n",
    "# in the entire text.\n",
    "from sklearn.feature_extraction.text import CountVectorizer\n",
    "# TfidfVectorizer converts a collection of raw documents to a matrix of TF-IDF features.\n",
    "from sklearn.feature_extraction.text import TfidfVectorizer\n",
    "# ------------------------------------------------------------------------------------------------------------------------------\n",
    "# split into train and test set \n",
    "from sklearn.model_selection import train_test_split\n",
    "# StratifiedKFold, which is a cross-validation object is a variation of KFold that returns stratified folds. The folds are made \n",
    "# by preserving the percentage of samples for each class.\n",
    "from sklearn.model_selection import StratifiedKFold\n",
    "\n",
    "# You can fit a model on a training dataset and calibrate this prefit model using a hold out validation dataset. Alternately, \n",
    "# the CalibratedClassifierCV can fit multiple copies of the model using k-fold cross-validation and calibrate the probabilities \n",
    "# predicted by these models using the hold out set.\n",
    "from sklearn.calibration import CalibratedClassifierCV\n",
    "# ------------------------------------------------------------------------------------------------------------------------------\n",
    "# Classifier\n",
    "from sklearn.linear_model import LogisticRegression\n",
    "from sklearn.ensemble import RandomForestClassifier\n",
    "from sklearn.neighbors import KNeighborsClassifier\n",
    "from sklearn.linear_model import SGDClassifier\n",
    "from sklearn.naive_bayes import MultinomialNB\n",
    "from sklearn.naive_bayes import GaussianNB\n",
    "from sklearn.svm import SVC\n",
    "\n",
    "# Also known as one-vs-all, this strategy consists in fitting one classifier per class. For each classifier, the class is fitted\n",
    "# against all the other classes. In addition to its computational efficiency (only n_classes classifiers are needed), one \n",
    "# advantage of this approach is its interpretability. Since each class is represented by one and one classifier only, it is \n",
    "# possible to gain knowledge about the class by inspecting its corresponding classifier. This is the most commonly used strategy \n",
    "# for multiclass classification and is a fair default choice.\n",
    "from sklearn.multiclass import OneVsRestClassifier\n",
    "\n",
    "# An ensemble-learning meta-classifier for stacking.\n",
    "from mlxtend.classifier import StackingClassifier\n",
    "\n",
    "# Choosing estimators and their parameters\n",
    "from sklearn import model_selection\n",
    "\n",
    "#Refer:http://scikit-learn.org/stable/modules/generated/sklearn.ensemble.VotingClassifier.html\n",
    "from sklearn.ensemble import VotingClassifier\n",
    "# ------------------------------------------------------------------------------------------------------------------------------\n",
    "# Performance evaluation\n",
    "from sklearn.metrics import precision_score, recall_score, f1_score, roc_auc_score\n",
    "from sklearn.metrics.classification import accuracy_score, log_loss\n",
    "from sklearn.metrics import precision_recall_curve, fbeta_score\n",
    "from sklearn.metrics import classification_report\n",
    "from sklearn.metrics import confusion_matrix\n",
    "from sklearn.metrics import roc_curve\n",
    "# ------------------------------------------------------------------------------------------------------------------------------\n",
    "# Resampling models\n",
    "from imblearn.over_sampling import SMOTE\n",
    "# ------------------------------------------------------------------------------------------------------------------------------\n",
    "# Dimensionality Reduction\n",
    "from sklearn.decomposition import TruncatedSVD\n",
    "# ------------------------------------------------------------------------------------------------------------------------------\n",
    "# Hyperparameter Tuning\n",
    "from sklearn.model_selection import GridSearchCV\n",
    "# ------------------------------------------------------------------------------------------------------------------------------\n",
    "# Others!\n",
    "\n",
    "# The math module is a standard module in Python, which gives access to the underlying C library functions.\n",
    "import math\n",
    "\n",
    "# Normalize samples individually to unit norm.\n",
    "from sklearn.preprocessing import normalize\n",
    "\n",
    "# The Python module re provides full support for Perl-like regular expressions in Python. The re module raises the exception re. \n",
    "# error if an error occurs while compiling or using a regular expression.\n",
    "import re\n",
    "\n",
    "# The time() function returns the number of seconds passed since epoch.\n",
    "import time\n",
    "\n",
    "# The shuffle() method takes a sequence, like a list, and reorganize the order of the items.\n",
    "from sklearn.utils import shuffle\n",
    "\n",
    "# Python Counter is a container that will hold the count of each of the elements present in the container. The counter is a \n",
    "\n",
    "# sub-class available inside the dictionary class.\n",
    "\n",
    "# Defaultdict is a container like dictionaries present in the module collections. Defaultdict is a sub-class of the dict class \n",
    "#that returns a dictionary-like object. The functionality of both dictionaries and defualtdict are almost same except for the \n",
    "#fact that defualtdict never raises a KeyError. It provides a default value for the key that does not exists.\n",
    "from collections import Counter, defaultdict\n",
    "# ------------------------------------------------------------------------------------------------------------------------------\n",
    "import warnings\n",
    "warnings.filterwarnings('ignore')\n",
    "# This is to suppress any deprecation warnings "
   ]
  },
  {
   "cell_type": "code",
   "execution_count": 2,
   "metadata": {},
   "outputs": [],
   "source": [
    "# This code helps to print dfs side by side\n",
    "# https://jakevdp.github.io/PythonDataScienceHandbook/03.06-concat-and-append.html\n",
    "\n",
    "class display_df_(object):\n",
    "    \"\"\"Display HTML representation of multiple objects\"\"\"\n",
    "    template = \"\"\"<div style=\"float: left; padding: 10px;\">\n",
    "    <p style='font-family:\"Courier New\", Courier, monospace'>{0}</p>{1}\n",
    "    </div>\"\"\"\n",
    "    def __init__(self, *args):\n",
    "        self.args = args\n",
    "        \n",
    "    def _repr_html_(self):\n",
    "        return '\\n'.join(self.template.format(a, eval(a)._repr_html_())\n",
    "                         for a in self.args)\n",
    "    \n",
    "    def __repr__(self):\n",
    "        return '\\n\\n'.join(a + '\\n' + repr(eval(a))\n",
    "                           for a in self.args)\n",
    "    "
   ]
  },
  {
   "cell_type": "markdown",
   "metadata": {},
   "source": [
    "### <a id='12'>B. Define Metadata</a>  "
   ]
  },
  {
   "cell_type": "code",
   "execution_count": 3,
   "metadata": {},
   "outputs": [],
   "source": [
    "# Define the name of the target class column here instead of manually typing it out everywhere\n",
    "target_class_name = 'Class'\n",
    "\n",
    "input_file_name1 = 'training_variants'\n",
    "input_file_name2 = 'training_text'\n",
    "\n",
    "data_path = 'C:/Behnaz/Udemy/training/'\n"
   ]
  },
  {
   "cell_type": "markdown",
   "metadata": {},
   "source": [
    "## <a id='2'>2. Load Processed Data and Validate</a> "
   ]
  },
  {
   "cell_type": "code",
   "execution_count": 4,
   "metadata": {},
   "outputs": [],
   "source": [
    "df_v = pd.read_csv(data_path + input_file_name1)\n",
    "# Loading training_text dataset. This is seperated by ||\n",
    "df_t =pd.read_csv(data_path + input_file_name2,sep=\"\\|\\|\",engine=\"python\",names=[\"ID\",\"TEXT\"],skiprows=1)"
   ]
  },
  {
   "cell_type": "code",
   "execution_count": 5,
   "metadata": {},
   "outputs": [
    {
     "data": {
      "text/html": [
       "<div style=\"float: left; padding: 10px;\">\n",
       "    <p style='font-family:\"Courier New\", Courier, monospace'>df_v.head(5)</p><div>\n",
       "<style scoped>\n",
       "    .dataframe tbody tr th:only-of-type {\n",
       "        vertical-align: middle;\n",
       "    }\n",
       "\n",
       "    .dataframe tbody tr th {\n",
       "        vertical-align: top;\n",
       "    }\n",
       "\n",
       "    .dataframe thead th {\n",
       "        text-align: right;\n",
       "    }\n",
       "</style>\n",
       "<table border=\"1\" class=\"dataframe\">\n",
       "  <thead>\n",
       "    <tr style=\"text-align: right;\">\n",
       "      <th></th>\n",
       "      <th>ID</th>\n",
       "      <th>Gene</th>\n",
       "      <th>Variation</th>\n",
       "      <th>Class</th>\n",
       "    </tr>\n",
       "  </thead>\n",
       "  <tbody>\n",
       "    <tr>\n",
       "      <th>0</th>\n",
       "      <td>0</td>\n",
       "      <td>FAM58A</td>\n",
       "      <td>Truncating Mutations</td>\n",
       "      <td>1</td>\n",
       "    </tr>\n",
       "    <tr>\n",
       "      <th>1</th>\n",
       "      <td>1</td>\n",
       "      <td>CBL</td>\n",
       "      <td>W802*</td>\n",
       "      <td>2</td>\n",
       "    </tr>\n",
       "    <tr>\n",
       "      <th>2</th>\n",
       "      <td>2</td>\n",
       "      <td>CBL</td>\n",
       "      <td>Q249E</td>\n",
       "      <td>2</td>\n",
       "    </tr>\n",
       "    <tr>\n",
       "      <th>3</th>\n",
       "      <td>3</td>\n",
       "      <td>CBL</td>\n",
       "      <td>N454D</td>\n",
       "      <td>3</td>\n",
       "    </tr>\n",
       "    <tr>\n",
       "      <th>4</th>\n",
       "      <td>4</td>\n",
       "      <td>CBL</td>\n",
       "      <td>L399V</td>\n",
       "      <td>4</td>\n",
       "    </tr>\n",
       "  </tbody>\n",
       "</table>\n",
       "</div>\n",
       "    </div>\n",
       "<div style=\"float: left; padding: 10px;\">\n",
       "    <p style='font-family:\"Courier New\", Courier, monospace'>df_t.head(5)</p><div>\n",
       "<style scoped>\n",
       "    .dataframe tbody tr th:only-of-type {\n",
       "        vertical-align: middle;\n",
       "    }\n",
       "\n",
       "    .dataframe tbody tr th {\n",
       "        vertical-align: top;\n",
       "    }\n",
       "\n",
       "    .dataframe thead th {\n",
       "        text-align: right;\n",
       "    }\n",
       "</style>\n",
       "<table border=\"1\" class=\"dataframe\">\n",
       "  <thead>\n",
       "    <tr style=\"text-align: right;\">\n",
       "      <th></th>\n",
       "      <th>ID</th>\n",
       "      <th>TEXT</th>\n",
       "    </tr>\n",
       "  </thead>\n",
       "  <tbody>\n",
       "    <tr>\n",
       "      <th>0</th>\n",
       "      <td>0</td>\n",
       "      <td>Cyclin-dependent kinases (CDKs) regulate a var...</td>\n",
       "    </tr>\n",
       "    <tr>\n",
       "      <th>1</th>\n",
       "      <td>1</td>\n",
       "      <td>Abstract Background  Non-small cell lung canc...</td>\n",
       "    </tr>\n",
       "    <tr>\n",
       "      <th>2</th>\n",
       "      <td>2</td>\n",
       "      <td>Abstract Background  Non-small cell lung canc...</td>\n",
       "    </tr>\n",
       "    <tr>\n",
       "      <th>3</th>\n",
       "      <td>3</td>\n",
       "      <td>Recent evidence has demonstrated that acquired...</td>\n",
       "    </tr>\n",
       "    <tr>\n",
       "      <th>4</th>\n",
       "      <td>4</td>\n",
       "      <td>Oncogenic mutations in the monomeric Casitas B...</td>\n",
       "    </tr>\n",
       "  </tbody>\n",
       "</table>\n",
       "</div>\n",
       "    </div>"
      ],
      "text/plain": [
       "df_v.head(5)\n",
       "   ID    Gene             Variation  Class\n",
       "0   0  FAM58A  Truncating Mutations      1\n",
       "1   1     CBL                 W802*      2\n",
       "2   2     CBL                 Q249E      2\n",
       "3   3     CBL                 N454D      3\n",
       "4   4     CBL                 L399V      4\n",
       "\n",
       "df_t.head(5)\n",
       "   ID                                               TEXT\n",
       "0   0  Cyclin-dependent kinases (CDKs) regulate a var...\n",
       "1   1   Abstract Background  Non-small cell lung canc...\n",
       "2   2   Abstract Background  Non-small cell lung canc...\n",
       "3   3  Recent evidence has demonstrated that acquired...\n",
       "4   4  Oncogenic mutations in the monomeric Casitas B..."
      ]
     },
     "execution_count": 5,
     "metadata": {},
     "output_type": "execute_result"
    }
   ],
   "source": [
    "display_df_('df_v.head(5)', 'df_t.head(5)')"
   ]
  },
  {
   "cell_type": "code",
   "execution_count": 6,
   "metadata": {},
   "outputs": [
    {
     "data": {
      "text/html": [
       "<div style=\"float: left; padding: 10px;\">\n",
       "    <p style='font-family:\"Courier New\", Courier, monospace'>df_v.tail(5)</p><div>\n",
       "<style scoped>\n",
       "    .dataframe tbody tr th:only-of-type {\n",
       "        vertical-align: middle;\n",
       "    }\n",
       "\n",
       "    .dataframe tbody tr th {\n",
       "        vertical-align: top;\n",
       "    }\n",
       "\n",
       "    .dataframe thead th {\n",
       "        text-align: right;\n",
       "    }\n",
       "</style>\n",
       "<table border=\"1\" class=\"dataframe\">\n",
       "  <thead>\n",
       "    <tr style=\"text-align: right;\">\n",
       "      <th></th>\n",
       "      <th>ID</th>\n",
       "      <th>Gene</th>\n",
       "      <th>Variation</th>\n",
       "      <th>Class</th>\n",
       "    </tr>\n",
       "  </thead>\n",
       "  <tbody>\n",
       "    <tr>\n",
       "      <th>3316</th>\n",
       "      <td>3316</td>\n",
       "      <td>RUNX1</td>\n",
       "      <td>D171N</td>\n",
       "      <td>4</td>\n",
       "    </tr>\n",
       "    <tr>\n",
       "      <th>3317</th>\n",
       "      <td>3317</td>\n",
       "      <td>RUNX1</td>\n",
       "      <td>A122*</td>\n",
       "      <td>1</td>\n",
       "    </tr>\n",
       "    <tr>\n",
       "      <th>3318</th>\n",
       "      <td>3318</td>\n",
       "      <td>RUNX1</td>\n",
       "      <td>Fusions</td>\n",
       "      <td>1</td>\n",
       "    </tr>\n",
       "    <tr>\n",
       "      <th>3319</th>\n",
       "      <td>3319</td>\n",
       "      <td>RUNX1</td>\n",
       "      <td>R80C</td>\n",
       "      <td>4</td>\n",
       "    </tr>\n",
       "    <tr>\n",
       "      <th>3320</th>\n",
       "      <td>3320</td>\n",
       "      <td>RUNX1</td>\n",
       "      <td>K83E</td>\n",
       "      <td>4</td>\n",
       "    </tr>\n",
       "  </tbody>\n",
       "</table>\n",
       "</div>\n",
       "    </div>\n",
       "<div style=\"float: left; padding: 10px;\">\n",
       "    <p style='font-family:\"Courier New\", Courier, monospace'>df_t.tail(5)</p><div>\n",
       "<style scoped>\n",
       "    .dataframe tbody tr th:only-of-type {\n",
       "        vertical-align: middle;\n",
       "    }\n",
       "\n",
       "    .dataframe tbody tr th {\n",
       "        vertical-align: top;\n",
       "    }\n",
       "\n",
       "    .dataframe thead th {\n",
       "        text-align: right;\n",
       "    }\n",
       "</style>\n",
       "<table border=\"1\" class=\"dataframe\">\n",
       "  <thead>\n",
       "    <tr style=\"text-align: right;\">\n",
       "      <th></th>\n",
       "      <th>ID</th>\n",
       "      <th>TEXT</th>\n",
       "    </tr>\n",
       "  </thead>\n",
       "  <tbody>\n",
       "    <tr>\n",
       "      <th>3316</th>\n",
       "      <td>3316</td>\n",
       "      <td>Introduction  Myelodysplastic syndromes (MDS) ...</td>\n",
       "    </tr>\n",
       "    <tr>\n",
       "      <th>3317</th>\n",
       "      <td>3317</td>\n",
       "      <td>Introduction  Myelodysplastic syndromes (MDS) ...</td>\n",
       "    </tr>\n",
       "    <tr>\n",
       "      <th>3318</th>\n",
       "      <td>3318</td>\n",
       "      <td>The Runt-related transcription factor 1 gene (...</td>\n",
       "    </tr>\n",
       "    <tr>\n",
       "      <th>3319</th>\n",
       "      <td>3319</td>\n",
       "      <td>The RUNX1/AML1 gene is the most frequent targe...</td>\n",
       "    </tr>\n",
       "    <tr>\n",
       "      <th>3320</th>\n",
       "      <td>3320</td>\n",
       "      <td>The most frequent mutations associated with le...</td>\n",
       "    </tr>\n",
       "  </tbody>\n",
       "</table>\n",
       "</div>\n",
       "    </div>"
      ],
      "text/plain": [
       "df_v.tail(5)\n",
       "        ID   Gene Variation  Class\n",
       "3316  3316  RUNX1     D171N      4\n",
       "3317  3317  RUNX1     A122*      1\n",
       "3318  3318  RUNX1   Fusions      1\n",
       "3319  3319  RUNX1      R80C      4\n",
       "3320  3320  RUNX1      K83E      4\n",
       "\n",
       "df_t.tail(5)\n",
       "        ID                                               TEXT\n",
       "3316  3316  Introduction  Myelodysplastic syndromes (MDS) ...\n",
       "3317  3317  Introduction  Myelodysplastic syndromes (MDS) ...\n",
       "3318  3318  The Runt-related transcription factor 1 gene (...\n",
       "3319  3319  The RUNX1/AML1 gene is the most frequent targe...\n",
       "3320  3320  The most frequent mutations associated with le..."
      ]
     },
     "execution_count": 6,
     "metadata": {},
     "output_type": "execute_result"
    }
   ],
   "source": [
    "display_df_('df_v.tail(5)', 'df_t.tail(5)')"
   ]
  },
  {
   "cell_type": "markdown",
   "metadata": {},
   "source": [
    "#### $\\rightarrow$ No trouble with loading the data, the head and tail."
   ]
  },
  {
   "cell_type": "markdown",
   "metadata": {},
   "source": [
    "## <a id=3 > 3. Data Insights"
   ]
  },
  {
   "cell_type": "markdown",
   "metadata": {},
   "source": [
    "### <a id='31'>A. Data Structure</a> "
   ]
  },
  {
   "cell_type": "code",
   "execution_count": 7,
   "metadata": {
    "scrolled": true
   },
   "outputs": [
    {
     "name": "stdout",
     "output_type": "stream",
     "text": [
      "<class 'pandas.core.frame.DataFrame'>\n",
      "RangeIndex: 3321 entries, 0 to 3320\n",
      "Data columns (total 4 columns):\n",
      " #   Column     Non-Null Count  Dtype \n",
      "---  ------     --------------  ----- \n",
      " 0   ID         3321 non-null   int64 \n",
      " 1   Gene       3321 non-null   object\n",
      " 2   Variation  3321 non-null   object\n",
      " 3   Class      3321 non-null   int64 \n",
      "dtypes: int64(2), object(2)\n",
      "memory usage: 103.9+ KB\n"
     ]
    },
    {
     "data": {
      "text/plain": [
       "None"
      ]
     },
     "metadata": {},
     "output_type": "display_data"
    }
   ],
   "source": [
    "# Lets see the data structure\n",
    "display(df_v.info())\n",
    "# This will give you an indication of how many rows and columns are present in the dataset"
   ]
  },
  {
   "cell_type": "code",
   "execution_count": 8,
   "metadata": {},
   "outputs": [
    {
     "name": "stdout",
     "output_type": "stream",
     "text": [
      "<class 'pandas.core.frame.DataFrame'>\n",
      "RangeIndex: 3321 entries, 0 to 3320\n",
      "Data columns (total 2 columns):\n",
      " #   Column  Non-Null Count  Dtype \n",
      "---  ------  --------------  ----- \n",
      " 0   ID      3321 non-null   int64 \n",
      " 1   TEXT    3316 non-null   object\n",
      "dtypes: int64(1), object(1)\n",
      "memory usage: 52.0+ KB\n"
     ]
    }
   ],
   "source": [
    "# Lets see the data structure\n",
    "df_t.info()\n",
    "# This will give you an indication of how many rows and columns are present in the dataset."
   ]
  },
  {
   "cell_type": "markdown",
   "metadata": {},
   "source": [
    "### <a id='32'>B. Summary Stats</a> "
   ]
  },
  {
   "cell_type": "code",
   "execution_count": 9,
   "metadata": {},
   "outputs": [
    {
     "data": {
      "text/html": [
       "<div style=\"float: left; padding: 10px;\">\n",
       "    <p style='font-family:\"Courier New\", Courier, monospace'>df_v.describe()</p><div>\n",
       "<style scoped>\n",
       "    .dataframe tbody tr th:only-of-type {\n",
       "        vertical-align: middle;\n",
       "    }\n",
       "\n",
       "    .dataframe tbody tr th {\n",
       "        vertical-align: top;\n",
       "    }\n",
       "\n",
       "    .dataframe thead th {\n",
       "        text-align: right;\n",
       "    }\n",
       "</style>\n",
       "<table border=\"1\" class=\"dataframe\">\n",
       "  <thead>\n",
       "    <tr style=\"text-align: right;\">\n",
       "      <th></th>\n",
       "      <th>ID</th>\n",
       "      <th>Class</th>\n",
       "    </tr>\n",
       "  </thead>\n",
       "  <tbody>\n",
       "    <tr>\n",
       "      <th>count</th>\n",
       "      <td>3321.000000</td>\n",
       "      <td>3321.000000</td>\n",
       "    </tr>\n",
       "    <tr>\n",
       "      <th>mean</th>\n",
       "      <td>1660.000000</td>\n",
       "      <td>4.365854</td>\n",
       "    </tr>\n",
       "    <tr>\n",
       "      <th>std</th>\n",
       "      <td>958.834449</td>\n",
       "      <td>2.309781</td>\n",
       "    </tr>\n",
       "    <tr>\n",
       "      <th>min</th>\n",
       "      <td>0.000000</td>\n",
       "      <td>1.000000</td>\n",
       "    </tr>\n",
       "    <tr>\n",
       "      <th>25%</th>\n",
       "      <td>830.000000</td>\n",
       "      <td>2.000000</td>\n",
       "    </tr>\n",
       "    <tr>\n",
       "      <th>50%</th>\n",
       "      <td>1660.000000</td>\n",
       "      <td>4.000000</td>\n",
       "    </tr>\n",
       "    <tr>\n",
       "      <th>75%</th>\n",
       "      <td>2490.000000</td>\n",
       "      <td>7.000000</td>\n",
       "    </tr>\n",
       "    <tr>\n",
       "      <th>max</th>\n",
       "      <td>3320.000000</td>\n",
       "      <td>9.000000</td>\n",
       "    </tr>\n",
       "  </tbody>\n",
       "</table>\n",
       "</div>\n",
       "    </div>\n",
       "<div style=\"float: left; padding: 10px;\">\n",
       "    <p style='font-family:\"Courier New\", Courier, monospace'>df_t.describe()</p><div>\n",
       "<style scoped>\n",
       "    .dataframe tbody tr th:only-of-type {\n",
       "        vertical-align: middle;\n",
       "    }\n",
       "\n",
       "    .dataframe tbody tr th {\n",
       "        vertical-align: top;\n",
       "    }\n",
       "\n",
       "    .dataframe thead th {\n",
       "        text-align: right;\n",
       "    }\n",
       "</style>\n",
       "<table border=\"1\" class=\"dataframe\">\n",
       "  <thead>\n",
       "    <tr style=\"text-align: right;\">\n",
       "      <th></th>\n",
       "      <th>ID</th>\n",
       "    </tr>\n",
       "  </thead>\n",
       "  <tbody>\n",
       "    <tr>\n",
       "      <th>count</th>\n",
       "      <td>3321.000000</td>\n",
       "    </tr>\n",
       "    <tr>\n",
       "      <th>mean</th>\n",
       "      <td>1660.000000</td>\n",
       "    </tr>\n",
       "    <tr>\n",
       "      <th>std</th>\n",
       "      <td>958.834449</td>\n",
       "    </tr>\n",
       "    <tr>\n",
       "      <th>min</th>\n",
       "      <td>0.000000</td>\n",
       "    </tr>\n",
       "    <tr>\n",
       "      <th>25%</th>\n",
       "      <td>830.000000</td>\n",
       "    </tr>\n",
       "    <tr>\n",
       "      <th>50%</th>\n",
       "      <td>1660.000000</td>\n",
       "    </tr>\n",
       "    <tr>\n",
       "      <th>75%</th>\n",
       "      <td>2490.000000</td>\n",
       "    </tr>\n",
       "    <tr>\n",
       "      <th>max</th>\n",
       "      <td>3320.000000</td>\n",
       "    </tr>\n",
       "  </tbody>\n",
       "</table>\n",
       "</div>\n",
       "    </div>"
      ],
      "text/plain": [
       "df_v.describe()\n",
       "                ID        Class\n",
       "count  3321.000000  3321.000000\n",
       "mean   1660.000000     4.365854\n",
       "std     958.834449     2.309781\n",
       "min       0.000000     1.000000\n",
       "25%     830.000000     2.000000\n",
       "50%    1660.000000     4.000000\n",
       "75%    2490.000000     7.000000\n",
       "max    3320.000000     9.000000\n",
       "\n",
       "df_t.describe()\n",
       "                ID\n",
       "count  3321.000000\n",
       "mean   1660.000000\n",
       "std     958.834449\n",
       "min       0.000000\n",
       "25%     830.000000\n",
       "50%    1660.000000\n",
       "75%    2490.000000\n",
       "max    3320.000000"
      ]
     },
     "execution_count": 9,
     "metadata": {},
     "output_type": "execute_result"
    }
   ],
   "source": [
    "display_df_('df_v.describe()','df_t.describe()')"
   ]
  },
  {
   "cell_type": "markdown",
   "metadata": {},
   "source": [
    "### <a id='34'>C. Dataset shape</a> "
   ]
  },
  {
   "cell_type": "code",
   "execution_count": 10,
   "metadata": {
    "scrolled": true
   },
   "outputs": [
    {
     "name": "stdout",
     "output_type": "stream",
     "text": [
      "Shape of variants dataset: (3321, 4)\n",
      "Shape of text dataset: (3321, 2)\n"
     ]
    }
   ],
   "source": [
    "print('Shape of variants dataset:', df_v.shape)\n",
    "print('Shape of text dataset:', df_t.shape)"
   ]
  },
  {
   "cell_type": "markdown",
   "metadata": {},
   "source": [
    "## <a id=4 > 4. Data Cleansing"
   ]
  },
  {
   "cell_type": "markdown",
   "metadata": {},
   "source": [
    "- Convert the data into a format that our ML method can understand it better. Such as\n",
    " - Unnessaury numbers\n",
    " - Stop words (e.g; “the”, “is”, “in”, “for”, “where”, “when”, “to”, “at”, etc.) \n",
    " - Extra spaces."
   ]
  },
  {
   "cell_type": "markdown",
   "metadata": {},
   "source": [
    "### <a id='41'>A.Text Processing</a> "
   ]
  },
  {
   "cell_type": "code",
   "execution_count": 11,
   "metadata": {},
   "outputs": [],
   "source": [
    "# To remove all English stop words like a, is, an, the, etc, we can use the following nltk library.\n",
    "stop_words = set(stopwords.words('english'))"
   ]
  },
  {
   "cell_type": "code",
   "execution_count": 12,
   "metadata": {},
   "outputs": [],
   "source": [
    "def data_text_preprocess(total_text, ind, col):\n",
    "    # Removing insignificant int values from text data \n",
    "    if type(total_text) is not int:\n",
    "        string = \"\"\n",
    "        # Replacing all special char with space\n",
    "        total_text = re.sub('[^a-zA-Z0-9\\n]', ' ', str(total_text))\n",
    "        # Replacing multiple spaces with single space\n",
    "        total_text = re.sub('\\s+',' ', str(total_text))\n",
    "        # Converting all uppercase characters to lowercase. \n",
    "        total_text = total_text.lower()\n",
    "        \n",
    "        for word in total_text.split():\n",
    "        # if the word is a not a stop word then retain that word from text.\n",
    "            if not word in stop_words:\n",
    "                string += word + \" \"\n",
    "        \n",
    "        df_t[col][ind] = string"
   ]
  },
  {
   "cell_type": "code",
   "execution_count": 13,
   "metadata": {},
   "outputs": [],
   "source": [
    "# Below code will take some time because its huge text (took 4 minute on my 16 GB RAM system), so run it and have a cup of coffee :)\n",
    "for index, row in df_t.iterrows():\n",
    "    if type(row['TEXT']) is str:\n",
    "        data_text_preprocess(row['TEXT'], index, 'TEXT')"
   ]
  },
  {
   "cell_type": "code",
   "execution_count": 14,
   "metadata": {},
   "outputs": [],
   "source": [
    "# Ensure that all spaces in Gene and Variation column to be replaced by _.\n",
    "df_v.Gene      = df_v.Gene.str.replace('\\s+', '_')\n",
    "df_v.Variation = df_v.Variation.str.replace('\\s+', '_')"
   ]
  },
  {
   "cell_type": "markdown",
   "metadata": {},
   "source": [
    "### <a id='42'>B. Merge Two datasets</a> "
   ]
  },
  {
   "cell_type": "code",
   "execution_count": 15,
   "metadata": {},
   "outputs": [
    {
     "data": {
      "text/html": [
       "<div>\n",
       "<style scoped>\n",
       "    .dataframe tbody tr th:only-of-type {\n",
       "        vertical-align: middle;\n",
       "    }\n",
       "\n",
       "    .dataframe tbody tr th {\n",
       "        vertical-align: top;\n",
       "    }\n",
       "\n",
       "    .dataframe thead th {\n",
       "        text-align: right;\n",
       "    }\n",
       "</style>\n",
       "<table border=\"1\" class=\"dataframe\">\n",
       "  <thead>\n",
       "    <tr style=\"text-align: right;\">\n",
       "      <th></th>\n",
       "      <th>ID</th>\n",
       "      <th>Gene</th>\n",
       "      <th>Variation</th>\n",
       "      <th>Class</th>\n",
       "      <th>TEXT</th>\n",
       "    </tr>\n",
       "  </thead>\n",
       "  <tbody>\n",
       "    <tr>\n",
       "      <th>0</th>\n",
       "      <td>0</td>\n",
       "      <td>FAM58A</td>\n",
       "      <td>Truncating_Mutations</td>\n",
       "      <td>1</td>\n",
       "      <td>cyclin dependent kinases cdks regulate variety...</td>\n",
       "    </tr>\n",
       "    <tr>\n",
       "      <th>1</th>\n",
       "      <td>1</td>\n",
       "      <td>CBL</td>\n",
       "      <td>W802*</td>\n",
       "      <td>2</td>\n",
       "      <td>abstract background non small cell lung cancer...</td>\n",
       "    </tr>\n",
       "    <tr>\n",
       "      <th>2</th>\n",
       "      <td>2</td>\n",
       "      <td>CBL</td>\n",
       "      <td>Q249E</td>\n",
       "      <td>2</td>\n",
       "      <td>abstract background non small cell lung cancer...</td>\n",
       "    </tr>\n",
       "    <tr>\n",
       "      <th>3</th>\n",
       "      <td>3</td>\n",
       "      <td>CBL</td>\n",
       "      <td>N454D</td>\n",
       "      <td>3</td>\n",
       "      <td>recent evidence demonstrated acquired uniparen...</td>\n",
       "    </tr>\n",
       "    <tr>\n",
       "      <th>4</th>\n",
       "      <td>4</td>\n",
       "      <td>CBL</td>\n",
       "      <td>L399V</td>\n",
       "      <td>4</td>\n",
       "      <td>oncogenic mutations monomeric casitas b lineag...</td>\n",
       "    </tr>\n",
       "  </tbody>\n",
       "</table>\n",
       "</div>"
      ],
      "text/plain": [
       "   ID    Gene             Variation  Class  \\\n",
       "0   0  FAM58A  Truncating_Mutations      1   \n",
       "1   1     CBL                 W802*      2   \n",
       "2   2     CBL                 Q249E      2   \n",
       "3   3     CBL                 N454D      3   \n",
       "4   4     CBL                 L399V      4   \n",
       "\n",
       "                                                TEXT  \n",
       "0  cyclin dependent kinases cdks regulate variety...  \n",
       "1  abstract background non small cell lung cancer...  \n",
       "2  abstract background non small cell lung cancer...  \n",
       "3  recent evidence demonstrated acquired uniparen...  \n",
       "4  oncogenic mutations monomeric casitas b lineag...  "
      ]
     },
     "execution_count": 15,
     "metadata": {},
     "output_type": "execute_result"
    }
   ],
   "source": [
    "#merging both gene_variations and text data based on ID\n",
    "df = pd.merge(df_v, df_t,on='ID', how='left')\n",
    "df.head()"
   ]
  },
  {
   "cell_type": "code",
   "execution_count": 16,
   "metadata": {},
   "outputs": [
    {
     "name": "stdout",
     "output_type": "stream",
     "text": [
      "Shape of the dataset after concatination: (3321, 5)\n"
     ]
    }
   ],
   "source": [
    "print('Shape of the dataset after concatination:', df.shape)"
   ]
  },
  {
   "cell_type": "markdown",
   "metadata": {},
   "source": [
    "### <a id='43'>C. Handeling Missing Values</a> "
   ]
  },
  {
   "cell_type": "code",
   "execution_count": 17,
   "metadata": {},
   "outputs": [
    {
     "data": {
      "text/html": [
       "<div>\n",
       "<style scoped>\n",
       "    .dataframe tbody tr th:only-of-type {\n",
       "        vertical-align: middle;\n",
       "    }\n",
       "\n",
       "    .dataframe tbody tr th {\n",
       "        vertical-align: top;\n",
       "    }\n",
       "\n",
       "    .dataframe thead th {\n",
       "        text-align: right;\n",
       "    }\n",
       "</style>\n",
       "<table border=\"1\" class=\"dataframe\">\n",
       "  <thead>\n",
       "    <tr style=\"text-align: right;\">\n",
       "      <th></th>\n",
       "      <th>ID</th>\n",
       "      <th>Gene</th>\n",
       "      <th>Variation</th>\n",
       "      <th>Class</th>\n",
       "      <th>TEXT</th>\n",
       "    </tr>\n",
       "  </thead>\n",
       "  <tbody>\n",
       "    <tr>\n",
       "      <th>1109</th>\n",
       "      <td>1109</td>\n",
       "      <td>FANCA</td>\n",
       "      <td>S1088F</td>\n",
       "      <td>1</td>\n",
       "      <td>NaN</td>\n",
       "    </tr>\n",
       "    <tr>\n",
       "      <th>1277</th>\n",
       "      <td>1277</td>\n",
       "      <td>ARID5B</td>\n",
       "      <td>Truncating_Mutations</td>\n",
       "      <td>1</td>\n",
       "      <td>NaN</td>\n",
       "    </tr>\n",
       "    <tr>\n",
       "      <th>1407</th>\n",
       "      <td>1407</td>\n",
       "      <td>FGFR3</td>\n",
       "      <td>K508M</td>\n",
       "      <td>6</td>\n",
       "      <td>NaN</td>\n",
       "    </tr>\n",
       "    <tr>\n",
       "      <th>1639</th>\n",
       "      <td>1639</td>\n",
       "      <td>FLT1</td>\n",
       "      <td>Amplification</td>\n",
       "      <td>6</td>\n",
       "      <td>NaN</td>\n",
       "    </tr>\n",
       "    <tr>\n",
       "      <th>2755</th>\n",
       "      <td>2755</td>\n",
       "      <td>BRAF</td>\n",
       "      <td>G596C</td>\n",
       "      <td>7</td>\n",
       "      <td>NaN</td>\n",
       "    </tr>\n",
       "  </tbody>\n",
       "</table>\n",
       "</div>"
      ],
      "text/plain": [
       "        ID    Gene             Variation  Class TEXT\n",
       "1109  1109   FANCA                S1088F      1  NaN\n",
       "1277  1277  ARID5B  Truncating_Mutations      1  NaN\n",
       "1407  1407   FGFR3                 K508M      6  NaN\n",
       "1639  1639    FLT1         Amplification      6  NaN\n",
       "2755  2755    BRAF                 G596C      7  NaN"
      ]
     },
     "execution_count": 17,
     "metadata": {},
     "output_type": "execute_result"
    }
   ],
   "source": [
    "df[df.isnull().any(axis=1)]"
   ]
  },
  {
   "cell_type": "markdown",
   "metadata": {},
   "source": [
    "Based on the above table, there are many rows with missing values. To handel missing value we can either drop rows having missing values or do some imputation in it. Here, we consider imputation since we have a small dataset. \n",
    "\n",
    "For imputation, we replace NaN with the concatination value of Gene and Variation column."
   ]
  },
  {
   "cell_type": "code",
   "execution_count": 18,
   "metadata": {},
   "outputs": [],
   "source": [
    "df.loc[df['TEXT'].isnull(),'TEXT'] = df['Gene'] +' '+ df['Variation']"
   ]
  },
  {
   "cell_type": "code",
   "execution_count": 19,
   "metadata": {},
   "outputs": [
    {
     "data": {
      "text/html": [
       "<div>\n",
       "<style scoped>\n",
       "    .dataframe tbody tr th:only-of-type {\n",
       "        vertical-align: middle;\n",
       "    }\n",
       "\n",
       "    .dataframe tbody tr th {\n",
       "        vertical-align: top;\n",
       "    }\n",
       "\n",
       "    .dataframe thead th {\n",
       "        text-align: right;\n",
       "    }\n",
       "</style>\n",
       "<table border=\"1\" class=\"dataframe\">\n",
       "  <thead>\n",
       "    <tr style=\"text-align: right;\">\n",
       "      <th></th>\n",
       "      <th>ID</th>\n",
       "      <th>Gene</th>\n",
       "      <th>Variation</th>\n",
       "      <th>Class</th>\n",
       "      <th>TEXT</th>\n",
       "    </tr>\n",
       "  </thead>\n",
       "  <tbody>\n",
       "  </tbody>\n",
       "</table>\n",
       "</div>"
      ],
      "text/plain": [
       "Empty DataFrame\n",
       "Columns: [ID, Gene, Variation, Class, TEXT]\n",
       "Index: []"
      ]
     },
     "execution_count": 19,
     "metadata": {},
     "output_type": "execute_result"
    }
   ],
   "source": [
    "# Check for mising value after imputation\n",
    "df[df.isnull().any(axis=1)]"
   ]
  },
  {
   "cell_type": "markdown",
   "metadata": {},
   "source": [
    "There is no missing value in the dataset."
   ]
  },
  {
   "cell_type": "markdown",
   "metadata": {},
   "source": [
    "## <a id=5 > 5. Split Dataset"
   ]
  },
  {
   "cell_type": "markdown",
   "metadata": {},
   "source": [
    "### <a id='51'>A. Feature - Target Split </a> "
   ]
  },
  {
   "cell_type": "code",
   "execution_count": 20,
   "metadata": {},
   "outputs": [],
   "source": [
    "X = df.drop(target_class_name, axis=1)\n",
    "y = df[target_class_name].values"
   ]
  },
  {
   "cell_type": "markdown",
   "metadata": {},
   "source": [
    "### <a id='52'>B. Train - Test - Validation Split</a> "
   ]
  },
  {
   "cell_type": "code",
   "execution_count": 21,
   "metadata": {},
   "outputs": [
    {
     "name": "stdout",
     "output_type": "stream",
     "text": [
      "Number of data points in train data: 2124\n",
      "Number of data points in test data: 665\n",
      "Number of data points in validation data: 532\n"
     ]
    }
   ],
   "source": [
    "# Split the data into 80% train and 20% test set. \n",
    "X1_train, X_test, y1_train, y_test = train_test_split(df, y, stratify=y, test_size=0.2,random_state=42)\n",
    "# Split the train data now into 80% train and 20% validation set.\n",
    "X_train, X_cv, y_train, y_cv = train_test_split(X1_train, y1_train, stratify=y1_train, test_size=0.2,random_state=42)\n",
    "\n",
    "print('Number of data points in train data:', X_train.shape[0])\n",
    "print('Number of data points in test data:', X_test.shape[0])\n",
    "print('Number of data points in validation data:', X_cv.shape[0])"
   ]
  },
  {
   "cell_type": "markdown",
   "metadata": {},
   "source": [
    "### <a id='53'>C. Distribution of data in Train, Test and Validation set.</a> "
   ]
  },
  {
   "cell_type": "code",
   "execution_count": 22,
   "metadata": {},
   "outputs": [
    {
     "data": {
      "text/html": [
       "<div>\n",
       "<style scoped>\n",
       "    .dataframe tbody tr th:only-of-type {\n",
       "        vertical-align: middle;\n",
       "    }\n",
       "\n",
       "    .dataframe tbody tr th {\n",
       "        vertical-align: top;\n",
       "    }\n",
       "\n",
       "    .dataframe thead th {\n",
       "        text-align: right;\n",
       "    }\n",
       "</style>\n",
       "<table border=\"1\" class=\"dataframe\">\n",
       "  <thead>\n",
       "    <tr style=\"text-align: right;\">\n",
       "      <th></th>\n",
       "      <th>train data</th>\n",
       "      <th>test data</th>\n",
       "      <th>validation data</th>\n",
       "    </tr>\n",
       "  </thead>\n",
       "  <tbody>\n",
       "    <tr>\n",
       "      <th>1</th>\n",
       "      <td>363</td>\n",
       "      <td>114</td>\n",
       "      <td>91</td>\n",
       "    </tr>\n",
       "    <tr>\n",
       "      <th>2</th>\n",
       "      <td>289</td>\n",
       "      <td>91</td>\n",
       "      <td>72</td>\n",
       "    </tr>\n",
       "    <tr>\n",
       "      <th>3</th>\n",
       "      <td>57</td>\n",
       "      <td>18</td>\n",
       "      <td>14</td>\n",
       "    </tr>\n",
       "    <tr>\n",
       "      <th>4</th>\n",
       "      <td>439</td>\n",
       "      <td>137</td>\n",
       "      <td>110</td>\n",
       "    </tr>\n",
       "    <tr>\n",
       "      <th>5</th>\n",
       "      <td>155</td>\n",
       "      <td>48</td>\n",
       "      <td>39</td>\n",
       "    </tr>\n",
       "    <tr>\n",
       "      <th>6</th>\n",
       "      <td>176</td>\n",
       "      <td>55</td>\n",
       "      <td>44</td>\n",
       "    </tr>\n",
       "    <tr>\n",
       "      <th>7</th>\n",
       "      <td>609</td>\n",
       "      <td>191</td>\n",
       "      <td>153</td>\n",
       "    </tr>\n",
       "    <tr>\n",
       "      <th>8</th>\n",
       "      <td>12</td>\n",
       "      <td>4</td>\n",
       "      <td>3</td>\n",
       "    </tr>\n",
       "    <tr>\n",
       "      <th>9</th>\n",
       "      <td>24</td>\n",
       "      <td>7</td>\n",
       "      <td>6</td>\n",
       "    </tr>\n",
       "  </tbody>\n",
       "</table>\n",
       "</div>"
      ],
      "text/plain": [
       "   train data  test data  validation data\n",
       "1         363        114               91\n",
       "2         289         91               72\n",
       "3          57         18               14\n",
       "4         439        137              110\n",
       "5         155         48               39\n",
       "6         176         55               44\n",
       "7         609        191              153\n",
       "8          12          4                3\n",
       "9          24          7                6"
      ]
     },
     "execution_count": 22,
     "metadata": {},
     "output_type": "execute_result"
    }
   ],
   "source": [
    "# To make sure that we have proper class distribution in each set.\n",
    "Distribution_df = pd.DataFrame(columns = ['train data','test data','validation data'],index = df['Class'].unique())\n",
    "\n",
    "# X_train['Class'].value_counts().sort_index()\n",
    "Distribution_df['train data'] = X_train['Class'].value_counts().sort_index()\n",
    "Distribution_df['test data'] = X_test['Class'].value_counts().sort_index()\n",
    "Distribution_df['validation data'] = X_cv['Class'].value_counts().sort_index()\n",
    "Distribution_df"
   ]
  },
  {
   "cell_type": "markdown",
   "metadata": {},
   "source": [
    "To better observe the distribution of classes in different sets, we can show the class distribution in %."
   ]
  },
  {
   "cell_type": "code",
   "execution_count": 23,
   "metadata": {},
   "outputs": [
    {
     "data": {
      "text/html": [
       "<div>\n",
       "<style scoped>\n",
       "    .dataframe tbody tr th:only-of-type {\n",
       "        vertical-align: middle;\n",
       "    }\n",
       "\n",
       "    .dataframe tbody tr th {\n",
       "        vertical-align: top;\n",
       "    }\n",
       "\n",
       "    .dataframe thead th {\n",
       "        text-align: right;\n",
       "    }\n",
       "</style>\n",
       "<table border=\"1\" class=\"dataframe\">\n",
       "  <thead>\n",
       "    <tr style=\"text-align: right;\">\n",
       "      <th></th>\n",
       "      <th>train data %</th>\n",
       "      <th>test data %</th>\n",
       "      <th>validation data %</th>\n",
       "    </tr>\n",
       "  </thead>\n",
       "  <tbody>\n",
       "    <tr>\n",
       "      <th>1</th>\n",
       "      <td>17.090</td>\n",
       "      <td>17.143</td>\n",
       "      <td>17.105</td>\n",
       "    </tr>\n",
       "    <tr>\n",
       "      <th>2</th>\n",
       "      <td>13.606</td>\n",
       "      <td>13.684</td>\n",
       "      <td>13.534</td>\n",
       "    </tr>\n",
       "    <tr>\n",
       "      <th>3</th>\n",
       "      <td>2.684</td>\n",
       "      <td>2.707</td>\n",
       "      <td>2.632</td>\n",
       "    </tr>\n",
       "    <tr>\n",
       "      <th>4</th>\n",
       "      <td>20.669</td>\n",
       "      <td>20.602</td>\n",
       "      <td>20.677</td>\n",
       "    </tr>\n",
       "    <tr>\n",
       "      <th>5</th>\n",
       "      <td>7.298</td>\n",
       "      <td>7.218</td>\n",
       "      <td>7.331</td>\n",
       "    </tr>\n",
       "    <tr>\n",
       "      <th>6</th>\n",
       "      <td>8.286</td>\n",
       "      <td>8.271</td>\n",
       "      <td>8.271</td>\n",
       "    </tr>\n",
       "    <tr>\n",
       "      <th>7</th>\n",
       "      <td>28.672</td>\n",
       "      <td>28.722</td>\n",
       "      <td>28.759</td>\n",
       "    </tr>\n",
       "    <tr>\n",
       "      <th>8</th>\n",
       "      <td>0.565</td>\n",
       "      <td>0.602</td>\n",
       "      <td>0.564</td>\n",
       "    </tr>\n",
       "    <tr>\n",
       "      <th>9</th>\n",
       "      <td>1.130</td>\n",
       "      <td>1.053</td>\n",
       "      <td>1.128</td>\n",
       "    </tr>\n",
       "  </tbody>\n",
       "</table>\n",
       "</div>"
      ],
      "text/plain": [
       "   train data %  test data %  validation data %\n",
       "1        17.090       17.143             17.105\n",
       "2        13.606       13.684             13.534\n",
       "3         2.684        2.707              2.632\n",
       "4        20.669       20.602             20.677\n",
       "5         7.298        7.218              7.331\n",
       "6         8.286        8.271              8.271\n",
       "7        28.672       28.722             28.759\n",
       "8         0.565        0.602              0.564\n",
       "9         1.130        1.053              1.128"
      ]
     },
     "execution_count": 23,
     "metadata": {},
     "output_type": "execute_result"
    }
   ],
   "source": [
    "# To make sure that we have proper class distribution in each set.\n",
    "Distribution_per_df = pd.DataFrame(columns = ['train data %','test data %','validation data %'],index = df['Class'].unique())\n",
    "\n",
    "# X_train['Class'].value_counts().sort_index()\n",
    "Distribution_per_df['train data %'] = np.round((Distribution_df['train data'].values[:]/X_train.shape[0]*100), 3)\n",
    "Distribution_per_df['test data %'] = np.round((Distribution_df['test data'].values[:]/X_test.shape[0]*100), 3)\n",
    "Distribution_per_df['validation data %'] = np.round((Distribution_df['validation data'].values[:]/X_cv.shape[0]*100), 3)\n",
    "Distribution_per_df"
   ]
  },
  {
   "cell_type": "code",
   "execution_count": 24,
   "metadata": {},
   "outputs": [
    {
     "data": {
      "text/plain": [
       "[Text(0, 0.5, 'Data points (%)'), Text(0.5, 0, 'Class')]"
      ]
     },
     "execution_count": 24,
     "metadata": {},
     "output_type": "execute_result"
    },
    {
     "data": {
      "image/png": "[encoded data removed]",
      "text/plain": [
       "<Figure size 1080x360 with 3 Axes>"
      ]
     },
     "metadata": {
      "needs_background": "light"
     },
     "output_type": "display_data"
    }
   ],
   "source": [
    "# Class distributions visualization\n",
    "fig, axes = plt.subplots(1, 3, sharex = True, figsize = (15,5))\n",
    "fig.suptitle('The distribution of classes in different sets')\n",
    "\n",
    "# Train\n",
    "sns.barplot(ax = axes[0], x = Distribution_per_df.index, y = Distribution_per_df['train data %'].values)\n",
    "axes[0].set_title('train data')\n",
    "axes[0].set(xlabel ='Class', ylabel='Data points (%)')\n",
    "\n",
    "# Test\n",
    "sns.barplot(ax = axes[1], x = Distribution_per_df.index, y = Distribution_per_df['test data %'].values)\n",
    "axes[1].set_title('test data')\n",
    "axes[1].set(xlabel ='Class', ylabel='Data points (%)')\n",
    "\n",
    "# Validation\n",
    "sns.barplot(ax = axes[2], x = Distribution_per_df.index, y = Distribution_per_df['validation data %'].values)\n",
    "axes[2].set_title('validation data')\n",
    "axes[2].set(xlabel = 'Class', ylabel = 'Data points (%)')\n"
   ]
  },
  {
   "cell_type": "markdown",
   "metadata": {},
   "source": [
    "Based on above tables and figures, our train, test, and cv sets have almost the same class distributions."
   ]
  },
  {
   "cell_type": "markdown",
   "metadata": {},
   "source": [
    "## <a id=6 > 6. Feature Engineering"
   ]
  },
  {
   "cell_type": "markdown",
   "metadata": {},
   "source": [
    "### <a id='61'>A. Handeling Categorical Features </a> "
   ]
  },
  {
   "cell_type": "markdown",
   "metadata": {},
   "source": [
    "In our dataset, we have three categorical variable. In this section, We are going to \n",
    "\n",
    "- Evaluate the impact of each feature.\n",
    "- Transform the categorical values into numeric to enable our machine learning algorithm to understand features, accept them as input, and work with them.\n",
    "- Evaluate each transformed feature.\n",
    "- Concatenate important features\n",
    "\n",
    "We can encode categorical features using different techniques. Here, we consider the following encoding methods:\n",
    "\n",
    "- One-hot encoding\n",
    "- Response Encoding\n"
   ]
  },
  {
   "cell_type": "code",
   "execution_count": 25,
   "metadata": {},
   "outputs": [],
   "source": [
    "# code for response coding with Laplace smoothing.\n",
    "# alpha : used for laplace smoothing\n",
    "# feature: ['gene', 'variation']\n",
    "# df: ['train_df', 'test_df', 'cv_df']\n",
    "# algorithm\n",
    "# ----------\n",
    "# Consider all unique values and the number of occurrence of given feature in train data dataframe\n",
    "# build a vector (1*9) , the first element = (number of times it occured in class1 + 10*alpha / number of time it occurred in total data+90*alpha)\n",
    "# gv_dict is like a look up table, for every gene it store a (1*9) representation of it\n",
    "# for a value of feature in df:\n",
    "# if it is in train data:\n",
    "# we add the vector that was stored in 'gv_dict' look up table to 'gv_fea'\n",
    "# if it is not there is train:\n",
    "# we add [1/9, 1/9, 1/9, 1/9,1/9, 1/9, 1/9, 1/9, 1/9] to 'gv_fea'\n",
    "# return 'gv_fea'\n",
    "# ----------------------\n",
    "\n",
    "# get_gv_fea_dict: Get Gene varaition Feature Dict\n",
    "def get_gv_fea_dict(alpha, feature, train_df):\n",
    "    value_count = train_df[feature].value_counts()\n",
    "    \n",
    "    # gv_dict : Gene Variation Dict, which contains the probability array for each gene/variation\n",
    "    gv_dict = dict()\n",
    "    \n",
    "    # denominator will contain the number of time that particular feature occured in whole data\n",
    "    for i, denominator in value_count.items():\n",
    "        # vec will contain (p(yi==1/Gi) probability of gene/variation belongs to perticular class\n",
    "        # vec is 9 diamensional vector\n",
    "        vec = []\n",
    "        for k in range(1,10):\n",
    "            # print(train_df.loc[(train_df['Class']==1) & (train_df['Gene']=='BRCA1')])\n",
    "            #         ID   Gene             Variation  Class  \n",
    "            # 2470  2470  BRCA1                S1715C      1   \n",
    "            # 2486  2486  BRCA1                S1841R      1   \n",
    "            # 2614  2614  BRCA1                   M1R      1   \n",
    "            # 2432  2432  BRCA1                L1657P      1   \n",
    "            # 2567  2567  BRCA1                T1685A      1   \n",
    "            # 2583  2583  BRCA1                E1660G      1   \n",
    "            # 2634  2634  BRCA1                W1718L      1   \n",
    "            # cls_cnt.shape[0] will return the number of rows\n",
    "\n",
    "            cls_cnt = train_df.loc[(train_df['Class']==k) & (train_df[feature]==i)]\n",
    "            \n",
    "            # cls_cnt.shape[0](numerator) will contain the number of time that particular feature occured in whole data\n",
    "            vec.append((cls_cnt.shape[0] + alpha*10)/ (denominator + 90*alpha))\n",
    "\n",
    "        # we are adding the gene/variation to the dict as key and vec as value\n",
    "        gv_dict[i]=vec\n",
    "    return gv_dict\n",
    "\n",
    "# Get Gene variation feature\n",
    "def get_gv_feature(alpha, feature, df, train_df):\n",
    "    # print(gv_dict)\n",
    "    #     {'BRCA1': [0.20075757575757575, 0.03787878787878788, 0.068181818181818177, 0.13636363636363635, 0.25, 0.19318181818181818, 0.03787878787878788, 0.03787878787878788, 0.03787878787878788], \n",
    "    #      'TP53': [0.32142857142857145, 0.061224489795918366, 0.061224489795918366, 0.27040816326530615, 0.061224489795918366, 0.066326530612244902, 0.051020408163265307, 0.051020408163265307, 0.056122448979591837], \n",
    "    #      'EGFR': [0.056818181818181816, 0.21590909090909091, 0.0625, 0.068181818181818177, 0.068181818181818177, 0.0625, 0.34659090909090912, 0.0625, 0.056818181818181816], \n",
    "    #      'BRCA2': [0.13333333333333333, 0.060606060606060608, 0.060606060606060608, 0.078787878787878782, 0.1393939393939394, 0.34545454545454546, 0.060606060606060608, 0.060606060606060608, 0.060606060606060608], \n",
    "    #      'PTEN': [0.069182389937106917, 0.062893081761006289, 0.069182389937106917, 0.46540880503144655, 0.075471698113207544, 0.062893081761006289, 0.069182389937106917, 0.062893081761006289, 0.062893081761006289], \n",
    "    #      'KIT': [0.066225165562913912, 0.25165562913907286, 0.072847682119205295, 0.072847682119205295, 0.066225165562913912, 0.066225165562913912, 0.27152317880794702, 0.066225165562913912, 0.066225165562913912], \n",
    "    #      'BRAF': [0.066666666666666666, 0.17999999999999999, 0.073333333333333334, 0.073333333333333334, 0.093333333333333338, 0.080000000000000002, 0.29999999999999999, 0.066666666666666666, 0.066666666666666666],\n",
    "    #      ...\n",
    "    #     }\n",
    "    gv_dict = get_gv_fea_dict(alpha, feature, train_df)\n",
    "    # value_count is similar in get_gv_fea_dict\n",
    "    value_count = train_df[feature].value_counts()\n",
    "    \n",
    "    # gv_fea: Gene_variation feature, it will contain the feature for each feature value in the data\n",
    "    gv_fea = []\n",
    "    # for every feature values in the given data frame we will check if it is there in the train data \n",
    "    # then we will add the feature to gv_fea if not we will add [1/9,1/9,1/9,1/9,1/9,1/9,1/9,1/9,1/9] \n",
    "    # to gv_fea\n",
    "    for index, row in df.iterrows():\n",
    "        if row[feature] in dict(value_count).keys():\n",
    "            gv_fea.append(gv_dict[row[feature]])\n",
    "        else:\n",
    "            gv_fea.append([1/9,1/9,1/9,1/9,1/9,1/9,1/9,1/9,1/9])\n",
    "#             gv_fea.append([-1,-1,-1,-1,-1,-1,-1,-1,-1])\n",
    "    return gv_fea"
   ]
  },
  {
   "cell_type": "markdown",
   "metadata": {},
   "source": [
    "### Gene feature"
   ]
  },
  {
   "cell_type": "code",
   "execution_count": 26,
   "metadata": {},
   "outputs": [
    {
     "name": "stdout",
     "output_type": "stream",
     "text": [
      "Number of Unique Genes : 236\n",
      "BRCA1     154\n",
      "TP53      104\n",
      "EGFR       89\n",
      "PTEN       88\n",
      "BRCA2      83\n",
      "KIT        63\n",
      "BRAF       60\n",
      "ALK        43\n",
      "PDGFRA     41\n",
      "ERBB2      41\n",
      "Name: Gene, dtype: int64\n"
     ]
    }
   ],
   "source": [
    "# Check Number of Unique Genes\n",
    "unique_genes = X_train['Gene'].value_counts()\n",
    "print('Number of Unique Genes :', unique_genes.shape[0])\n",
    "# the top 10 genes that occured most.predict_proba\n",
    "print(unique_genes.head(10))"
   ]
  },
  {
   "cell_type": "code",
   "execution_count": 27,
   "metadata": {},
   "outputs": [
    {
     "data": {
      "image/png": "[encoded data removed]",
      "text/plain": [
       "<Figure size 432x288 with 1 Axes>"
      ]
     },
     "metadata": {
      "needs_background": "light"
     },
     "output_type": "display_data"
    }
   ],
   "source": [
    "s = sum(unique_genes.values);\n",
    "h = unique_genes.values/s;\n",
    "c = np.cumsum(h)\n",
    "plt.plot(c)\n",
    "plt.title(\"Cumulative distribution of Genes\", fontsize = 14)\n",
    "plt.grid(color='gray', linestyle='--', linewidth=0.5)\n",
    "plt.show()"
   ]
  },
  {
   "cell_type": "markdown",
   "metadata": {},
   "source": [
    "The figure shows that the first 50 genes have almost 75% of occurrence. Therefore, gene is important for us and we need to transform it."
   ]
  },
  {
   "cell_type": "code",
   "execution_count": 28,
   "metadata": {},
   "outputs": [
    {
     "data": {
      "text/plain": [
       "(2124, 236)"
      ]
     },
     "execution_count": 28,
     "metadata": {},
     "output_type": "execute_result"
    }
   ],
   "source": [
    "# one-hot encoding of Gene feature.\n",
    "gene_vectorizer = CountVectorizer()\n",
    "X_train_gene_onehotCoding = gene_vectorizer.fit_transform(X_train['Gene'])\n",
    "X_test_gene_onehotCoding = gene_vectorizer.transform(X_test['Gene'])\n",
    "X_cv_gene_onehotCoding = gene_vectorizer.transform(X_cv['Gene'])\n",
    "\n",
    "X_train_gene_onehotCoding.shape"
   ]
  },
  {
   "cell_type": "code",
   "execution_count": 29,
   "metadata": {},
   "outputs": [
    {
     "data": {
      "text/plain": [
       "(2124, 9)"
      ]
     },
     "execution_count": 29,
     "metadata": {},
     "output_type": "execute_result"
    }
   ],
   "source": [
    "# response-coding of the Gene feature\n",
    "# alpha is used for laplace smoothing\n",
    "alpha = 1\n",
    "\n",
    "X_train_gene_responseCoding = np.array(get_gv_feature(alpha, \"Gene\", X_train,X_train))\n",
    "X_test_gene_responseCoding = np.array(get_gv_feature(alpha, \"Gene\", X_test, X_train))\n",
    "X_cv_gene_responseCoding = np.array(get_gv_feature(alpha, \"Gene\", X_cv, X_train))\n",
    "\n",
    "X_train_gene_responseCoding.shape"
   ]
  },
  {
   "cell_type": "markdown",
   "metadata": {},
   "source": [
    "### Variation feature"
   ]
  },
  {
   "cell_type": "code",
   "execution_count": 30,
   "metadata": {},
   "outputs": [
    {
     "name": "stdout",
     "output_type": "stream",
     "text": [
      "Number of Unique Variatis : 1923\n"
     ]
    },
    {
     "data": {
      "image/png": "[encoded data removed]",
      "text/plain": [
       "<Figure size 432x288 with 1 Axes>"
      ]
     },
     "metadata": {
      "needs_background": "light"
     },
     "output_type": "display_data"
    },
    {
     "name": "stdout",
     "output_type": "stream",
     "text": [
      "Truncating_Mutations    66\n",
      "Amplification           47\n",
      "Deletion                42\n",
      "Fusions                 23\n",
      "Overexpression           4\n",
      "T58I                     3\n",
      "G12V                     2\n",
      "P34R                     2\n",
      "R170W                    2\n",
      "Q61H                     2\n",
      "Name: Variation, dtype: int64\n"
     ]
    }
   ],
   "source": [
    "# Check Number of Unique Variations\n",
    "unique_Variation = X_train['Variation'].value_counts()\n",
    "print('Number of Unique Variatis :', unique_Variation.shape[0])\n",
    "h = unique_genes.values/s;\n",
    "c = np.cumsum(h)\n",
    "plt.plot(c)\n",
    "plt.title(\"Cumulative distribution of Genes\", fontsize = 14)\n",
    "plt.grid(color='gray', linestyle='--', linewidth=0.5)\n",
    "plt.show()\n",
    "\n",
    "# The figure shows that the first 50 genes have almost 75% of occurrence. Therefor gene is important for us and we need to transform it.ons:', unique_Variation.shape[0])\n",
    "# the top 10 genes that occured most\n",
    "print(unique_Variation.head(10))"
   ]
  },
  {
   "cell_type": "code",
   "execution_count": 31,
   "metadata": {},
   "outputs": [
    {
     "data": {
      "image/png": "[encoded data removed]",
      "text/plain": [
       "<Figure size 432x288 with 1 Axes>"
      ]
     },
     "metadata": {
      "needs_background": "light"
     },
     "output_type": "display_data"
    }
   ],
   "source": [
    "s = sum(unique_Variation.values);\n",
    "h = unique_Variation.values/s;\n",
    "c = np.cumsum(h)\n",
    "plt.plot(c)\n",
    "plt.title(\"Cumulative distribution of Variation\", fontsize = 14)\n",
    "plt.grid(color='gray', linestyle='--', linewidth=0.5)\n",
    "plt.show()"
   ]
  },
  {
   "cell_type": "markdown",
   "metadata": {},
   "source": [
    "The figure shows that the 1500 variations have almost 80% of occurrence. Therefore, variations is important for us and we need to transform it."
   ]
  },
  {
   "cell_type": "code",
   "execution_count": 32,
   "metadata": {},
   "outputs": [
    {
     "data": {
      "text/plain": [
       "(2124, 1952)"
      ]
     },
     "execution_count": 32,
     "metadata": {},
     "output_type": "execute_result"
    }
   ],
   "source": [
    "# one-hot encoding of Variation feature.\n",
    "variation_vectorizer = CountVectorizer()\n",
    "X_train_variation_onehotCoding = variation_vectorizer.fit_transform(X_train['Variation'])\n",
    "X_test_variation_onehotCoding = variation_vectorizer.transform(X_test['Variation'])\n",
    "X_cv_variation_onehotCoding = variation_vectorizer.transform(X_cv['Variation'])\n",
    "\n",
    "X_train_variation_onehotCoding.shape"
   ]
  },
  {
   "cell_type": "code",
   "execution_count": 33,
   "metadata": {},
   "outputs": [
    {
     "data": {
      "text/plain": [
       "array([0, 0, 0, ..., 0, 0, 0], dtype=int64)"
      ]
     },
     "execution_count": 33,
     "metadata": {},
     "output_type": "execute_result"
    }
   ],
   "source": [
    "gene_vectorizer.fit_transform(X_train['Variation']).toarray()[0]"
   ]
  },
  {
   "cell_type": "code",
   "execution_count": 34,
   "metadata": {},
   "outputs": [
    {
     "data": {
      "text/plain": [
       "(2124, 9)"
      ]
     },
     "execution_count": 34,
     "metadata": {},
     "output_type": "execute_result"
    }
   ],
   "source": [
    "# response-coding of the Variation feature\n",
    "# alpha is used for laplace smoothing\n",
    "alpha = 1\n",
    "    \n",
    "X_train_variation_responseCoding = np.array(get_gv_feature(alpha, \"Variation\", X_train,X_train))\n",
    "X_test_variation_responseCoding = np.array(get_gv_feature(alpha, \"Variation\", X_test,X_train))\n",
    "X_cv_variation_responseCoding = np.array(get_gv_feature(alpha, \"Variation\", X_cv,X_train))\n",
    "\n",
    "X_train_variation_responseCoding.shape"
   ]
  },
  {
   "cell_type": "markdown",
   "metadata": {},
   "source": [
    "### Text feature"
   ]
  },
  {
   "cell_type": "code",
   "execution_count": 35,
   "metadata": {},
   "outputs": [],
   "source": [
    "# Total number of repeatition of each word in TEXT:\n",
    "\n",
    "# for each row in df['TEXT']\n",
    "# split words by space.\n",
    "# make a dict with those words.\n",
    "# increment the word's count whenever it occures.\n",
    "\n",
    "def Count_number_of_each_word_in_TEXT(df):\n",
    "    dictionary = defaultdict(int)\n",
    "    for index, row in df.iterrows():\n",
    "        for word in row['TEXT'].split():\n",
    "            dictionary[word] +=1\n",
    "    return dictionary"
   ]
  },
  {
   "cell_type": "code",
   "execution_count": 36,
   "metadata": {},
   "outputs": [
    {
     "data": {
      "text/plain": [
       "defaultdict(int,\n",
       "            {'etv6': 1800,\n",
       "             'ntrk3': 569,\n",
       "             'en': 830,\n",
       "             'chimeric': 880,\n",
       "             'tyrosine': 13607,\n",
       "             'kinase': 42629,\n",
       "             'generated': 5647,\n",
       "             '12': 19265,\n",
       "             '15': 17705,\n",
       "             'translocations': 1387,\n",
       "             'dominantly': 116,\n",
       "             'acting': 609,\n",
       "             'oncoprotein': 352,\n",
       "             'diverse': 2029,\n",
       "             'tumor': 44997,\n",
       "             'types': 7110,\n",
       "             'previously': 18276,\n",
       "             'showed': 17464,\n",
       "             'insulin': 1613,\n",
       "             'like': 6826,\n",
       "             'growth': 24516,\n",
       "             'factor': 10399,\n",
       "             '1': 138036,\n",
       "             'receptor': 16441,\n",
       "             'igf1r': 590,\n",
       "             'essential': 3514,\n",
       "             'mediated': 9055,\n",
       "             'oncogenesis': 708,\n",
       "             'substrate': 5820,\n",
       "             'irs1': 187,\n",
       "             'constitutively': 3006,\n",
       "             'phosphorylated': 7369,\n",
       "             'bound': 5925,\n",
       "             'transformed': 2960,\n",
       "             'cells': 117058,\n",
       "             'given': 5744,\n",
       "             'also': 42734,\n",
       "             'adapter': 215,\n",
       "             'hypothesized': 963,\n",
       "             'might': 8079,\n",
       "             'localize': 310,\n",
       "             'membrane': 5662,\n",
       "             'activate': 4743,\n",
       "             'phosphatidylinositol': 1277,\n",
       "             '3': 87670,\n",
       "             'pi3k': 8209,\n",
       "             'akt': 13000,\n",
       "             'critical': 5072,\n",
       "             'study': 23887,\n",
       "             'examined': 7154,\n",
       "             'complexes': 4232,\n",
       "             'detail': 926,\n",
       "             'find': 1326,\n",
       "             'active': 10477,\n",
       "             'required': 8001,\n",
       "             'transformation': 5428,\n",
       "             'present': 9977,\n",
       "             'high': 17668,\n",
       "             'molecular': 11857,\n",
       "             'weight': 1341,\n",
       "             'colocalizes': 44,\n",
       "             'plasma': 2860,\n",
       "             'activity': 48313,\n",
       "             'intact': 1629,\n",
       "             'cytoplasmic': 2281,\n",
       "             'y950': 3,\n",
       "             'residue': 9135,\n",
       "             'docking': 702,\n",
       "             'site': 17185,\n",
       "             'confirming': 1092,\n",
       "             'importance': 2519,\n",
       "             'interaction': 12215,\n",
       "             'dual': 1525,\n",
       "             'specificity': 3814,\n",
       "             'insr': 57,\n",
       "             'inhibitor': 13197,\n",
       "             'bms': 151,\n",
       "             '536924': 39,\n",
       "             'blocks': 1161,\n",
       "             'cell': 82203,\n",
       "             'survival': 12558,\n",
       "             'irs': 347,\n",
       "             'proteins': 26222,\n",
       "             'induces': 1924,\n",
       "             'striking': 804,\n",
       "             'shift': 1645,\n",
       "             'smaller': 1156,\n",
       "             'sized': 200,\n",
       "             'conclude': 785,\n",
       "             'tripartite': 14,\n",
       "             'complex': 12566,\n",
       "             'localizes': 260,\n",
       "             'findings': 6572,\n",
       "             'provide': 6593,\n",
       "             'explanation': 1135,\n",
       "             'observed': 21224,\n",
       "             'dependency': 478,\n",
       "             'blocking': 877,\n",
       "             'may': 31978,\n",
       "             'therefore': 10686,\n",
       "             'tractable': 121,\n",
       "             'therapeutic': 5491,\n",
       "             'strategy': 1568,\n",
       "             'many': 7606,\n",
       "             'driven': 3126,\n",
       "             'keywords': 973,\n",
       "             'top': 3175,\n",
       "             'page': 4309,\n",
       "             'introduction': 3972,\n",
       "             'p13': 332,\n",
       "             'q25': 44,\n",
       "             'congenital': 456,\n",
       "             'fibrosarcoma': 112,\n",
       "             'knezevich': 22,\n",
       "             'et': 68636,\n",
       "             'al': 68565,\n",
       "             '1998': 3090,\n",
       "             'cellular': 7733,\n",
       "             'mesoblastic': 12,\n",
       "             'nephroma': 13,\n",
       "             'argani': 1,\n",
       "             '2000': 3572,\n",
       "             'adult': 1527,\n",
       "             'acute': 2135,\n",
       "             'myeloid': 3173,\n",
       "             'leukemia': 5566,\n",
       "             'eguchi': 8,\n",
       "             '1999': 2917,\n",
       "             'secretory': 140,\n",
       "             'breast': 14399,\n",
       "             'carcinoma': 6040,\n",
       "             'tognon': 22,\n",
       "             '2002': 3426,\n",
       "             'recently': 6680,\n",
       "             'fusion': 12382,\n",
       "             'transcripts': 2068,\n",
       "             'detected': 11771,\n",
       "             'mammary': 1434,\n",
       "             'analog': 135,\n",
       "             'salivary': 118,\n",
       "             'glands': 252,\n",
       "             'skalova': 1,\n",
       "             '2010': 4708,\n",
       "             'skin': 2404,\n",
       "             'kazakov': 1,\n",
       "             'chronic': 2083,\n",
       "             'eosinophilic': 196,\n",
       "             'forghieri': 1,\n",
       "             '2011': 5471,\n",
       "             'encode': 893,\n",
       "             'sterile': 148,\n",
       "             'motif': 5517,\n",
       "             'dimerization': 2703,\n",
       "             'sam': 186,\n",
       "             'domain': 41267,\n",
       "             'transcription': 10646,\n",
       "             'linked': 2931,\n",
       "             'neurotrophin': 38,\n",
       "             'expression': 49606,\n",
       "             'leads': 3320,\n",
       "             'elevated': 3022,\n",
       "             'cyclin': 8844,\n",
       "             'd1': 6096,\n",
       "             'mrna': 5948,\n",
       "             'protein': 54276,\n",
       "             'correlates': 1012,\n",
       "             'increased': 14950,\n",
       "             'cycle': 6682,\n",
       "             'progression': 8658,\n",
       "             '2001': 3201,\n",
       "             'nih3t3': 1635,\n",
       "             'fibroblasts': 1890,\n",
       "             'activates': 1589,\n",
       "             'two': 34188,\n",
       "             'major': 4377,\n",
       "             'effector': 2049,\n",
       "             'pathways': 8658,\n",
       "             'wt': 19422,\n",
       "             'namely': 584,\n",
       "             'ras': 27442,\n",
       "             'erk': 8310,\n",
       "             'cascades': 353,\n",
       "             'blocked': 1115,\n",
       "             'inhibition': 12698,\n",
       "             'either': 13024,\n",
       "             'pathway': 17764,\n",
       "             'wild': 36197,\n",
       "             'type': 46235,\n",
       "             'utilizes': 67,\n",
       "             'juxtamembrane': 1537,\n",
       "             'y516': 3,\n",
       "             'bind': 4672,\n",
       "             'adapters': 74,\n",
       "             'shc': 254,\n",
       "             'sh2b': 5,\n",
       "             'p85': 3697,\n",
       "             'subunit': 3897,\n",
       "             'downstream': 7135,\n",
       "             'signaling': 22783,\n",
       "             'huang': 368,\n",
       "             'reichardt': 7,\n",
       "             '2003': 3477,\n",
       "             'however': 20249,\n",
       "             'direct': 5013,\n",
       "             'binding': 40215,\n",
       "             'known': 12990,\n",
       "             'demonstrable': 41,\n",
       "             'wai': 16,\n",
       "             'lannon': 5,\n",
       "             'sorensen': 4,\n",
       "             '2005': 4255,\n",
       "             'likely': 11794,\n",
       "             'tyr': 1253,\n",
       "             '516': 48,\n",
       "             'absent': 1280,\n",
       "             'due': 7624,\n",
       "             'position': 6726,\n",
       "             'point': 7576,\n",
       "             'instead': 1051,\n",
       "             'directly': 4924,\n",
       "             'binds': 2926,\n",
       "             'npxy': 8,\n",
       "             'c': 65012,\n",
       "             'terminus': 3529,\n",
       "             'ptb': 66,\n",
       "             '2004': 3802,\n",
       "             'morrison': 72,\n",
       "             'recruit': 432,\n",
       "             'grb2': 323,\n",
       "             'respectively': 10499,\n",
       "             'fails': 335,\n",
       "             'transform': 807,\n",
       "             'mouse': 8372,\n",
       "             'embryo': 420,\n",
       "             'derived': 8475,\n",
       "             'mice': 14734,\n",
       "             'targeted': 5644,\n",
       "             'disruption': 1653,\n",
       "             'gene': 39954,\n",
       "             'r': 6725,\n",
       "             'reintroduction': 174,\n",
       "             'restores': 265,\n",
       "             'dependent': 11686,\n",
       "             'fractions': 852,\n",
       "             'martin': 104,\n",
       "             '2006': 5016,\n",
       "             'myristoylated': 92,\n",
       "             'form': 7110,\n",
       "             'enmyr': 1,\n",
       "             'associated': 25973,\n",
       "             'rescues': 152,\n",
       "             'taken': 3079,\n",
       "             'together': 5544,\n",
       "             'data': 38801,\n",
       "             'role': 13250,\n",
       "             'localization': 4361,\n",
       "             'sain': 1,\n",
       "             'domains': 12253,\n",
       "             'craparo': 2,\n",
       "             '1995': 2312,\n",
       "             'postulated': 358,\n",
       "             'functions': 4945,\n",
       "             'bridging': 151,\n",
       "             'molecule': 3465,\n",
       "             'work': 2444,\n",
       "             'evidence': 8389,\n",
       "             'demonstrate': 3104,\n",
       "             'significantly': 10683,\n",
       "             'impacts': 260,\n",
       "             'formation': 7934,\n",
       "             'activation': 32351,\n",
       "             'addition': 12029,\n",
       "             'use': 5992,\n",
       "             'mass': 1781,\n",
       "             'spectrometry': 618,\n",
       "             'show': 9296,\n",
       "             'hek293': 1380,\n",
       "             'family': 13306,\n",
       "             'members': 3864,\n",
       "             'irs4': 21,\n",
       "             'irs2': 48,\n",
       "             'dramatically': 683,\n",
       "             'reduces': 590,\n",
       "             'interactions': 7330,\n",
       "             'highlights': 631,\n",
       "             'comprising': 599,\n",
       "             'suggests': 5429,\n",
       "             'mechanism': 7811,\n",
       "             'explain': 1651,\n",
       "             'results': 29092,\n",
       "             'discussion': 4227,\n",
       "             'confirm': 2588,\n",
       "             'used': 24835,\n",
       "             'il': 4635,\n",
       "             'murine': 2165,\n",
       "             '32d': 976,\n",
       "             'line': 14910,\n",
       "             'expresses': 327,\n",
       "             'lacks': 813,\n",
       "             'sun': 483,\n",
       "             'baserga': 9,\n",
       "             'fail': 620,\n",
       "             'survive': 196,\n",
       "             'media': 1506,\n",
       "             'lacking': 2082,\n",
       "             'unless': 312,\n",
       "             'engineered': 1045,\n",
       "             'overexpress': 279,\n",
       "             'secrete': 22,\n",
       "             'alone': 4008,\n",
       "             'confer': 3262,\n",
       "             'independent': 12137,\n",
       "             'figure': 63191,\n",
       "             '1a': 4527,\n",
       "             'bottom': 1518,\n",
       "             'added': 2868,\n",
       "             'medium': 5088,\n",
       "             'supplementary': 18605,\n",
       "             'figures': 4162,\n",
       "             's1a': 477,\n",
       "             'b': 36263,\n",
       "             'co': 7720,\n",
       "             'along': 2143,\n",
       "             'conferred': 1247,\n",
       "             'proliferation': 12007,\n",
       "             'properties': 3375,\n",
       "             'absence': 7202,\n",
       "             'requires': 1790,\n",
       "             'since': 4491,\n",
       "             'overexpression': 4918,\n",
       "             'enhances': 709,\n",
       "             'transforming': 3471,\n",
       "             'ability': 9943,\n",
       "             'tested': 9212,\n",
       "             'could': 13473,\n",
       "             'support': 3454,\n",
       "             'null': 3216,\n",
       "             'transduced': 2662,\n",
       "             '1b': 4023,\n",
       "             'failed': 2427,\n",
       "             'overcome': 1043,\n",
       "             'requirement': 819,\n",
       "             'indicate': 6193,\n",
       "             'unfortunately': 1603,\n",
       "             'unable': 2691,\n",
       "             'accessible': 1642,\n",
       "             'alternative': 4262,\n",
       "             'text': 2047,\n",
       "             'require': 3030,\n",
       "             'assistance': 1113,\n",
       "             'access': 1883,\n",
       "             'image': 4122,\n",
       "             'please': 1134,\n",
       "             'contact': 2874,\n",
       "             'help': 2128,\n",
       "             'nature': 3103,\n",
       "             'com': 1667,\n",
       "             'author': 4859,\n",
       "             'promote': 3769,\n",
       "             'deficient': 2856,\n",
       "             'represent': 4042,\n",
       "             'average': 3194,\n",
       "             'three': 20901,\n",
       "             'experiments': 9246,\n",
       "             'western': 6875,\n",
       "             'blot': 4230,\n",
       "             'analysis': 38157,\n",
       "             'e': 14073,\n",
       "             'presence': 12883,\n",
       "             'soft': 1824,\n",
       "             'agar': 1822,\n",
       "             'colony': 2875,\n",
       "             'assays': 16480,\n",
       "             'cannot': 2567,\n",
       "             'lack': 3735,\n",
       "             'igfir': 4,\n",
       "             'icmyr': 11,\n",
       "             'positive': 11167,\n",
       "             'myr': 420,\n",
       "             'intracellular': 1914,\n",
       "             'yf': 58,\n",
       "             'y950f': 2,\n",
       "             'ka': 145,\n",
       "             'k1003a': 9,\n",
       "             'dead': 1088,\n",
       "             'ic': 460,\n",
       "             'non': 10546,\n",
       "             'grown': 2194,\n",
       "             'anchorage': 1169,\n",
       "             'conditions': 4558,\n",
       "             '24': 12358,\n",
       "             'h': 13295,\n",
       "             'dmem': 1528,\n",
       "             'containing': 11680,\n",
       "             '0': 67725,\n",
       "             '25': 11559,\n",
       "             'serum': 5852,\n",
       "             'lysed': 1853,\n",
       "             'subjected': 2757,\n",
       "             'blotting': 2573,\n",
       "             'eight': 3548,\n",
       "             'lines': 22444,\n",
       "             'plated': 1387,\n",
       "             'assessed': 4994,\n",
       "             'n': 23010,\n",
       "             'represents': 2105,\n",
       "             'p': 39612,\n",
       "             '0001': 1545,\n",
       "             'student': 884,\n",
       "             'test': 8462,\n",
       "             'full': 7960,\n",
       "             'legend': 1128,\n",
       "             '129k': 1,\n",
       "             'activated': 9768,\n",
       "             'latter': 1560,\n",
       "             'whether': 11083,\n",
       "             'necessary': 2500,\n",
       "             'defective': 2724,\n",
       "             'mutants': 33795,\n",
       "             'extracellular': 3190,\n",
       "             'ligand': 6536,\n",
       "             'tethered': 135,\n",
       "             'using': 40873,\n",
       "             'myristoylation': 97,\n",
       "             'tag': 1117,\n",
       "             'myrisotylated': 1,\n",
       "             's2': 4468,\n",
       "             'constructs': 5469,\n",
       "             'signal': 6311,\n",
       "             'designated': 525,\n",
       "             'expressed': 12515,\n",
       "             'antibodies': 7280,\n",
       "             '1c': 2555,\n",
       "             'panel': 5732,\n",
       "             'shown': 28184,\n",
       "             'panels': 1255,\n",
       "             'retaining': 197,\n",
       "             'gsk3': 391,\n",
       "             'phosphorylation': 19442,\n",
       "             'furthermore': 5274,\n",
       "             'expressing': 15595,\n",
       "             'exhibited': 3381,\n",
       "             '1d': 1525,\n",
       "             'strongly': 3377,\n",
       "             'retains': 443,\n",
       "             'interacts': 1979,\n",
       "             'demonstrated': 6871,\n",
       "             'forms': 4151,\n",
       "             'moreover': 4051,\n",
       "             'lysates': 4737,\n",
       "             'fast': 429,\n",
       "             'liquid': 1022,\n",
       "             'chromatography': 795,\n",
       "             'fplc': 16,\n",
       "             'ranging': 875,\n",
       "             '45': 4363,\n",
       "             '2': 100749,\n",
       "             '106': 1638,\n",
       "             'kda': 1963,\n",
       "             'identify': 5386,\n",
       "             'potential': 8470,\n",
       "             'interacting': 1528,\n",
       "             'immunoprecipitated': 1925,\n",
       "             'different': 19463,\n",
       "             'performed': 15645,\n",
       "             'phosphotyrosine': 1122,\n",
       "             'similar': 15281,\n",
       "             'previous': 7348,\n",
       "             '150': 2121,\n",
       "             '2a': 4624,\n",
       "             'additional': 9865,\n",
       "             '200': 2874,\n",
       "             '180': 514,\n",
       "             'precipitated': 790,\n",
       "             'species': 2386,\n",
       "             'vector': 8666,\n",
       "             'control': 17452,\n",
       "             'k380n': 21,\n",
       "             's3': 3009,\n",
       "             'reprobe': 1,\n",
       "             'band': 1633,\n",
       "             'reciprocal': 394,\n",
       "             'immunoprecipitation': 2365,\n",
       "             'confirmed': 6944,\n",
       "             'association': 7100,\n",
       "             '2b': 3852,\n",
       "             'associates': 473,\n",
       "             'large': 9359,\n",
       "             'size': 4703,\n",
       "             'buffer': 5451,\n",
       "             '10': 36230,\n",
       "             'mm': 11061,\n",
       "             'tris': 2119,\n",
       "             'nacl': 1667,\n",
       "             '5': 67678,\n",
       "             'mgcl2': 695,\n",
       "             '4': 55060,\n",
       "             'np': 698,\n",
       "             '40': 8792,\n",
       "             'superose': 9,\n",
       "             '6hr10': 1,\n",
       "             '30': 13284,\n",
       "             'gel': 3441,\n",
       "             'filtration': 591,\n",
       "             'column': 736,\n",
       "             'ge': 474,\n",
       "             'healthcare': 395,\n",
       "             'mississauga': 19,\n",
       "             'canada': 203,\n",
       "             'ml': 9331,\n",
       "             'collected': 2335,\n",
       "             'anti': 14325,\n",
       "             'immunoprecipitations': 310,\n",
       "             'fraction': 2680,\n",
       "             'numbers': 2763,\n",
       "             'weights': 107,\n",
       "             'indicated': 11576,\n",
       "             '4g10': 181,\n",
       "             'antibody': 9130,\n",
       "             'probe': 2501,\n",
       "             'majority': 4373,\n",
       "             'elutes': 18,\n",
       "             'corresponding': 5413,\n",
       "             '1000': 1049,\n",
       "             'range': 5060,\n",
       "             'immunoprecipitate': 179,\n",
       "             'unidentified': 244,\n",
       "             'identified': 25250,\n",
       "             'doublet': 149,\n",
       "             'stably': 2479,\n",
       "             'ha': 3916,\n",
       "             'tagged': 3890,\n",
       "             'conjugated': 1277,\n",
       "             'beads': 1853,\n",
       "             '20': 22394,\n",
       "             'santa': 2332,\n",
       "             'cruz': 2171,\n",
       "             'biotechnology': 1495,\n",
       "             'ca': 5045,\n",
       "             'usa': 2430,\n",
       "             'roche': 1451,\n",
       "             'laval': 1,\n",
       "             'detect': 2426,\n",
       "             'immunoprecipitating': 34,\n",
       "             '69k': 12,\n",
       "             'reported': 18631,\n",
       "             'localized': 1800,\n",
       "             'repeated': 915,\n",
       "             'attempts': 224,\n",
       "             'precipitate': 86,\n",
       "             'unsuccessful': 46,\n",
       "             'transient': 1478,\n",
       "             'myers': 55,\n",
       "             '1993': 1455,\n",
       "             'visualize': 170,\n",
       "             'bimolecular': 15,\n",
       "             'fluorescence': 2462,\n",
       "             'complementation': 1145,\n",
       "             'putative': 2516,\n",
       "             'interactors': 51,\n",
       "             'individually': 363,\n",
       "             'fused': 1359,\n",
       "             'separate': 1255,\n",
       "             'halves': 45,\n",
       "             'fluorescent': 1155,\n",
       "             'venus': 13,\n",
       "             'live': 266,\n",
       "             'interact': 3034,\n",
       "             'recombines': 1,\n",
       "             'reconstituted': 392,\n",
       "             'kerppola': 5,\n",
       "             '2009': 3348,\n",
       "             'terminal': 11806,\n",
       "             'v1': 276,\n",
       "             'second': 7630,\n",
       "             'copy': 6197,\n",
       "             'v2': 290,\n",
       "             'demonstrating': 1197,\n",
       "             'self': 1102,\n",
       "             'primarily': 1603,\n",
       "             'cytoplasm': 1335,\n",
       "             '3a': 3748,\n",
       "             'left': 2902,\n",
       "             'dimerizing': 38,\n",
       "             'v80e': 1,\n",
       "             'mutant': 47154,\n",
       "             'negligible': 134,\n",
       "             'background': 1795,\n",
       "             'robust': 1288,\n",
       "             'right': 2899,\n",
       "             'indicates': 3333,\n",
       "             'colocalize': 50,\n",
       "             'wondered': 47,\n",
       "             'acts': 894,\n",
       "             'bridge': 672,\n",
       "             'mediate': 1366,\n",
       "             'mentioned': 564,\n",
       "             'readily': 878,\n",
       "             'effects': 12409,\n",
       "             'treated': 10377,\n",
       "             'chemical': 1110,\n",
       "             'nm': 5918,\n",
       "             'potency': 1506,\n",
       "             'wittman': 2,\n",
       "             'fractionation': 276,\n",
       "             'concentrations': 5045,\n",
       "             'studies': 20406,\n",
       "             'selectively': 918,\n",
       "             'inhibit': 4146,\n",
       "             'kinases': 6821,\n",
       "             'although': 15896,\n",
       "             'remained': 1281,\n",
       "             '3b': 3152,\n",
       "             'dramatic': 877,\n",
       "             'redistribution': 117,\n",
       "             'low': 9907,\n",
       "             'treatment': 20031,\n",
       "             'middle': 971,\n",
       "             'dimeric': 384,\n",
       "             'monomeric': 265,\n",
       "             'indicating': 4753,\n",
       "             'maintain': 784,\n",
       "             'showing': 4064,\n",
       "             'colocalization': 237,\n",
       "             'venus1': 1,\n",
       "             'venus2': 2,\n",
       "             'transiently': 2105,\n",
       "             'transfected': 12107,\n",
       "             'whereas': 12390,\n",
       "             'shifts': 310,\n",
       "             'larger': 3029,\n",
       "             'ir': 471,\n",
       "             '53624': 1,\n",
       "             '100': 11798,\n",
       "             'min': 6034,\n",
       "             'fractionated': 172,\n",
       "             'described': 17177,\n",
       "             'mid': 156,\n",
       "             'upon': 4469,\n",
       "             'shifted': 364,\n",
       "             'suggesting': 8044,\n",
       "             'myrirs1': 7,\n",
       "             'enable': 365,\n",
       "             'construct': 2960,\n",
       "             'made': 2583,\n",
       "             'isolated': 3411,\n",
       "             'protocol': 2109,\n",
       "             'found': 24356,\n",
       "             'level': 9623,\n",
       "             'membranes': 1661,\n",
       "             'total': 10906,\n",
       "             'caveolin': 29,\n",
       "             'counterpart': 275,\n",
       "             'significant': 11998,\n",
       "             'difference': 3785,\n",
       "             'compared': 16913,\n",
       "             '346': 96,\n",
       "             'statistical': 3163,\n",
       "             'differences': 5638,\n",
       "             '00063': 1,\n",
       "             '01842': 1,\n",
       "             'tailed': 537,\n",
       "             '147k': 2,\n",
       "             'one': 26177,\n",
       "             'possibility': 3538,\n",
       "             'target': 10507,\n",
       "             '3c': 2180,\n",
       "             'levels': 22388,\n",
       "             'distribution': 3533,\n",
       "             'restore': 643,\n",
       "             'fact': 3701,\n",
       "             'appears': 2645,\n",
       "             'decrease': 2608,\n",
       "             '3d': 1797,\n",
       "             'functional': 21146,\n",
       "             'axis': 953,\n",
       "             'adherent': 114,\n",
       "             'cultures': 1205,\n",
       "             's4a': 340,\n",
       "             'reversed': 256,\n",
       "             'poly': 473,\n",
       "             'adp': 310,\n",
       "             'ribose': 124,\n",
       "             'polymerase': 2256,\n",
       "             'parp': 955,\n",
       "             'caspase': 1890,\n",
       "             'cleavage': 1205,\n",
       "             's4b': 196,\n",
       "             'reduced': 8499,\n",
       "             's4c': 172,\n",
       "             'supported': 1771,\n",
       "             'recent': 5561,\n",
       "             'report': 4182,\n",
       "             'epithelial': 2804,\n",
       "             'vitro': 13372,\n",
       "             'related': 8129,\n",
       "             'compound': 2023,\n",
       "             '754807': 8,\n",
       "             'vivo': 8823,\n",
       "             'consistent': 9622,\n",
       "             'model': 10524,\n",
       "             'whereby': 395,\n",
       "             'maintained': 1720,\n",
       "             'independently': 1380,\n",
       "             'evaluate': 1761,\n",
       "             'tandem': 1214,\n",
       "             'compare': 1355,\n",
       "             'untreated': 1520,\n",
       "             'abundance': 789,\n",
       "             'well': 18531,\n",
       "             'interactor': 32,\n",
       "             'plc': 659,\n",
       "             'strikingly': 588,\n",
       "             'abundant': 489,\n",
       "             'another': 5284,\n",
       "             'member': 1164,\n",
       "             'among': 8989,\n",
       "             'express': 2708,\n",
       "             'predominantly': 1365,\n",
       "             '4a': 2948,\n",
       "             'contains': 3817,\n",
       "             'immunoprecipitates': 934,\n",
       "             'coverage': 909,\n",
       "             '35': 6565,\n",
       "             '23': 8251,\n",
       "             'mascot': 24,\n",
       "             'scores': 1620,\n",
       "             '991': 10,\n",
       "             '392': 49,\n",
       "             'averaged': 179,\n",
       "             'peptide': 4467,\n",
       "             'areas': 1047,\n",
       "             'five': 6426,\n",
       "             'peptides': 1660,\n",
       "             'decreased': 4512,\n",
       "             'samples': 17532,\n",
       "             '4b': 2488,\n",
       "             'rapidly': 1047,\n",
       "             'destabilizes': 228,\n",
       "             'representative': 2866,\n",
       "             'ion': 450,\n",
       "             'chromatograms': 163,\n",
       "             's5': 1216,\n",
       "             'validated': 1735,\n",
       "             'markedly': 1357,\n",
       "             'precipitating': 39,\n",
       "             '4c': 2192,\n",
       "             'finally': 3403,\n",
       "             'precipitation': 317,\n",
       "             '4d': 1230,\n",
       "             'underscore': 232,\n",
       "             'disrupting': 668,\n",
       "             'disrupts': 665,\n",
       "             'isoform': 1839,\n",
       "             'highly': 7511,\n",
       "             'ratios': 1334,\n",
       "             'peak': 705,\n",
       "             'area': 1616,\n",
       "             'values': 6506,\n",
       "             'see': 6367,\n",
       "             'table': 33873,\n",
       "             's1': 5115,\n",
       "             'determine': 6420,\n",
       "             'significance': 4692,\n",
       "             '2e': 739,\n",
       "             '6': 35224,\n",
       "             'decreases': 548,\n",
       "             'amount': 2226,\n",
       "             'inhibits': 2430,\n",
       "             'mscv': 381,\n",
       "             '60': 5689,\n",
       "             'probed': 845,\n",
       "             'actin': 2023,\n",
       "             'ensure': 567,\n",
       "             'equal': 1759,\n",
       "             'input': 708,\n",
       "             '81k': 8,\n",
       "             'conclusions': 1057,\n",
       "             'presented': 2700,\n",
       "             'several': 12523,\n",
       "             'clues': 179,\n",
       "             'underlying': 2035,\n",
       "             'first': 12309,\n",
       "             'resulted': 4553,\n",
       "             'rapid': 1614,\n",
       "             'promoted': 760,\n",
       "             'release': 918,\n",
       "             'adaptor': 875,\n",
       "             'post': 1970,\n",
       "             'translational': 1011,\n",
       "             'modifications': 1044,\n",
       "             'occur': 4952,\n",
       "             'stabilize': 1030,\n",
       "             'optimize': 124,\n",
       "             'linkage': 723,\n",
       "             'modify': 278,\n",
       "             'drive': 985,\n",
       "             'overall': 7841,\n",
       "             'deliver': 30,\n",
       "             'associate': 725,\n",
       "             'currently': 2446,\n",
       "             'exploring': 86,\n",
       "             'possibilities': 386,\n",
       "             'vast': 621,\n",
       "             'oncoproteins': 348,\n",
       "             'including': 16030,\n",
       "             'src': 3626,\n",
       "             'sv40': 342,\n",
       "             'antigen': 1443,\n",
       "             'ews': 1288,\n",
       "             'fli1': 615,\n",
       "             'pax3': 26,\n",
       "             'fkhr': 22,\n",
       "             'provides': 2370,\n",
       "             'plausible': 299,\n",
       "             'phenomenon': 445,\n",
       "             'inhibitors': 14382,\n",
       "             'disrupt': 2238,\n",
       "             'possess': 667,\n",
       "             'clinical': 23037,\n",
       "             'efficacy': 2937,\n",
       "             'tumors': 35533,\n",
       "             'suggest': 8972,\n",
       "             'subset': 3822,\n",
       "             'enhanced': 4050,\n",
       "             'sensitivity': 9747,\n",
       "             'important': 10020,\n",
       "             'extends': 232,\n",
       "             'particularly': 2297,\n",
       "             'better': 2356,\n",
       "             'understand': 1347,\n",
       "             'origin': 1613,\n",
       "             'cancer': 63259,\n",
       "             'developed': 4322,\n",
       "             'recapitulates': 89,\n",
       "             'product': 2598,\n",
       "             'translocation': 2455,\n",
       "             'characteristic': 1236,\n",
       "             'human': 24307,\n",
       "             'tissues': 4183,\n",
       "             'wap': 59,\n",
       "             'cre': 1911,\n",
       "             'fully': 2368,\n",
       "             'penetrant': 174,\n",
       "             'multifocal': 111,\n",
       "             'malignant': 3489,\n",
       "             'short': 2547,\n",
       "             'latency': 537,\n",
       "             'genetic': 12311,\n",
       "             'nulliparous': 17,\n",
       "             'females': 787,\n",
       "             'committed': 131,\n",
       "             'alveolar': 111,\n",
       "             'bipotent': 15,\n",
       "             'cd61': 37,\n",
       "             'luminal': 475,\n",
       "             'progenitors': 792,\n",
       "             'targets': 4609,\n",
       "             'tumorigenesis': 3230,\n",
       "             'transforms': 122,\n",
       "             'otherwise': 727,\n",
       "             'ap1': 211,\n",
       "             'increasing': 2392,\n",
       "             'relevance': 1814,\n",
       "             'chromosomal': 2680,\n",
       "             'cancers': 13647,\n",
       "             'serve': 1061,\n",
       "             'paradigm': 356,\n",
       "             'pathogenesis': 1753,\n",
       "             'origins': 234,\n",
       "             'generation': 2921,\n",
       "             'novel': 6521,\n",
       "             'preclinical': 1556,\n",
       "             'models': 6622,\n",
       "             'largest': 613,\n",
       "             'class': 6653,\n",
       "             'little': 2013,\n",
       "             'initiating': 504,\n",
       "             'hits': 324,\n",
       "             'tissue': 8240,\n",
       "             'stem': 3892,\n",
       "             'uncertain': 1357,\n",
       "             'system': 6866,\n",
       "             'initial': 2978,\n",
       "             'event': 2138,\n",
       "             'frank': 88,\n",
       "             'malignancy': 911,\n",
       "             'based': 15432,\n",
       "             'marking': 69,\n",
       "             'rather': 2854,\n",
       "             'focus': 1577,\n",
       "             'transcriptional': 9701,\n",
       "             'warranted': 281,\n",
       "             'go': 6035,\n",
       "             'malignancies': 2281,\n",
       "             'neither': 1238,\n",
       "             'heterogeneous': 1008,\n",
       "             'composition': 373,\n",
       "             'organized': 131,\n",
       "             'hierarchy': 41,\n",
       "             'includes': 1622,\n",
       "             'competent': 465,\n",
       "             'recreate': 21,\n",
       "             'transplantation': 608,\n",
       "             'ics': 9,\n",
       "             'bulk': 158,\n",
       "             'reya': 14,\n",
       "             'following': 7616,\n",
       "             'hit': 370,\n",
       "             'occurs': 2505,\n",
       "             'within': 14863,\n",
       "             'differentiated': 1169,\n",
       "             'secondary': 6984,\n",
       "             'events': 4053,\n",
       "             'epigenetic': 1293,\n",
       "             'contribute': 3655,\n",
       "             'evolution': 730,\n",
       "             'early': 4549,\n",
       "             'steps': 657,\n",
       "             'impossible': 91,\n",
       "             'patients': 57977,\n",
       "             'animal': 1154,\n",
       "             'window': 1284,\n",
       "             'phase': 5800,\n",
       "             'development': 9237,\n",
       "             'relevant': 3289,\n",
       "             'biology': 1317,\n",
       "             'far': 2392,\n",
       "             'mirror': 81,\n",
       "             'occurring': 1859,\n",
       "             'considering': 908,\n",
       "             'issues': 427,\n",
       "             'sought': 970,\n",
       "             'apply': 342,\n",
       "             'principles': 205,\n",
       "             'proved': 543,\n",
       "             'successful': 587,\n",
       "             'hematopoietic': 1722,\n",
       "             'leukemias': 638,\n",
       "             'childhood': 701,\n",
       "             'sarcomas': 442,\n",
       "             'leading': 3717,\n",
       "             'production': 1561,\n",
       "             'rowley': 9,\n",
       "             'rearrangements': 2943,\n",
       "             'rare': 4850,\n",
       "             'infrequent': 236,\n",
       "             'defined': 4997,\n",
       "             'factors': 6670,\n",
       "             'normal': 12958,\n",
       "             'differentiation': 3968,\n",
       "             'generally': 1897,\n",
       "             'perturbed': 155,\n",
       "             'lately': 7,\n",
       "             'contribution': 1461,\n",
       "             'viewed': 137,\n",
       "             'minor': 1065,\n",
       "             'involving': 3523,\n",
       "             'ets': 1615,\n",
       "             '50': 13843,\n",
       "             'cases': 19048,\n",
       "             'prostate': 4462,\n",
       "             'tomlins': 63,\n",
       "             '2007': 3618,\n",
       "             'eml4': 1651,\n",
       "             'alk': 17282,\n",
       "             '7': 31138,\n",
       "             'small': 11684,\n",
       "             'lung': 14222,\n",
       "             'soda': 37,\n",
       "             'observations': 3445,\n",
       "             'prompt': 49,\n",
       "             'reassessment': 47,\n",
       "             'regarding': 940,\n",
       "             'involvement': 1319,\n",
       "             'unique': 3354,\n",
       "             'recurrent': 4152,\n",
       "             'germ': 1549,\n",
       "             'layers': 128,\n",
       "             'sbc': 376,\n",
       "             '1998b': 80,\n",
       "             '1998a': 86,\n",
       "             'rubin': 35,\n",
       "             'myelogenous': 503,\n",
       "             'produces': 335,\n",
       "             'oncogene': 3333,\n",
       "             'encodes': 1704,\n",
       "             'oligomerization': 790,\n",
       "             'tel': 533,\n",
       "             'ptk': 168,\n",
       "             'trkc': 132,\n",
       "             'trk': 614,\n",
       "             'strong': 4729,\n",
       "             'epidemiological': 95,\n",
       "             'initiation': 1701,\n",
       "             'heterogeneity': 1620,\n",
       "             'genetically': 850,\n",
       "             'clinically': 2842,\n",
       "             'simpson': 13,\n",
       "             'part': 4221,\n",
       "             ...})"
      ]
     },
     "execution_count": 36,
     "metadata": {},
     "output_type": "execute_result"
    }
   ],
   "source": [
    "Count_number_of_each_word_in_TEXT(X_train)"
   ]
  },
  {
   "cell_type": "code",
   "execution_count": 37,
   "metadata": {},
   "outputs": [
    {
     "name": "stdout",
     "output_type": "stream",
     "text": [
      "Total number of unique words in train data : 53295\n"
     ]
    }
   ],
   "source": [
    "# one-hot encoding of TEXT feature.\n",
    "\n",
    "# building a CountVectorizer with all the words that occured minimum 3 times in train data.\n",
    "text_vectorizer = CountVectorizer(min_df=3)\n",
    "X_train_text_onehotCoding = text_vectorizer.fit_transform(X_train['TEXT'])\n",
    "X_test_text_onehotCoding = text_vectorizer.transform(X_test['TEXT'])\n",
    "X_cv_text_onehotCoding = text_vectorizer.transform(X_cv['TEXT'])\n",
    "\n",
    "# Normalization\n",
    "X_train_text_onehotCoding = normalize(X_train_text_onehotCoding, axis=0)\n",
    "X_test_text_onehotCoding = normalize(X_test_text_onehotCoding, axis=0)\n",
    "X_cv_text_onehotCoding = normalize(X_cv_text_onehotCoding, axis=0)\n",
    "\n",
    "# Check Number of Unique words in TEXT feature\n",
    "print(\"Total number of unique words in train data :\", X_train_text_onehotCoding.shape[1])"
   ]
  },
  {
   "cell_type": "code",
   "execution_count": 38,
   "metadata": {},
   "outputs": [],
   "source": [
    "# Response encoding of TEXT feature. (https://stackoverflow.com/a/1602964)\n",
    "\n",
    "def get_text_responsecoding(df, dict_list):\n",
    "    text_feature_responseCoding = np.zeros((df.shape[0],9))\n",
    "    for i in range(0,9):\n",
    "        row_index = 0\n",
    "        for index, row in df.iterrows():\n",
    "            sum_prob = 0\n",
    "            for word in row['TEXT'].split():\n",
    "                sum_prob += math.log(((dict_list[i].get(word,0)+10 )/(total_dict.get(word,0)+90)))\n",
    "            text_feature_responseCoding[row_index][i] = math.exp(sum_prob/len(row['TEXT'].split()))\n",
    "            row_index += 1\n",
    "    return text_feature_responseCoding"
   ]
  },
  {
   "cell_type": "code",
   "execution_count": 39,
   "metadata": {},
   "outputs": [],
   "source": [
    "# dict_list: contains 9 dictoinaries each contains number of occurrence of each word in a class\n",
    "dict_list = []\n",
    "for i in range(1,10):\n",
    "    cls_text = X_train[X_train['Class']==i]\n",
    "    dict_list.append(Count_number_of_each_word_in_TEXT(cls_text))\n",
    "\n",
    "# dict_list[i] is build on i'th  class text data\n",
    "# total number of occurrence of each word in training text data\n",
    "total_dict = Count_number_of_each_word_in_TEXT(X_train)"
   ]
  },
  {
   "cell_type": "code",
   "execution_count": 40,
   "metadata": {},
   "outputs": [],
   "source": [
    "X_train_text_responseCoding  = get_text_responsecoding(X_train, dict_list)\n",
    "X_test_text_responseCoding  = get_text_responsecoding(X_test, dict_list)\n",
    "X_cv_text_responseCoding  = get_text_responsecoding(X_cv, dict_list)"
   ]
  },
  {
   "cell_type": "markdown",
   "metadata": {},
   "source": [
    "### <a id='62'>B. Evaluating Transformed Features </a> "
   ]
  },
  {
   "cell_type": "markdown",
   "metadata": {},
   "source": [
    "After converting each categorical feature into a format that our ML model can understand, we can investigate the importance of each feature.\n",
    "\n",
    "In this Kaggle competition, log-loss evaluation metric is suggested to evaluate ML models. Therefore, we use this metric to investigate the imortance of each feature. (Refer to following URL for more details about log-loss:https://scikit-learn.org/stable/modules/generated/sklearn.metrics.log_loss.html)\n",
    "\n",
    "log-loss value range is \\[0, $\\infty$) and the smaller the logg-loss value the better the model performance. Therefore, to specify log-loss value, whichis acceptable for us, we consider a random model. The log-loss is calculated for this random model and is considered as the worse log-loss value. Then, our goal is going to be designing a model, which provids lower log-loss value than that of our random model. In other words, the column with log-loss smaller than random model is considered as an important feature.\n",
    "\n",
    "Note: Log-loss ia a complete concept on probability theory. Therfore, y_pred needs to be in terms of probability since we are using log-loss to evaluate our model. To handel this issue when y_pred is not probability, we use callibirated classifier."
   ]
  },
  {
   "cell_type": "markdown",
   "metadata": {},
   "source": [
    "### Random Model"
   ]
  },
  {
   "cell_type": "code",
   "execution_count": 41,
   "metadata": {},
   "outputs": [],
   "source": [
    "# This functioin gives the predicted label using random Moldel:\n",
    "\n",
    "# Initialize y_pred with the same number of rows as input and 9 columns.\n",
    "# for each row:\n",
    "# Construct an array of size 9 and sum of probability equal to one.\n",
    "def log_loss_random_model(X_df,y_df, dataset = \"dataset\"):\n",
    "    y_row_no = X_df.shape[0]\n",
    "    y_pred = np.zeros((y_row_no,9))\n",
    "    for i in range (y_row_no):\n",
    "        y_pred[i] = ((np.random.rand(1,9)/sum(sum(np.random.rand(1,9))))[0])\n",
    "        log_loss_metric = log_loss(y_df,y_pred, eps=1e-15)\n",
    "    print(\"log-loss on \" + dataset + \" set using Random Model: {}\".format(log_loss_metric))    \n",
    "    return log_loss_metric,y_pred"
   ]
  },
  {
   "cell_type": "code",
   "execution_count": 42,
   "metadata": {},
   "outputs": [
    {
     "name": "stdout",
     "output_type": "stream",
     "text": [
      "log-loss on cv set using Random Model: 2.362665779332182\n",
      "log-loss on test set using Random Model: 2.4641943016502075\n"
     ]
    }
   ],
   "source": [
    "# Fine log-loss value for test and cv sets using random model\n",
    "cv_log_loss_metric_random_model, y_pred_cv = log_loss_random_model(X_cv, y_cv, dataset = \"cv\")\n",
    "test_log_loss_metric_random_model, y_pred_test_p = log_loss_random_model(X_test, y_test, dataset = \"test\")"
   ]
  },
  {
   "cell_type": "code",
   "execution_count": 43,
   "metadata": {},
   "outputs": [],
   "source": [
    "# y_pred_test_p"
   ]
  },
  {
   "cell_type": "code",
   "execution_count": 44,
   "metadata": {},
   "outputs": [],
   "source": [
    "# # Let's get the index of max probablity\n",
    "# y_pred_test =np.argmax(y_pred_test, axis=1) + 1 # one is added here to have y_pred in range 1-9\n",
    "# y_pred_test"
   ]
  },
  {
   "cell_type": "markdown",
   "metadata": {},
   "source": [
    "### One - Hot - encoding"
   ]
  },
  {
   "cell_type": "code",
   "execution_count": 45,
   "metadata": {},
   "outputs": [],
   "source": [
    "def feature_evaluation_log_loss(clf, X_train, y_train, X_cv, y_cv, X_test, y_test):\n",
    "    clf.fit(X_train, y_train)\n",
    "    y_pred_cv_proba = clf.predict_proba(X_cv)\n",
    "    y_pred_test_proba = clf.predict_proba(X_test)\n",
    "    cv_log_loss = log_loss(y_cv,y_pred_cv_proba, eps=1e-15)\n",
    "    test_log_loss= log_loss(y_test,y_pred_test_proba, eps=1e-15)\n",
    "    return (cv_log_loss, test_log_loss)"
   ]
  },
  {
   "cell_type": "code",
   "execution_count": 46,
   "metadata": {},
   "outputs": [
    {
     "data": {
      "text/html": [
       "<div>\n",
       "<style scoped>\n",
       "    .dataframe tbody tr th:only-of-type {\n",
       "        vertical-align: middle;\n",
       "    }\n",
       "\n",
       "    .dataframe tbody tr th {\n",
       "        vertical-align: top;\n",
       "    }\n",
       "\n",
       "    .dataframe thead th {\n",
       "        text-align: right;\n",
       "    }\n",
       "</style>\n",
       "<table border=\"1\" class=\"dataframe\">\n",
       "  <thead>\n",
       "    <tr style=\"text-align: right;\">\n",
       "      <th></th>\n",
       "      <th>Gene_cv</th>\n",
       "      <th>Gene_test</th>\n",
       "      <th>Variation_cv</th>\n",
       "      <th>Variation_test</th>\n",
       "      <th>Text_cv</th>\n",
       "      <th>Text_test</th>\n",
       "    </tr>\n",
       "  </thead>\n",
       "  <tbody>\n",
       "    <tr>\n",
       "      <th>Response Encoding</th>\n",
       "      <td>1.37921</td>\n",
       "      <td>1.42842</td>\n",
       "      <td>1.74223</td>\n",
       "      <td>1.76845</td>\n",
       "      <td>1.44548</td>\n",
       "      <td>1.47657</td>\n",
       "    </tr>\n",
       "    <tr>\n",
       "      <th>One-Hot-Encoding</th>\n",
       "      <td>1.20091</td>\n",
       "      <td>1.26632</td>\n",
       "      <td>1.70393</td>\n",
       "      <td>1.72812</td>\n",
       "      <td>1.47769</td>\n",
       "      <td>1.63797</td>\n",
       "    </tr>\n",
       "  </tbody>\n",
       "</table>\n",
       "</div>"
      ],
      "text/plain": [
       "                   Gene_cv Gene_test Variation_cv Variation_test  Text_cv  \\\n",
       "Response Encoding  1.37921   1.42842      1.74223        1.76845  1.44548   \n",
       "One-Hot-Encoding   1.20091   1.26632      1.70393        1.72812  1.47769   \n",
       "\n",
       "                  Text_test  \n",
       "Response Encoding   1.47657  \n",
       "One-Hot-Encoding    1.63797  "
      ]
     },
     "execution_count": 46,
     "metadata": {},
     "output_type": "execute_result"
    }
   ],
   "source": [
    "clf = LogisticRegression()\n",
    "\n",
    "Metrics_df = pd.DataFrame(\n",
    "columns = ['Gene_cv','Gene_test','Variation_cv','Variation_test','Text_cv', 'Text_test'],\n",
    "index = ['Response Encoding', 'One-Hot-Encoding'])\n",
    "Metrics_df.loc['Response Encoding'][0:2] = feature_evaluation_log_loss(clf, X_train_gene_responseCoding, y_train, \n",
    "                                                X_cv_gene_responseCoding, y_cv, X_test_gene_responseCoding, y_test)\n",
    "Metrics_df.loc['One-Hot-Encoding'][0:2] = feature_evaluation_log_loss(clf, X_train_gene_onehotCoding, y_train, \n",
    "                                                X_cv_gene_onehotCoding, y_cv, X_test_gene_onehotCoding, y_test)\n",
    "Metrics_df.loc['Response Encoding'][2:4] = feature_evaluation_log_loss(clf, X_train_variation_responseCoding, y_train, \n",
    "                                                X_cv_variation_responseCoding, y_cv, X_test_variation_responseCoding, y_test)\n",
    "Metrics_df.loc['One-Hot-Encoding'][2:4] = feature_evaluation_log_loss(clf, X_train_variation_onehotCoding, y_train, \n",
    "                                                X_cv_variation_onehotCoding, y_cv, X_test_variation_onehotCoding, y_test)\n",
    "Metrics_df.loc['Response Encoding'][4:6] = feature_evaluation_log_loss(clf, X_train_text_responseCoding, y_train, \n",
    "                                                X_cv_text_responseCoding, y_cv, X_test_text_responseCoding, y_test)\n",
    "Metrics_df.loc['One-Hot-Encoding'][4:6] = feature_evaluation_log_loss(clf, X_train_text_onehotCoding, y_train, \n",
    "                                                X_cv_text_onehotCoding, y_cv, X_test_text_onehotCoding, y_test)\n",
    "Metrics_df\n"
   ]
  },
  {
   "cell_type": "markdown",
   "metadata": {},
   "source": [
    "All features show smaller log_loss than Random model even without tuning the classifier."
   ]
  },
  {
   "cell_type": "markdown",
   "metadata": {},
   "source": [
    "### <a id='63'>C. Merging Important Features </a> "
   ]
  },
  {
   "cell_type": "code",
   "execution_count": 47,
   "metadata": {},
   "outputs": [],
   "source": [
    "# Merging converted gene, variance and text features\n",
    "\n",
    "# building train, test and cross validation data sets\n",
    "# a = [[1, 2], \n",
    "#      [3, 4]]\n",
    "# b = [[4, 5], \n",
    "#      [6, 7]]\n",
    "# hstack(a, b) = [[1, 2, 4, 5],\n",
    "#                [ 3, 4, 6, 7]]\n",
    "\n",
    "y_train = np.array(list(X_train['Class']))\n",
    "y_cv = np.array(list(X_cv['Class']))\n",
    "y_test = np.array(list(X_test['Class']))\n",
    "\n",
    "# One-Hot_Encoding\n",
    "train_gene_var_onehotCoding = hstack((X_train_gene_onehotCoding,X_train_variation_onehotCoding))\n",
    "test_gene_var_onehotCoding = hstack((X_test_gene_onehotCoding,X_test_variation_onehotCoding))\n",
    "cv_gene_var_onehotCoding = hstack((X_cv_gene_onehotCoding,X_cv_variation_onehotCoding))\n",
    "\n",
    "X_train_onehotCoding = hstack((train_gene_var_onehotCoding, X_train_text_onehotCoding)).tocsr()\n",
    "X_test_onehotCoding = hstack((test_gene_var_onehotCoding, X_test_text_onehotCoding)).tocsr()\n",
    "X_cv_onehotCoding = hstack((cv_gene_var_onehotCoding, X_cv_text_onehotCoding)).tocsr()\n",
    "\n",
    "\n",
    "# Response Encoding\n",
    "train_gene_var_responseCoding = np.hstack((X_train_gene_responseCoding, X_train_variation_responseCoding))\n",
    "test_gene_var_responseCoding = np.hstack((X_test_gene_responseCoding, X_test_variation_responseCoding))\n",
    "cv_gene_var_responseCoding = np.hstack((X_cv_gene_responseCoding, X_cv_variation_responseCoding))\n",
    "\n",
    "X_train_responseCoding = np.hstack((train_gene_var_responseCoding, X_train_text_responseCoding))\n",
    "X_test_responseCoding = np.hstack((test_gene_var_responseCoding, X_test_text_responseCoding))\n",
    "X_cv_responseCoding = np.hstack((cv_gene_var_responseCoding, X_cv_text_responseCoding))\n",
    "\n",
    "\n",
    "# # gene & variation (One-Hot_Encoding) - text (Response Encoding) \n",
    "# train_gene_var_onehotCoding = hstack((X_train_gene_onehotCoding,X_train_variation_onehotCoding))\n",
    "# test_gene_var_onehotCoding = hstack((X_test_gene_onehotCoding,X_test_variation_onehotCoding))\n",
    "# cv_gene_var_onehotCoding = hstack((X_cv_gene_onehotCoding,X_cv_variation_onehotCoding))\n",
    "\n",
    "# X_train_hot_res = hstack((train_gene_var_onehotCoding, X_train_text_responseCoding))\n",
    "# X_test_hot_res = hstack((test_gene_var_onehotCoding, X_test_text_responseCoding))\n",
    "# X_cv_hot_res = hstack((cv_gene_var_onehotCoding, X_cv_text_responseCoding))\n"
   ]
  },
  {
   "cell_type": "code",
   "execution_count": 48,
   "metadata": {},
   "outputs": [
    {
     "name": "stdout",
     "output_type": "stream",
     "text": [
      "One hot encoding features :\n",
      "(number of data points, number of features) in train data =  (2124, 55483)\n",
      "(number of data points, number of features) in test data =  (665, 55483)\n",
      "(number of data points, number of features) in cross validation data = (532, 55483)\n"
     ]
    }
   ],
   "source": [
    "print(\"One hot encoding features :\")\n",
    "print(\"(number of data points, number of features) in train data = \", X_train_onehotCoding.shape)\n",
    "print(\"(number of data points, number of features) in test data = \", X_test_onehotCoding.shape)\n",
    "print(\"(number of data points, number of features) in cross validation data =\", X_cv_onehotCoding.shape)"
   ]
  },
  {
   "cell_type": "code",
   "execution_count": 49,
   "metadata": {},
   "outputs": [
    {
     "name": "stdout",
     "output_type": "stream",
     "text": [
      " Response encoding features :\n",
      "(number of data points, number of features) in train data =  (2124, 27)\n",
      "(number of data points, number of features) in test data =  (665, 27)\n",
      "(number of data points, number of features) in cross validation data = (532, 27)\n"
     ]
    }
   ],
   "source": [
    "print(\" Response encoding features :\")\n",
    "print(\"(number of data points, number of features) in train data = \", X_train_responseCoding.shape)\n",
    "print(\"(number of data points, number of features) in test data = \", X_test_responseCoding.shape)\n",
    "print(\"(number of data points, number of features) in cross validation data =\", X_cv_responseCoding.shape)"
   ]
  },
  {
   "cell_type": "code",
   "execution_count": 50,
   "metadata": {},
   "outputs": [],
   "source": [
    "# print(\" Hot & Response features :\")\n",
    "# print(\"(number of data points, number of features) in train data = \", X_train_hot_res.shape)\n",
    "# print(\"(number of data points, number of features) in test data = \", X_test_hot_res.shape)\n",
    "# print(\"(number of data points, number of features) in cross validation data =\", X_cv_hot_res.shape)"
   ]
  },
  {
   "cell_type": "markdown",
   "metadata": {},
   "source": [
    "## <a id=7 > 7. Modeling Workflow"
   ]
  },
  {
   "cell_type": "markdown",
   "metadata": {},
   "source": [
    "In this Section, different classifiers such as LR, NB, KNN, SVM, and RF are used to compare the result of different encoding tech. Then, we conclude which encoding technique and classifire leads to better result. "
   ]
  },
  {
   "cell_type": "markdown",
   "metadata": {},
   "source": [
    "### <a id='71'>A. Model 1: Compare Different Classifiers and Different Encoding Technique</a> "
   ]
  },
  {
   "cell_type": "code",
   "execution_count": 51,
   "metadata": {},
   "outputs": [],
   "source": [
    "def Model_evaluation(classifier, X_train, y_train, X_cv, y_cv, X_test, y_test):\n",
    "    metrics_dict = {}\n",
    "    \n",
    "    classifier.fit(X_train, y_train)    \n",
    "    sig_classifier = CalibratedClassifierCV(classifier, method=\"sigmoid\")\n",
    "    sig_classifier.fit(X_train, y_train)\n",
    "    \n",
    "    y_pred_train_proba = sig_classifier.predict_proba(X_train)\n",
    "    y_pred_cv_proba = sig_classifier.predict_proba(X_cv)\n",
    "    y_pred_test_proba = sig_classifier.predict_proba(X_test)\n",
    "\n",
    "#     y_pred_cv_proba = classifier.predict_proba(X_cv)\n",
    "#     y_pred_test_proba = classifier.predict_proba(X_test)\n",
    "    \n",
    "    # log-loss\n",
    "    metrics_dict['train_log_loss'] = log_loss(y_train,y_pred_train_proba, eps=1e-15)\n",
    "    metrics_dict['cv_log_loss'] = log_loss(y_cv,y_pred_cv_proba, eps=1e-15)\n",
    "    metrics_dict['test_log_loss'] = log_loss(y_test,y_pred_test_proba, eps=1e-15)\n",
    "    \n",
    "    # Accuracy\n",
    "    metrics_dict['train_Acc (%)'] = round(sig_classifier.score(X_train, y_train),2) * 100 \n",
    "    metrics_dict['cv_Acc (%)'] = round(sig_classifier.score(X_cv, y_cv),2) * 100 \n",
    "    metrics_dict['test_Acc (%)'] = round(sig_classifier.score(X_test, y_test),2) * 100\n",
    "\n",
    "    return metrics_dict"
   ]
  },
  {
   "cell_type": "markdown",
   "metadata": {},
   "source": [
    "##### Logistic Regression"
   ]
  },
  {
   "cell_type": "code",
   "execution_count": 52,
   "metadata": {},
   "outputs": [
    {
     "name": "stdout",
     "output_type": "stream",
     "text": [
      "Compare Response Encoding and One-Hot-Encoding using LR:\n"
     ]
    },
    {
     "data": {
      "text/html": [
       "<div>\n",
       "<style scoped>\n",
       "    .dataframe tbody tr th:only-of-type {\n",
       "        vertical-align: middle;\n",
       "    }\n",
       "\n",
       "    .dataframe tbody tr th {\n",
       "        vertical-align: top;\n",
       "    }\n",
       "\n",
       "    .dataframe thead th {\n",
       "        text-align: right;\n",
       "    }\n",
       "</style>\n",
       "<table border=\"1\" class=\"dataframe\">\n",
       "  <thead>\n",
       "    <tr style=\"text-align: right;\">\n",
       "      <th></th>\n",
       "      <th>train_log_loss</th>\n",
       "      <th>cv_log_loss</th>\n",
       "      <th>test_log_loss</th>\n",
       "      <th>cv_Acc (%)</th>\n",
       "      <th>test_Acc (%)</th>\n",
       "    </tr>\n",
       "  </thead>\n",
       "  <tbody>\n",
       "    <tr>\n",
       "      <th>Response Encoding</th>\n",
       "      <td>1.07905</td>\n",
       "      <td>1.17073</td>\n",
       "      <td>1.25189</td>\n",
       "      <td>57</td>\n",
       "      <td>57</td>\n",
       "    </tr>\n",
       "    <tr>\n",
       "      <th>One-Hot-Encoding</th>\n",
       "      <td>0.531786</td>\n",
       "      <td>1.01216</td>\n",
       "      <td>1.13506</td>\n",
       "      <td>66</td>\n",
       "      <td>62</td>\n",
       "    </tr>\n",
       "  </tbody>\n",
       "</table>\n",
       "</div>"
      ],
      "text/plain": [
       "                  train_log_loss cv_log_loss test_log_loss cv_Acc (%)  \\\n",
       "Response Encoding        1.07905     1.17073       1.25189         57   \n",
       "One-Hot-Encoding        0.531786     1.01216       1.13506         66   \n",
       "\n",
       "                  test_Acc (%)  \n",
       "Response Encoding           57  \n",
       "One-Hot-Encoding            62  "
      ]
     },
     "execution_count": 52,
     "metadata": {},
     "output_type": "execute_result"
    }
   ],
   "source": [
    "# Initialize a classifier object with default params\n",
    "LR_clf = LogisticRegression()\n",
    "# Use Model_evaluation function to evaluate the model\n",
    "LR_responseCoding_result = Model_evaluation(LR_clf, X_train_responseCoding, y_train, X_cv_responseCoding, y_cv, X_test_responseCoding, y_test)\n",
    "LR_onehotCoding_result = Model_evaluation(LR_clf, X_train_onehotCoding, y_train, X_cv_onehotCoding, y_cv, X_test_onehotCoding, y_test)\n",
    "\n",
    "LR_metrics_df = pd.DataFrame(\n",
    "columns = ['train_log_loss','cv_log_loss','test_log_loss','cv_Acc (%)','test_Acc (%)'],\n",
    "index = ['Response Encoding', 'One-Hot-Encoding'])\n",
    "LR_metrics_df.loc['Response Encoding'] = LR_responseCoding_result\n",
    "LR_metrics_df.loc['One-Hot-Encoding'] = LR_onehotCoding_result\n",
    "print(\"Compare Response Encoding and One-Hot-Encoding using LR:\")\n",
    "LR_metrics_df"
   ]
  },
  {
   "cell_type": "markdown",
   "metadata": {},
   "source": [
    "##### Naive Bayes"
   ]
  },
  {
   "cell_type": "code",
   "execution_count": 53,
   "metadata": {},
   "outputs": [
    {
     "name": "stdout",
     "output_type": "stream",
     "text": [
      "Compare Response Encoding and One-Hot-Encoding using NB:\n"
     ]
    },
    {
     "data": {
      "text/html": [
       "<div>\n",
       "<style scoped>\n",
       "    .dataframe tbody tr th:only-of-type {\n",
       "        vertical-align: middle;\n",
       "    }\n",
       "\n",
       "    .dataframe tbody tr th {\n",
       "        vertical-align: top;\n",
       "    }\n",
       "\n",
       "    .dataframe thead th {\n",
       "        text-align: right;\n",
       "    }\n",
       "</style>\n",
       "<table border=\"1\" class=\"dataframe\">\n",
       "  <thead>\n",
       "    <tr style=\"text-align: right;\">\n",
       "      <th></th>\n",
       "      <th>train_log_loss</th>\n",
       "      <th>cv_log_loss</th>\n",
       "      <th>test_log_loss</th>\n",
       "      <th>cv_Acc (%)</th>\n",
       "      <th>test_Acc (%)</th>\n",
       "    </tr>\n",
       "  </thead>\n",
       "  <tbody>\n",
       "    <tr>\n",
       "      <th>Response Encoding</th>\n",
       "      <td>0.666964</td>\n",
       "      <td>1.93124</td>\n",
       "      <td>2.00406</td>\n",
       "      <td>46</td>\n",
       "      <td>45</td>\n",
       "    </tr>\n",
       "    <tr>\n",
       "      <th>One-Hot-Encoding</th>\n",
       "      <td>0.761873</td>\n",
       "      <td>1.40219</td>\n",
       "      <td>1.45601</td>\n",
       "      <td>55</td>\n",
       "      <td>52</td>\n",
       "    </tr>\n",
       "  </tbody>\n",
       "</table>\n",
       "</div>"
      ],
      "text/plain": [
       "                  train_log_loss cv_log_loss test_log_loss cv_Acc (%)  \\\n",
       "Response Encoding       0.666964     1.93124       2.00406         46   \n",
       "One-Hot-Encoding        0.761873     1.40219       1.45601         55   \n",
       "\n",
       "                  test_Acc (%)  \n",
       "Response Encoding           45  \n",
       "One-Hot-Encoding            52  "
      ]
     },
     "execution_count": 53,
     "metadata": {},
     "output_type": "execute_result"
    }
   ],
   "source": [
    "# Initialize a classifier object with default params\n",
    "NB_clf = GaussianNB()\n",
    "# Use Model_evaluation function to evaluate the model\n",
    "NB_responseCoding_result = Model_evaluation(NB_clf, X_train_responseCoding, y_train, X_cv_responseCoding, y_cv,\n",
    "                                            X_test_responseCoding, y_test)\n",
    "NB_onehotCoding_result = Model_evaluation(NB_clf, X_train_onehotCoding.toarray(), y_train, X_cv_onehotCoding.toarray(), y_cv, \n",
    "                                          X_test_onehotCoding.toarray(), y_test)\n",
    "\n",
    "NB_metrics_df = pd.DataFrame(\n",
    "columns = ['train_log_loss','cv_log_loss','test_log_loss','cv_Acc (%)','test_Acc (%)'],\n",
    "index = ['Response Encoding', 'One-Hot-Encoding'])\n",
    "NB_metrics_df.loc['Response Encoding'] = NB_responseCoding_result\n",
    "NB_metrics_df.loc['One-Hot-Encoding'] = NB_onehotCoding_result\n",
    "\n",
    "print(\"Compare Response Encoding and One-Hot-Encoding using NB:\")\n",
    "NB_metrics_df\n"
   ]
  },
  {
   "cell_type": "markdown",
   "metadata": {},
   "source": [
    "##### K-Nearest Neighbour"
   ]
  },
  {
   "cell_type": "code",
   "execution_count": 54,
   "metadata": {},
   "outputs": [
    {
     "name": "stdout",
     "output_type": "stream",
     "text": [
      "Compare Response Encoding and One-Hot-Encoding using KNN:\n"
     ]
    },
    {
     "data": {
      "text/html": [
       "<div>\n",
       "<style scoped>\n",
       "    .dataframe tbody tr th:only-of-type {\n",
       "        vertical-align: middle;\n",
       "    }\n",
       "\n",
       "    .dataframe tbody tr th {\n",
       "        vertical-align: top;\n",
       "    }\n",
       "\n",
       "    .dataframe thead th {\n",
       "        text-align: right;\n",
       "    }\n",
       "</style>\n",
       "<table border=\"1\" class=\"dataframe\">\n",
       "  <thead>\n",
       "    <tr style=\"text-align: right;\">\n",
       "      <th></th>\n",
       "      <th>train_log_loss</th>\n",
       "      <th>cv_log_loss</th>\n",
       "      <th>test_log_loss</th>\n",
       "      <th>cv_Acc (%)</th>\n",
       "      <th>test_Acc (%)</th>\n",
       "    </tr>\n",
       "  </thead>\n",
       "  <tbody>\n",
       "    <tr>\n",
       "      <th>Response Encoding</th>\n",
       "      <td>0.433242</td>\n",
       "      <td>1.05383</td>\n",
       "      <td>1.21585</td>\n",
       "      <td>66</td>\n",
       "      <td>59</td>\n",
       "    </tr>\n",
       "    <tr>\n",
       "      <th>One-Hot-Encoding</th>\n",
       "      <td>0.930286</td>\n",
       "      <td>1.21185</td>\n",
       "      <td>1.33733</td>\n",
       "      <td>59</td>\n",
       "      <td>53</td>\n",
       "    </tr>\n",
       "  </tbody>\n",
       "</table>\n",
       "</div>"
      ],
      "text/plain": [
       "                  train_log_loss cv_log_loss test_log_loss cv_Acc (%)  \\\n",
       "Response Encoding       0.433242     1.05383       1.21585         66   \n",
       "One-Hot-Encoding        0.930286     1.21185       1.33733         59   \n",
       "\n",
       "                  test_Acc (%)  \n",
       "Response Encoding           59  \n",
       "One-Hot-Encoding            53  "
      ]
     },
     "execution_count": 54,
     "metadata": {},
     "output_type": "execute_result"
    }
   ],
   "source": [
    "# Initialize a classifier object with default params\n",
    "KNN_clf = KNeighborsClassifier()\n",
    "# Use Model_evaluation function to evaluate the model\n",
    "KNN_responseCoding_result = Model_evaluation(KNN_clf, X_train_responseCoding, y_train, X_cv_responseCoding, y_cv,\n",
    "                                            X_test_responseCoding, y_test)\n",
    "KNN_onehotCoding_result = Model_evaluation(KNN_clf, X_train_onehotCoding.toarray(), y_train, X_cv_onehotCoding.toarray(), y_cv, \n",
    "                                          X_test_onehotCoding.toarray(), y_test)\n",
    "\n",
    "KNN_metrics_df = pd.DataFrame(\n",
    "columns = ['train_log_loss','cv_log_loss','test_log_loss','cv_Acc (%)','test_Acc (%)'],\n",
    "index = ['Response Encoding', 'One-Hot-Encoding'])\n",
    "KNN_metrics_df.loc['Response Encoding'] = KNN_responseCoding_result\n",
    "KNN_metrics_df.loc['One-Hot-Encoding'] = KNN_onehotCoding_result\n",
    "\n",
    "print(\"Compare Response Encoding and One-Hot-Encoding using KNN:\")\n",
    "KNN_metrics_df\n"
   ]
  },
  {
   "cell_type": "markdown",
   "metadata": {},
   "source": [
    "##### Support Vector Machine (SVM)"
   ]
  },
  {
   "cell_type": "code",
   "execution_count": 55,
   "metadata": {},
   "outputs": [
    {
     "name": "stdout",
     "output_type": "stream",
     "text": [
      "Compare Response Encoding and One-Hot-Encoding using SVM:\n"
     ]
    },
    {
     "data": {
      "text/html": [
       "<div>\n",
       "<style scoped>\n",
       "    .dataframe tbody tr th:only-of-type {\n",
       "        vertical-align: middle;\n",
       "    }\n",
       "\n",
       "    .dataframe tbody tr th {\n",
       "        vertical-align: top;\n",
       "    }\n",
       "\n",
       "    .dataframe thead th {\n",
       "        text-align: right;\n",
       "    }\n",
       "</style>\n",
       "<table border=\"1\" class=\"dataframe\">\n",
       "  <thead>\n",
       "    <tr style=\"text-align: right;\">\n",
       "      <th></th>\n",
       "      <th>train_log_loss</th>\n",
       "      <th>cv_log_loss</th>\n",
       "      <th>test_log_loss</th>\n",
       "      <th>cv_Acc (%)</th>\n",
       "      <th>test_Acc (%)</th>\n",
       "    </tr>\n",
       "  </thead>\n",
       "  <tbody>\n",
       "    <tr>\n",
       "      <th>Response Encoding</th>\n",
       "      <td>0.886483</td>\n",
       "      <td>1.18646</td>\n",
       "      <td>1.28481</td>\n",
       "      <td>62</td>\n",
       "      <td>58</td>\n",
       "    </tr>\n",
       "    <tr>\n",
       "      <th>One-Hot-Encoding</th>\n",
       "      <td>0.725338</td>\n",
       "      <td>1.45769</td>\n",
       "      <td>1.47813</td>\n",
       "      <td>53</td>\n",
       "      <td>53</td>\n",
       "    </tr>\n",
       "  </tbody>\n",
       "</table>\n",
       "</div>"
      ],
      "text/plain": [
       "                  train_log_loss cv_log_loss test_log_loss cv_Acc (%)  \\\n",
       "Response Encoding       0.886483     1.18646       1.28481         62   \n",
       "One-Hot-Encoding        0.725338     1.45769       1.47813         53   \n",
       "\n",
       "                  test_Acc (%)  \n",
       "Response Encoding           58  \n",
       "One-Hot-Encoding            53  "
      ]
     },
     "execution_count": 55,
     "metadata": {},
     "output_type": "execute_result"
    }
   ],
   "source": [
    "# Initialize a classifier object with default params\n",
    "SVM_clf = SVC()\n",
    "# Use Model_evaluation function to evaluate the model\n",
    "SVM_responseCoding_result = Model_evaluation(SVM_clf, X_train_responseCoding, y_train, X_cv_responseCoding, y_cv,\n",
    "                                            X_test_responseCoding, y_test)\n",
    "SVM_onehotCoding_result = Model_evaluation(SVM_clf, X_train_onehotCoding.toarray(), y_train, X_cv_onehotCoding.toarray(), y_cv, \n",
    "                                          X_test_onehotCoding.toarray(), y_test)\n",
    "\n",
    "SVM_metrics_df = pd.DataFrame(\n",
    "columns = ['train_log_loss','cv_log_loss','test_log_loss','cv_Acc (%)','test_Acc (%)'],\n",
    "index = ['Response Encoding', 'One-Hot-Encoding'])\n",
    "SVM_metrics_df.loc['Response Encoding'] = SVM_responseCoding_result\n",
    "SVM_metrics_df.loc['One-Hot-Encoding'] = SVM_onehotCoding_result\n",
    "\n",
    "print(\"Compare Response Encoding and One-Hot-Encoding using SVM:\")\n",
    "SVM_metrics_df"
   ]
  },
  {
   "cell_type": "markdown",
   "metadata": {},
   "source": [
    "##### Random Forest (RF)"
   ]
  },
  {
   "cell_type": "code",
   "execution_count": 56,
   "metadata": {},
   "outputs": [
    {
     "name": "stdout",
     "output_type": "stream",
     "text": [
      "Compare Response Encoding and One-Hot-Encoding using RF:\n"
     ]
    },
    {
     "data": {
      "text/html": [
       "<div>\n",
       "<style scoped>\n",
       "    .dataframe tbody tr th:only-of-type {\n",
       "        vertical-align: middle;\n",
       "    }\n",
       "\n",
       "    .dataframe tbody tr th {\n",
       "        vertical-align: top;\n",
       "    }\n",
       "\n",
       "    .dataframe thead th {\n",
       "        text-align: right;\n",
       "    }\n",
       "</style>\n",
       "<table border=\"1\" class=\"dataframe\">\n",
       "  <thead>\n",
       "    <tr style=\"text-align: right;\">\n",
       "      <th></th>\n",
       "      <th>train_log_loss</th>\n",
       "      <th>cv_log_loss</th>\n",
       "      <th>test_log_loss</th>\n",
       "      <th>cv_Acc (%)</th>\n",
       "      <th>test_Acc (%)</th>\n",
       "    </tr>\n",
       "  </thead>\n",
       "  <tbody>\n",
       "    <tr>\n",
       "      <th>Response Encoding</th>\n",
       "      <td>0.0364591</td>\n",
       "      <td>1.7945</td>\n",
       "      <td>1.83311</td>\n",
       "      <td>29</td>\n",
       "      <td>29</td>\n",
       "    </tr>\n",
       "    <tr>\n",
       "      <th>One-Hot-Encoding</th>\n",
       "      <td>0.374148</td>\n",
       "      <td>1.17851</td>\n",
       "      <td>1.2541</td>\n",
       "      <td>59</td>\n",
       "      <td>58</td>\n",
       "    </tr>\n",
       "  </tbody>\n",
       "</table>\n",
       "</div>"
      ],
      "text/plain": [
       "                  train_log_loss cv_log_loss test_log_loss cv_Acc (%)  \\\n",
       "Response Encoding      0.0364591      1.7945       1.83311         29   \n",
       "One-Hot-Encoding        0.374148     1.17851        1.2541         59   \n",
       "\n",
       "                  test_Acc (%)  \n",
       "Response Encoding           29  \n",
       "One-Hot-Encoding            58  "
      ]
     },
     "execution_count": 56,
     "metadata": {},
     "output_type": "execute_result"
    }
   ],
   "source": [
    "# Initialize a classifier object with default params\n",
    "RF_clf = RandomForestClassifier()\n",
    "# Use Model_evaluation function to evaluate the model\n",
    "RF_responseCoding_result = Model_evaluation(RF_clf, X_train_responseCoding, y_train, X_cv_responseCoding, y_cv,\n",
    "                                            X_test_responseCoding, y_test)\n",
    "RF_onehotCoding_result = Model_evaluation(RF_clf, X_train_onehotCoding.toarray(), y_train, X_cv_onehotCoding.toarray(), y_cv, \n",
    "                                          X_test_onehotCoding.toarray(), y_test)\n",
    "\n",
    "RF_metrics_df = pd.DataFrame(\n",
    "columns = ['train_log_loss','cv_log_loss','test_log_loss','cv_Acc (%)','test_Acc (%)'],\n",
    "index = ['Response Encoding', 'One-Hot-Encoding'])\n",
    "RF_metrics_df.loc['Response Encoding'] = RF_responseCoding_result\n",
    "RF_metrics_df.loc['One-Hot-Encoding'] = RF_onehotCoding_result\n",
    "\n",
    "print(\"Compare Response Encoding and One-Hot-Encoding using RF:\")\n",
    "RF_metrics_df"
   ]
  },
  {
   "cell_type": "markdown",
   "metadata": {},
   "source": [
    "Based on the results, LR and RF classifiers using One-Hot-Encoding technique provide the first  and the second best results, respectively. For the rest of our experiments, we use LR, RF, and One-Hot-Encoding technique."
   ]
  },
  {
   "cell_type": "markdown",
   "metadata": {},
   "source": [
    "### <a id='72'>B. Model 2: Hyperparameter Tuning</a> "
   ]
  },
  {
   "cell_type": "markdown",
   "metadata": {},
   "source": [
    "### <a id='721'>a. Logistic Regression using Hyperparameter Tuning</a> "
   ]
  },
  {
   "cell_type": "code",
   "execution_count": 57,
   "metadata": {},
   "outputs": [
    {
     "name": "stdout",
     "output_type": "stream",
     "text": [
      "Log Loss for alpha = 1e-06 is:  1.3116609680690392\n",
      "Log Loss for alpha = 1e-05 is:  1.2766644613377498\n",
      "Log Loss for alpha = 0.0001 is:  1.1134633800277676\n",
      "Log Loss for alpha = 0.001 is:  1.0800139337017636\n",
      "Log Loss for alpha = 0.01 is:  1.1440416225610062\n",
      "Log Loss for alpha = 0.1 is:  1.3540064124351994\n",
      "Log Loss for alpha = 1 is:  1.583683573338141\n",
      "Log Loss for alpha = 10 is:  1.6210306919877266\n",
      "Log Loss for alpha = 100 is:  1.625306916265727\n"
     ]
    }
   ],
   "source": [
    "# Initialize a classifier object with default params\n",
    "# LR_onehotCoding_result = Model_evaluation(LR_clf, X_train_onehotCoding, y_train, X_cv_onehotCoding, y_cv, X_test_onehotCoding, y_test)\n",
    "\n",
    "alpha = [10 ** x for x in range(-6, 3)]\n",
    "cv_log_loss_array = []\n",
    "for i in alpha:\n",
    "    classifier = SGDClassifier(alpha=i, penalty='l2', loss='log', random_state=42)\n",
    "    classifier.fit(X_train_onehotCoding, y_train)    \n",
    "    sig_classifier = CalibratedClassifierCV(classifier, method=\"sigmoid\")\n",
    "    sig_classifier.fit(X_train_onehotCoding, y_train)\n",
    "    \n",
    "    y_pred_cv_proba = sig_classifier.predict_proba(X_cv_onehotCoding)\n",
    "    \n",
    "    cv_log_loss_array.append(log_loss(y_cv,y_pred_cv_proba))\n",
    "    print(\"Log Loss for alpha =\", i, \"is: \",(log_loss(y_cv,y_pred_cv_proba, eps=1e-15)))\n",
    "   \n"
   ]
  },
  {
   "cell_type": "code",
   "execution_count": 58,
   "metadata": {},
   "outputs": [
    {
     "name": "stdout",
     "output_type": "stream",
     "text": [
      "For LR, the best value of alpha = 0.001 , provides log-loss value of 1.0800139337017636\n"
     ]
    }
   ],
   "source": [
    "# The alpha that give the minimum value of log-loss\n",
    "best_alpha = np.argmin(cv_log_loss_array)\n",
    "\n",
    "print('For LR, the best value of alpha =', alpha[best_alpha],', provides log-loss value of', cv_log_loss_array[best_alpha])"
   ]
  },
  {
   "cell_type": "code",
   "execution_count": 59,
   "metadata": {},
   "outputs": [
    {
     "name": "stdout",
     "output_type": "stream",
     "text": [
      "By using Tuned LR classifier we have:\n",
      "The train log-loss is: 0.505912541080467\n",
      "The cross validation log-loss is: 1.0800139337017636\n",
      "The test log-loss is: 1.2494786119544001\n"
     ]
    }
   ],
   "source": [
    "# Use the best value of alpha to train the classifier\n",
    "classifier = SGDClassifier(alpha=alpha[best_alpha], penalty='l2', loss='log', random_state=42)\n",
    "classifier.fit(X_train_onehotCoding, y_train)    \n",
    "sig_classifier = CalibratedClassifierCV(classifier, method=\"sigmoid\")\n",
    "sig_classifier.fit(X_train_onehotCoding, y_train)\n",
    "\n",
    "log_loss_LR_train = log_loss(y_train, sig_classifier.predict_proba(X_train_onehotCoding))\n",
    "log_loss_LR_cv = log_loss(y_cv, sig_classifier.predict_proba(X_cv_onehotCoding))                                           \n",
    "log_loss_LR_test = log_loss(y_test, sig_classifier.predict_proba(X_test_onehotCoding))\n",
    "\n",
    "print(\"By using Tuned LR classifier we have:\")\n",
    "print(\"The train log-loss is:\",log_loss_LR_train)\n",
    "print(\"The cross validation log-loss is:\",log_loss_LR_cv)\n",
    "print(\"The test log-loss is:\",log_loss_LR_test)"
   ]
  },
  {
   "cell_type": "markdown",
   "metadata": {},
   "source": [
    "### <a id='722'>b. Random Forest using Hyperparameter Tuning</a> "
   ]
  },
  {
   "cell_type": "code",
   "execution_count": 60,
   "metadata": {},
   "outputs": [
    {
     "name": "stdout",
     "output_type": "stream",
     "text": [
      "Log Loss for alpha = 100 and max depth = 5 is:  1.2157149722499943\n",
      "Log Loss for alpha = 100 and max depth = 10 is:  1.1443183162870751\n",
      "Log Loss for alpha = 200 and max depth = 5 is:  1.2063788319833724\n",
      "Log Loss for alpha = 200 and max depth = 10 is:  1.1336617283524495\n",
      "Log Loss for alpha = 500 and max depth = 5 is:  1.2014400753611916\n",
      "Log Loss for alpha = 500 and max depth = 10 is:  1.1335467872348575\n",
      "Log Loss for alpha = 1000 and max depth = 5 is:  1.201793822531273\n",
      "Log Loss for alpha = 1000 and max depth = 10 is:  1.13665359767696\n",
      "Log Loss for alpha = 2000 and max depth = 5 is:  1.203703234772255\n",
      "Log Loss for alpha = 2000 and max depth = 10 is:  1.1373173405500907\n"
     ]
    }
   ],
   "source": [
    "# Initialize a classifier object with default params\n",
    "alpha = [100,200,500,1000,2000]\n",
    "max_depth = [5, 10]\n",
    "cv_log_loss_array = []\n",
    "for i in alpha:\n",
    "    for j in max_depth:\n",
    "        classifier = RandomForestClassifier(n_estimators=i, criterion='gini', max_depth=j, random_state=42, n_jobs=-1)\n",
    "        classifier.fit(X_train_onehotCoding, y_train)    \n",
    "        sig_classifier = CalibratedClassifierCV(classifier, method=\"sigmoid\")\n",
    "        sig_classifier.fit(X_train_onehotCoding, y_train)\n",
    "\n",
    "        y_pred_cv_proba = sig_classifier.predict_proba(X_cv_onehotCoding)\n",
    "\n",
    "        cv_log_loss_array.append(log_loss(y_cv,y_pred_cv_proba))\n",
    "        print(\"Log Loss for alpha =\", i, \"and max depth =\", j, \"is: \",(log_loss(y_cv,y_pred_cv_proba, eps=1e-15)))"
   ]
  },
  {
   "cell_type": "code",
   "execution_count": 61,
   "metadata": {},
   "outputs": [
    {
     "name": "stdout",
     "output_type": "stream",
     "text": [
      "For RF, the best value of alpha =  500 and max depth = 10 , provides log-loss value of 1.1335467872348575\n"
     ]
    }
   ],
   "source": [
    "# The alpha that give the minimum value of log-loss\n",
    "best_alpha = np.argmin(cv_log_loss_array)\n",
    "\n",
    "print('For RF, the best value of alpha = ', alpha[int(best_alpha/2)], 'and max depth =', \n",
    "      max_depth[int(best_alpha%2)],', provides log-loss value of', cv_log_loss_array[best_alpha])"
   ]
  },
  {
   "cell_type": "code",
   "execution_count": 62,
   "metadata": {},
   "outputs": [
    {
     "name": "stdout",
     "output_type": "stream",
     "text": [
      "By using Tuned RF classifier we have:\n",
      "The train log-loss is: 0.6757988808182556\n",
      "The cross validation log-loss is: 1.1335467872348575\n",
      "The test log-loss is: 1.2251900663727597\n"
     ]
    }
   ],
   "source": [
    "classifier = RandomForestClassifier(n_estimators=alpha[int(best_alpha/2)], criterion='gini', \n",
    "                                    max_depth=max_depth[int(best_alpha%2)], random_state=42, n_jobs=-1)\n",
    "classifier.fit(X_train_onehotCoding, y_train)    \n",
    "sig_classifier = CalibratedClassifierCV(classifier, method=\"sigmoid\")\n",
    "sig_classifier.fit(X_train_onehotCoding, y_train)\n",
    "\n",
    "log_loss_RF_train = log_loss(y_train, sig_classifier.predict_proba(X_train_onehotCoding))\n",
    "log_loss_RF_cv = log_loss(y_cv, sig_classifier.predict_proba(X_cv_onehotCoding))                                           \n",
    "log_loss_RF_test = log_loss(y_test, sig_classifier.predict_proba(X_test_onehotCoding))\n",
    "\n",
    "print(\"By using Tuned RF classifier we have:\")\n",
    "print(\"The train log-loss is:\",log_loss_RF_train)\n",
    "print(\"The cross validation log-loss is:\",log_loss_RF_cv)\n",
    "print(\"The test log-loss is:\",log_loss_RF_test)\n",
    "\n"
   ]
  },
  {
   "cell_type": "markdown",
   "metadata": {},
   "source": [
    "### <a id='73'>C. Model 3: Stacking Model</a> "
   ]
  },
  {
   "cell_type": "code",
   "execution_count": 63,
   "metadata": {},
   "outputs": [
    {
     "name": "stdout",
     "output_type": "stream",
     "text": [
      "Logistic Regression:  Log Loss: 1.08 =\n",
      "Random Forest: Log Loss: 1.13 = \n",
      "----------------------------------------------------------------------------------------------------\n",
      "Stacking Classifer: for the value of alpha = 0.000100 Log Loss: 1.816 is\n",
      "Stacking Classifer: for the value of alpha = 0.001000 Log Loss: 1.707 is\n",
      "Stacking Classifer: for the value of alpha = 0.010000 Log Loss: 1.308 is\n",
      "Stacking Classifer: for the value of alpha = 0.100000 Log Loss: 1.122 is\n",
      "Stacking Classifer: for the value of alpha = 1.000000 Log Loss: 1.356 is\n",
      "Stacking Classifer: for the value of alpha = 10.000000 Log Loss: 1.734 is\n"
     ]
    }
   ],
   "source": [
    "# Logistic Regression\n",
    "classifierLR = SGDClassifier(alpha=0.001, penalty='l2', loss='log', random_state=42)\n",
    "classifierLR.fit(X_train_onehotCoding, y_train) \n",
    "sig_classifierLR = CalibratedClassifierCV(classifierLR, method=\"sigmoid\")\n",
    "sig_classifierLR.fit(X_train_onehotCoding, y_train)\n",
    "y_LRpred_cv_proba = sig_classifierLR.predict_proba(X_cv_onehotCoding)\n",
    "\n",
    "# Random Forest\n",
    "classifierRF = RandomForestClassifier(n_estimators=500, criterion='gini', max_depth=10, random_state=42, n_jobs=-1)\n",
    "classifierRF.fit(X_train_onehotCoding, y_train)    \n",
    "sig_classifierRF = CalibratedClassifierCV(classifierRF, method=\"sigmoid\")\n",
    "sig_classifierRF.fit(X_train_onehotCoding, y_train)\n",
    "y_RFpred_cv_proba = sig_classifierRF.predict_proba(X_cv_onehotCoding)\n",
    "\n",
    "print(\"Logistic Regression:  Log Loss: %0.2f =\" % (log_loss(y_cv, y_LRpred_cv_proba)))\n",
    "print(\"Random Forest: Log Loss: %0.2f = \" % (log_loss(y_cv, y_RFpred_cv_proba)))\n",
    "print(\"-\"*100)\n",
    "alpha = [0.0001,0.001,0.01,0.1,1,10] \n",
    "cv_log_loss_array = []\n",
    "best_alpha = 999\n",
    "for i in alpha:\n",
    "    lr = LogisticRegression(C=i)\n",
    "    StackingClassifer = StackingClassifier(classifiers=[sig_classifierLR, sig_classifierRF], \n",
    "                                           meta_classifier=lr, use_probas=True)\n",
    "    StackingClassifer.fit(X_train_onehotCoding, y_train)\n",
    "    log_loss_StackingClassifer = log_loss(y_cv, StackingClassifer.predict_proba(X_cv_onehotCoding))\n",
    "    print(\"Stacking Classifer: for the value of alpha = %f Log Loss: %0.3f is\" % (i, log_loss_StackingClassifer))\n",
    "    cv_log_loss_array.append(log_loss_StackingClassifer)\n",
    "    "
   ]
  },
  {
   "cell_type": "code",
   "execution_count": 64,
   "metadata": {},
   "outputs": [
    {
     "name": "stdout",
     "output_type": "stream",
     "text": [
      "For Stacking Classifer, the best value of alpha is 0.1\n"
     ]
    }
   ],
   "source": [
    "# The alpha that give the minimum value of log-loss\n",
    "best_alpha = np.argmin(cv_log_loss_array)\n",
    "\n",
    "print('For Stacking Classifer, the best value of alpha is', alpha[best_alpha])"
   ]
  },
  {
   "cell_type": "code",
   "execution_count": 65,
   "metadata": {},
   "outputs": [
    {
     "name": "stdout",
     "output_type": "stream",
     "text": [
      "By using Stacking Classifer we have:\n",
      "The train log-loss is: 0.9129089410128405\n",
      "The cross validation log-loss is: 1.279622378823506\n",
      "The test log-loss is: 1.3572488220174919\n"
     ]
    }
   ],
   "source": [
    "lr = LogisticRegression(C = alpha[best_alpha])\n",
    "Classifer = StackingClassifier(classifiers=[sig_classifierLR, sig_classifierRF], meta_classifier=lr, use_probas=True)\n",
    "classifier.fit(X_train_onehotCoding, y_train)    \n",
    "\n",
    "log_loss_StackingClassifer_train = log_loss(y_train, classifier.predict_proba(X_train_onehotCoding))\n",
    "log_loss_StackingClassifer_cv = log_loss(y_cv, classifier.predict_proba(X_cv_onehotCoding))                                           \n",
    "log_loss_StackingClassifer_test = log_loss(y_test, classifier.predict_proba(X_test_onehotCoding))\n",
    "\n",
    "print(\"By using Stacking Classifer we have:\")\n",
    "print(\"The train log-loss is:\",log_loss_StackingClassifer_train)#log_loss(y_train, y_pred_train_proba, labels=classifier.classes_, eps=1e-15))\n",
    "print(\"The cross validation log-loss is:\",log_loss_StackingClassifer_cv)#log_loss(y_cv, y_pred_cv_proba, labels=classifier.classes_, eps=1e-15))\n",
    "print(\"The test log-loss is:\",log_loss_StackingClassifer_test)#log_loss(y_test, y_pred_test_proba, labels=classifier.classes_, eps=1e-15))"
   ]
  },
  {
   "cell_type": "markdown",
   "metadata": {},
   "source": [
    "### <a id='74'>D. Model 4: Voting Classifier</a> "
   ]
  },
  {
   "cell_type": "code",
   "execution_count": 66,
   "metadata": {},
   "outputs": [
    {
     "name": "stdout",
     "output_type": "stream",
     "text": [
      "By using Voting Classifer we have:\n",
      "The train log-loss is: 0.5706206852330493\n",
      "The cross validation log-loss is: 1.0046195701950729\n",
      "The test log-loss is: 1.1301653120307023\n"
     ]
    }
   ],
   "source": [
    "vclassifier = VotingClassifier(estimators=[('lr', sig_classifierLR), ('RF', sig_classifierRF)], voting='soft')\n",
    "vclassifier.fit(X_train_onehotCoding, y_train) \n",
    "                      \n",
    "log_loss_vclassifier_train = log_loss(y_train, vclassifier.predict_proba(X_train_onehotCoding))\n",
    "log_loss_vclassifier_cv = log_loss(y_cv, vclassifier.predict_proba(X_cv_onehotCoding))                                           \n",
    "log_loss_vclassifier_test = log_loss(y_test, vclassifier.predict_proba(X_test_onehotCoding))\n",
    "\n",
    "print(\"By using Voting Classifer we have:\")\n",
    "print(\"The train log-loss is:\", log_loss_vclassifier_train)\n",
    "print(\"The cross validation log-loss is:\", log_loss_vclassifier_cv)\n",
    "print(\"The test log-loss is:\", log_loss_vclassifier_test)"
   ]
  },
  {
   "cell_type": "markdown",
   "metadata": {},
   "source": [
    "## <a id = 8 > 8. Conclusion"
   ]
  },
  {
   "cell_type": "code",
   "execution_count": 67,
   "metadata": {},
   "outputs": [
    {
     "data": {
      "text/html": [
       "<div>\n",
       "<style scoped>\n",
       "    .dataframe tbody tr th:only-of-type {\n",
       "        vertical-align: middle;\n",
       "    }\n",
       "\n",
       "    .dataframe tbody tr th {\n",
       "        vertical-align: top;\n",
       "    }\n",
       "\n",
       "    .dataframe thead th {\n",
       "        text-align: right;\n",
       "    }\n",
       "</style>\n",
       "<table border=\"1\" class=\"dataframe\">\n",
       "  <thead>\n",
       "    <tr style=\"text-align: right;\">\n",
       "      <th></th>\n",
       "      <th>Model 1</th>\n",
       "      <th>Model 2 (LR)</th>\n",
       "      <th>Model 2 (RF)</th>\n",
       "      <th>Model 3</th>\n",
       "      <th>Model 4</th>\n",
       "    </tr>\n",
       "  </thead>\n",
       "  <tbody>\n",
       "    <tr>\n",
       "      <th>log-loss (Test set)</th>\n",
       "      <td>1.135065</td>\n",
       "      <td>1.249479</td>\n",
       "      <td>1.22519</td>\n",
       "      <td>1.357249</td>\n",
       "      <td>1.130165</td>\n",
       "    </tr>\n",
       "  </tbody>\n",
       "</table>\n",
       "</div>"
      ],
      "text/plain": [
       "                      Model 1  Model 2 (LR)  Model 2 (RF)   Model 3   Model 4\n",
       "log-loss (Test set)  1.135065      1.249479       1.22519  1.357249  1.130165"
      ]
     },
     "execution_count": 67,
     "metadata": {},
     "output_type": "execute_result"
    }
   ],
   "source": [
    "metrics_df_conc = pd.DataFrame(\n",
    "columns = ['Model 1','Model 2 (LR)','Model 2 (RF)', 'Model 3','Model 4'],\n",
    "index = ['log-loss (Test set)'])\n",
    "metrics_df_conc['Model 1'] = LR_onehotCoding_result['test_log_loss']\n",
    "metrics_df_conc['Model 2 (LR)'] = log_loss_LR_test\n",
    "metrics_df_conc['Model 2 (RF)'] = log_loss_RF_test\n",
    "metrics_df_conc['Model 3'] = log_loss_StackingClassifer_test\n",
    "metrics_df_conc['Model 4'] = log_loss_vclassifier_test\n",
    "metrics_df_conc"
   ]
  },
  {
   "cell_type": "markdown",
   "metadata": {},
   "source": [
    "###### In summary, the results show that the Model 4  provides the best log-loss compared to other models. "
   ]
  },
  {
   "cell_type": "code",
   "execution_count": 68,
   "metadata": {},
   "outputs": [],
   "source": [
    "# confusion_matrix_test = confusion_matrix(y_test, y_pred_test)\n",
    "# ModelSpe = 'Random Model'\n",
    "\n",
    "# g = plt.figure(figsize=(15,5))\n",
    "# labels = [1,2,3,4,5,6,7,8,9]\n",
    "# ax = sns.heatmap(confusion_matrix_test,cmap=\"YlGnBu\", annot=True, annot_kws={\"size\": 16},xticklabels=labels, yticklabels=labels) # font size\n",
    "# plt.title('Confusion Matrix - '+ ModelSpe, fontsize = 20) # title with fontsize 20\n",
    "# plt.xlabel('Predicted Label', fontsize = 15) # x-axis label with fontsize 15\n",
    "# plt.ylabel('True Label', fontsize = 15) # y-axis label with fontsize 15\n",
    "# ax.set_xticklabels(ax.get_xticklabels(), rotation=45, horizontalalignment='right')\n",
    "# ax.set_yticklabels(ax.get_yticklabels(), rotation=45, horizontalalignment='right')\n",
    "# g.show()\n"
   ]
  }
 ],
 "metadata": {
  "kernelspec": {
   "display_name": "Python 3",
   "language": "python",
   "name": "python3"
  },
  "language_info": {
   "codemirror_mode": {
    "name": "ipython",
    "version": 3
   },
   "file_extension": ".py",
   "mimetype": "text/x-python",
   "name": "python",
   "nbconvert_exporter": "python",
   "pygments_lexer": "ipython3",
   "version": "3.8.3"
  }
 },
 "nbformat": 4,
 "nbformat_minor": 4
}
